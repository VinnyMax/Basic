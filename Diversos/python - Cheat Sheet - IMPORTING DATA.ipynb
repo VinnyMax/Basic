{
 "cells": [
  {
   "cell_type": "markdown",
   "metadata": {},
   "source": [
    "## Importing Data in Python"
   ]
  },
  {
   "cell_type": "markdown",
   "metadata": {},
   "source": [
    "Most of the time, you’ll use either NumPy or pandas to import your data:\n",
    "import numpy as np \n",
    "import pandas as pd"
   ]
  },
  {
   "cell_type": "code",
   "execution_count": null,
   "metadata": {},
   "outputs": [],
   "source": [
    "## Help\n",
    "np.info(np.ndarray.dtype) \n",
    "help(pd.read_csv)"
   ]
  },
  {
   "cell_type": "markdown",
   "metadata": {},
   "source": [
    "## Text Files "
   ]
  },
  {
   "cell_type": "markdown",
   "metadata": {},
   "source": [
    "### Plain Text Files"
   ]
  },
  {
   "cell_type": "code",
   "execution_count": null,
   "metadata": {},
   "outputs": [],
   "source": [
    "filename = 'Exemplo.txt' \n",
    "file = open(filename, mode='r')   # Open the file for reading \n",
    "text = file.read()                # Read a file’s contents \n",
    "print(file.closed)                # Check whether file is closed  \n",
    "file.close()                      # Close file\n",
    "print(text)"
   ]
  },
  {
   "cell_type": "code",
   "execution_count": null,
   "metadata": {},
   "outputs": [],
   "source": [
    "# Using the context manager with\n",
    "with open('Exemplo.txt', 'r') as file:\n",
    "    print(file.readline())               #Read a single line        \n",
    "    print(file.readline())        \n",
    "    print(file.readline())"
   ]
  },
  {
   "cell_type": "markdown",
   "metadata": {},
   "source": [
    "### Table Data: Flat Files"
   ]
  },
  {
   "cell_type": "markdown",
   "metadata": {},
   "source": [
    "#### Importing Flat Files with numpy"
   ]
  },
  {
   "cell_type": "markdown",
   "metadata": {},
   "source": [
    "#####  Files with one data type"
   ]
  },
  {
   "cell_type": "code",
   "execution_count": null,
   "metadata": {},
   "outputs": [],
   "source": [
    "filename = ‘mnist.txt’ \n",
    "data = np.loadtxt(filename,                       \n",
    "                      delimiter=',', # String used to separate values                       \n",
    "                      skiprows=2,    # Skip the first 2 lines                       \n",
    "                      usecols=[0,2], # Read the 1st and 3rd column \n",
    "                      dtype=str)     # The type of the resulting array "
   ]
  },
  {
   "cell_type": "markdown",
   "metadata": {},
   "source": [
    "##### Files with mixed data types\n"
   ]
  },
  {
   "cell_type": "code",
   "execution_count": null,
   "metadata": {},
   "outputs": [],
   "source": [
    "filename = 'titanic.csv' \n",
    "data = np.genfromtxt(filename,                          \n",
    "                     delimiter=',',                          \n",
    "                     names=True,    # Look for column header                         \n",
    "                     dtype=None)"
   ]
  },
  {
   "cell_type": "code",
   "execution_count": null,
   "metadata": {},
   "outputs": [],
   "source": [
    "data_array = np.recfromcsv(filename)\n",
    "# The default dtype of the np.recfromcsv() function is None. "
   ]
  },
  {
   "cell_type": "markdown",
   "metadata": {},
   "source": [
    "#### Importing Flat Files with pandas"
   ]
  },
  {
   "cell_type": "code",
   "execution_count": null,
   "metadata": {},
   "outputs": [],
   "source": [
    "filename = 'winequality-red.csv'\n",
    "data = pd.read_csv(filename,\n",
    "                   nrows=5,        # Number of rows of file to read                       \n",
    "                   header=None,    # Row number to use as col names                       \n",
    "                   sep='\\t',       # Delimiter to use                       \n",
    "                   comment='#',    # Character to split comments                        \n",
    "                   na_values=[\"\"]) # String to recognize as NA/NaN"
   ]
  },
  {
   "cell_type": "markdown",
   "metadata": {},
   "source": [
    "### Excel Spreadsheets"
   ]
  },
  {
   "cell_type": "code",
   "execution_count": null,
   "metadata": {},
   "outputs": [],
   "source": [
    "file = 'urbanpop.xlsx' \n",
    "data = pd.ExcelFile(file) \n",
    "df_sheet2 = data.parse('1960-1966',                            \n",
    "                           skiprows=[0],                            \n",
    "                           names=['Country',                                   \n",
    "                                  'AAM: War(2002)']) \n",
    "df_sheet1 = data.parse(0,                           \n",
    "                           parse_cols=[0],                            \n",
    "                           skiprows=[0],                            \n",
    "                           names=['Country'])\n",
    "\n",
    "# To access the sheet names, use the sheet_names attribute:\n",
    " data.sheet_names"
   ]
  },
  {
   "cell_type": "markdown",
   "metadata": {},
   "source": [
    "### SAS Files"
   ]
  },
  {
   "cell_type": "code",
   "execution_count": null,
   "metadata": {},
   "outputs": [],
   "source": [
    "from sas7bdat import SAS7BDAT \n",
    "with SAS7BDAT('urbanpop.sas7bdat') as file: \n",
    "    df_sas = file.to_data_frame()"
   ]
  },
  {
   "cell_type": "markdown",
   "metadata": {},
   "source": [
    "### Stata Files"
   ]
  },
  {
   "cell_type": "code",
   "execution_count": null,
   "metadata": {},
   "outputs": [],
   "source": [
    "data = pd.read_stata('urbanpop.dta')"
   ]
  },
  {
   "cell_type": "markdown",
   "metadata": {},
   "source": [
    "# Relational Databases "
   ]
  },
  {
   "cell_type": "code",
   "execution_count": null,
   "metadata": {},
   "outputs": [],
   "source": [
    "from sqlalchemy import create_engine \n",
    "engine = create_engine('sqlite://Northwind.sqlite')"
   ]
  },
  {
   "cell_type": "markdown",
   "metadata": {},
   "source": [
    "Use the <b>table_names()</b> method to fetch a list of table names:"
   ]
  },
  {
   "cell_type": "code",
   "execution_count": null,
   "metadata": {},
   "outputs": [],
   "source": [
    "table_names = engine.table_names() "
   ]
  },
  {
   "cell_type": "markdown",
   "metadata": {},
   "source": [
    "### Querying Relational Databases "
   ]
  },
  {
   "cell_type": "code",
   "execution_count": null,
   "metadata": {},
   "outputs": [],
   "source": [
    "con = engine.connect() \n",
    "rs = con.execute(\"SELECT * FROM Orders\") \n",
    "df = pd.DataFrame(rs.fetchall()) \n",
    "df.columns = rs.keys() \n",
    "con.close()"
   ]
  },
  {
   "cell_type": "markdown",
   "metadata": {},
   "source": [
    " Using the context manager <b>with</b>"
   ]
  },
  {
   "cell_type": "code",
   "execution_count": null,
   "metadata": {},
   "outputs": [],
   "source": [
    "with engine.connect() as con: \n",
    "    rs = con.execute(\"SELECT OrderID FROM Orders\") \n",
    "    df = pd.DataFrame(rs.fetchmany(size=5)) \n",
    "    df.columns = rs.keys()"
   ]
  },
  {
   "cell_type": "markdown",
   "metadata": {},
   "source": [
    "### Querying relational databases with pandas"
   ]
  },
  {
   "cell_type": "code",
   "execution_count": null,
   "metadata": {},
   "outputs": [],
   "source": [
    "df = pd.read_sql_query(\"SELECT * FROM Orders\", engine)"
   ]
  },
  {
   "cell_type": "markdown",
   "metadata": {},
   "source": [
    "## Exploring Your Data"
   ]
  },
  {
   "cell_type": "markdown",
   "metadata": {},
   "source": [
    "### NumPy Arrays"
   ]
  },
  {
   "cell_type": "code",
   "execution_count": null,
   "metadata": {},
   "outputs": [],
   "source": [
    "data_array.dtype               #Data type of array elements \n",
    "data_array.shape               #Array dimensions \n",
    "len(data_array)                #Length of array "
   ]
  },
  {
   "cell_type": "markdown",
   "metadata": {},
   "source": [
    "### pandas DataFrames"
   ]
  },
  {
   "cell_type": "code",
   "execution_count": null,
   "metadata": {},
   "outputs": [],
   "source": [
    "df.head()                      # Return first DataFrame rows \n",
    "df.tail()                      # Return last DataFrame rows           \n",
    "df.index                       # Describe index \n",
    "df.columns                     # Describe DataFrame columns \n",
    "df.info()                      # Info on DataFrame \n",
    "data_array = data.values       # Convert a DataFrame to an a NumPy array"
   ]
  },
  {
   "cell_type": "markdown",
   "metadata": {},
   "source": [
    "## Pickled Files"
   ]
  },
  {
   "cell_type": "code",
   "execution_count": null,
   "metadata": {},
   "outputs": [],
   "source": [
    "import pickle \n",
    "with open('pickled_fruit.pkl', 'rb') as file: pickled_data = pickle.load(file)"
   ]
  },
  {
   "cell_type": "markdown",
   "metadata": {},
   "source": [
    "## HDF5 Files"
   ]
  },
  {
   "cell_type": "code",
   "execution_count": null,
   "metadata": {},
   "outputs": [],
   "source": [
    "import h5py \n",
    "filename = 'H-H1_LOSC_4_v1-815411200-4096.hdf5' \n",
    "data = h5py.File(filename, 'r')"
   ]
  },
  {
   "cell_type": "markdown",
   "metadata": {},
   "source": [
    "## Matlab Files"
   ]
  },
  {
   "cell_type": "code",
   "execution_count": null,
   "metadata": {},
   "outputs": [],
   "source": [
    "import scipy.io \n",
    "filename = 'workspace.mat' \n",
    "mat = scipy.io.loadmat(filename)"
   ]
  },
  {
   "cell_type": "markdown",
   "metadata": {},
   "source": [
    "## Exploring Dictionaries"
   ]
  },
  {
   "cell_type": "markdown",
   "metadata": {},
   "source": [
    "### Accessing Elements with Functions "
   ]
  },
  {
   "cell_type": "code",
   "execution_count": null,
   "metadata": {},
   "outputs": [],
   "source": [
    "print(mat.keys())          # Print dictionary keys \n",
    "for key in data.keys():# Print dictionary keys  \n",
    "    print(key)\n",
    "    #meta  \n",
    "    #quality \n",
    "    #strain \n",
    "pickled_data.values()      # Return dictionary values \n",
    "print(mat.items())         # Returns items in list format of (key, value) tuple pairs"
   ]
  },
  {
   "cell_type": "markdown",
   "metadata": {},
   "source": [
    "### Accessing Data Items with Keys"
   ]
  },
  {
   "cell_type": "code",
   "execution_count": null,
   "metadata": {},
   "outputs": [],
   "source": [
    "for key in data ['meta'].keys()      #Explore the HDF5 structure  \n",
    "    print(key) \n",
    "    #Description \n",
    "    #DescriptionURL \n",
    "    #Detector \n",
    "    #Duration \n",
    "    #GPSstart \n",
    "    #Observatory \n",
    "    #Type \n",
    "    #UTCstart \n",
    "print(data['meta']['Description'].value) # Retrieve the value for a key "
   ]
  },
  {
   "cell_type": "markdown",
   "metadata": {},
   "source": [
    "## Navigating Your FileSystem"
   ]
  },
  {
   "cell_type": "markdown",
   "metadata": {},
   "source": [
    "### Magic Commands\n"
   ]
  },
  {
   "cell_type": "code",
   "execution_count": null,
   "metadata": {},
   "outputs": [],
   "source": [
    "!ls                    # List directory contents of files and directories \n",
    "%cd ..                 # Change current working directory   \n",
    "%pwd                   # Return the current working directory path"
   ]
  },
  {
   "cell_type": "markdown",
   "metadata": {},
   "source": [
    "### os Library"
   ]
  },
  {
   "cell_type": "code",
   "execution_count": null,
   "metadata": {},
   "outputs": [],
   "source": [
    "import os \n",
    "path = \"/usr/tmp\" \n",
    "wd = os.getcwd()       # Store the name of current directory in a string \n",
    "os.listdir(wd)         # Output contents of the directory in a list \n",
    "os.chdir(path)         # Change current working directory \n",
    "os.rename(\"test1.txt\", \n",
    "          \"test2.txt\") # Rename a file               \n",
    "os.remove(\"test1.txt\") # Delete an existing file \n",
    "os.mkdir(\"newdir\")     # Create a new directory"
   ]
  }
 ],
 "metadata": {
  "kernelspec": {
   "display_name": "Python 3",
   "language": "python",
   "name": "python3"
  },
  "language_info": {
   "codemirror_mode": {
    "name": "ipython",
    "version": 3
   },
   "file_extension": ".py",
   "mimetype": "text/x-python",
   "name": "python",
   "nbconvert_exporter": "python",
   "pygments_lexer": "ipython3",
   "version": "3.6.5"
  }
 },
 "nbformat": 4,
 "nbformat_minor": 2
}
