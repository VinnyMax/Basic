{
 "cells": [
  {
   "cell_type": "code",
   "execution_count": 1,
   "id": "6a01b3d8",
   "metadata": {},
   "outputs": [],
   "source": [
    "import pandas as pd"
   ]
  },
  {
   "cell_type": "code",
   "execution_count": 2,
   "id": "a16132f9",
   "metadata": {},
   "outputs": [],
   "source": [
    "df1 = pd.read_csv('2021-01.csv', sep =';')\n",
    "df2 = pd.read_csv('2021-02.csv', sep =';')\n",
    "df3 = pd.read_csv('2021-03.csv', sep =';')\n",
    "df4 = pd.read_csv('2021-04.csv', sep =';')\n",
    "df5 = pd.read_csv('2021-05.csv', sep =';')\n",
    "df6 = pd.read_csv('2021-06.csv', sep =';')\n",
    "df7 = pd.read_csv('2021-07.csv', sep =';')\n",
    "df8 = pd.read_csv('2021-08.csv', sep =';')\n",
    "df9 = pd.read_csv('2021-09.csv', sep =';')\n",
    "df10 = pd.read_csv('2021-10.csv', sep =';')\n",
    "df11 = pd.read_csv('2021-11.csv', sep =';')\n",
    "df12 = pd.read_csv('2021-12.csv', sep =';')"
   ]
  },
  {
   "cell_type": "code",
   "execution_count": null,
   "id": "c0bda3df",
   "metadata": {},
   "outputs": [],
   "source": [
    "#df = df[(df['Segmento de Mercado']== 'Bancos, Financeiras e Administradoras de Cartão') |(df['Segmento de Mercado']== 'Corretoras e Sociedades de Seguros, Capitalização e Previdência')]"
   ]
  },
  {
   "cell_type": "code",
   "execution_count": 12,
   "id": "c712e974",
   "metadata": {},
   "outputs": [],
   "source": [
    "df1 = df1.loc[df1['Segmento de Mercado'].isin(['Bancos, Financeiras e Administradoras de Cartão','Seguros, Capitalização e Previdência','Administradoras de Consórcios',\n",
    "'Corretoras e Distribuidoras de Títulos e Investimentos'])]\n",
    "\n",
    "df2 = df2.loc[df2['Segmento de Mercado'].isin(['Bancos, Financeiras e Administradoras de Cartão','Seguros, Capitalização e Previdência','Administradoras de Consórcios',\n",
    "'Corretoras e Distribuidoras de Títulos e Investimentos'])]\n",
    "\n",
    "df3 = df3.loc[df3['Segmento de Mercado'].isin(['Bancos, Financeiras e Administradoras de Cartão','Seguros, Capitalização e Previdência','Administradoras de Consórcios',\n",
    "'Corretoras e Distribuidoras de Títulos e Investimentos'])]\n",
    "\n",
    "df4 = df4.loc[df4['Segmento de Mercado'].isin(['Bancos, Financeiras e Administradoras de Cartão','Seguros, Capitalização e Previdência','Administradoras de Consórcios',\n",
    "'Corretoras e Distribuidoras de Títulos e Investimentos'])]\n",
    "\n",
    "df5 = df5.loc[df5['Segmento de Mercado'].isin(['Bancos, Financeiras e Administradoras de Cartão','Seguros, Capitalização e Previdência','Administradoras de Consórcios',\n",
    "'Corretoras e Distribuidoras de Títulos e Investimentos'])]\n",
    "\n",
    "df6 = df6.loc[df6['Segmento de Mercado'].isin(['Bancos, Financeiras e Administradoras de Cartão','Seguros, Capitalização e Previdência','Administradoras de Consórcios',\n",
    "'Corretoras e Distribuidoras de Títulos e Investimentos'])]\n",
    "\n",
    "df7 = df7.loc[df7['Segmento de Mercado'].isin(['Bancos, Financeiras e Administradoras de Cartão','Seguros, Capitalização e Previdência','Administradoras de Consórcios',\n",
    "'Corretoras e Distribuidoras de Títulos e Investimentos'])]\n",
    "\n",
    "df8 = df8.loc[df8['Segmento de Mercado'].isin(['Bancos, Financeiras e Administradoras de Cartão','Seguros, Capitalização e Previdência','Administradoras de Consórcios',\n",
    "'Corretoras e Distribuidoras de Títulos e Investimentos'])]\n",
    "\n",
    "df9 = df9.loc[df9['Segmento de Mercado'].isin(['Bancos, Financeiras e Administradoras de Cartão','Seguros, Capitalização e Previdência','Administradoras de Consórcios',\n",
    "'Corretoras e Distribuidoras de Títulos e Investimentos'])]\n",
    "\n",
    "df10 = df10.loc[df10['Segmento de Mercado'].isin(['Bancos, Financeiras e Administradoras de Cartão','Seguros, Capitalização e Previdência','Administradoras de Consórcios',\n",
    "'Corretoras e Distribuidoras de Títulos e Investimentos'])]\n",
    "\n",
    "df11 = df11.loc[df11['Segmento de Mercado'].isin(['Bancos, Financeiras e Administradoras de Cartão','Seguros, Capitalização e Previdência','Administradoras de Consórcios',\n",
    "'Corretoras e Distribuidoras de Títulos e Investimentos'])]\n",
    "\n",
    "df12 = df12.loc[df12['Segmento de Mercado'].isin(['Bancos, Financeiras e Administradoras de Cartão','Seguros, Capitalização e Previdência','Administradoras de Consórcios',\n",
    "'Corretoras e Distribuidoras de Títulos e Investimentos'])]"
   ]
  },
  {
   "cell_type": "code",
   "execution_count": 13,
   "id": "376574bf",
   "metadata": {},
   "outputs": [],
   "source": [
    "df1['MES'] = '202101'\n",
    "df2['MES'] = '202102'\n",
    "df3['MES'] = '202103'\n",
    "df4['MES'] = '202104'\n",
    "df5['MES'] = '202105'\n",
    "df6['MES'] = '202106'\n",
    "df7['MES'] = '202107'\n",
    "df8['MES'] = '202108'\n",
    "df9['MES'] = '202109'\n",
    "df10['MES'] = '20210'\n",
    "df11['MES'] = '20211'\n",
    "df12['MES'] = '20212'"
   ]
  },
  {
   "cell_type": "code",
   "execution_count": 14,
   "id": "d949c86f",
   "metadata": {},
   "outputs": [],
   "source": [
    "Frames = [df1, df2, df3, df4, df5, df6, df7, df8, df9, df10, df11, df12]\n",
    "df = pd.concat(Frames)"
   ]
  },
  {
   "cell_type": "code",
   "execution_count": null,
   "id": "a65d9f5c",
   "metadata": {},
   "outputs": [],
   "source": [
    "def nomeConglomerado():\n",
    "    if df['Nome Fantasia']"
   ]
  },
  {
   "cell_type": "code",
   "execution_count": 15,
   "id": "56958048",
   "metadata": {},
   "outputs": [],
   "source": [
    "df['Conglomerado'] = df['Nome Fantasia']"
   ]
  },
  {
   "cell_type": "code",
   "execution_count": 16,
   "id": "8aa1f516",
   "metadata": {},
   "outputs": [],
   "source": [
    "df.to_excel('Consolidado2021_2.xlsx')"
   ]
  },
  {
   "cell_type": "code",
   "execution_count": null,
   "id": "b6c3b5b0",
   "metadata": {},
   "outputs": [],
   "source": []
  }
 ],
 "metadata": {
  "kernelspec": {
   "display_name": "Python 3 (ipykernel)",
   "language": "python",
   "name": "python3"
  },
  "language_info": {
   "codemirror_mode": {
    "name": "ipython",
    "version": 3
   },
   "file_extension": ".py",
   "mimetype": "text/x-python",
   "name": "python",
   "nbconvert_exporter": "python",
   "pygments_lexer": "ipython3",
   "version": "3.9.6"
  }
 },
 "nbformat": 4,
 "nbformat_minor": 5
}
