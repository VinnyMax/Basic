{
 "cells": [
  {
   "cell_type": "raw",
   "id": "083168f3",
   "metadata": {},
   "source": [
    "pureza é quando uma folha contém apenas uma classe ou pelo menos duas classes com informações identicas que neste caso não tem como separar a classe.\n",
    "\n",
    "\n",
    "As quebras são deterministicas : se < 2 então a se não B\n",
    "existem arvores que são probabilisticas.\n",
    "\n"
   ]
  },
  {
   "cell_type": "markdown",
   "id": "ec29a6f0",
   "metadata": {},
   "source": [
    "#### Importação das bibliotecas necessárias"
   ]
  },
  {
   "cell_type": "code",
   "execution_count": 1,
   "id": "0ac77597",
   "metadata": {},
   "outputs": [],
   "source": [
    "from sklearn.tree import export_graphviz\n",
    "from sklearn.datasets import load_iris\n",
    "from sklearn import tree\n",
    "import numpy as np\n",
    "import pandas as pd"
   ]
  },
  {
   "cell_type": "markdown",
   "id": "bfc61d40",
   "metadata": {},
   "source": [
    "#### Carregando a base de dados iris"
   ]
  },
  {
   "cell_type": "code",
   "execution_count": 2,
   "id": "bfbb9af3",
   "metadata": {},
   "outputs": [],
   "source": [
    "iris = load_iris()"
   ]
  },
  {
   "cell_type": "markdown",
   "id": "5e8c35e3",
   "metadata": {},
   "source": [
    "#### Verificando a descrição do dataset"
   ]
  },
  {
   "cell_type": "code",
   "execution_count": 3,
   "id": "053fa246",
   "metadata": {},
   "outputs": [
    {
     "name": "stdout",
     "output_type": "stream",
     "text": [
      ".. _iris_dataset:\n",
      "\n",
      "Iris plants dataset\n",
      "--------------------\n",
      "\n",
      "**Data Set Characteristics:**\n",
      "\n",
      "    :Number of Instances: 150 (50 in each of three classes)\n",
      "    :Number of Attributes: 4 numeric, predictive attributes and the class\n",
      "    :Attribute Information:\n",
      "        - sepal length in cm\n",
      "        - sepal width in cm\n",
      "        - petal length in cm\n",
      "        - petal width in cm\n",
      "        - class:\n",
      "                - Iris-Setosa\n",
      "                - Iris-Versicolour\n",
      "                - Iris-Virginica\n",
      "                \n",
      "    :Summary Statistics:\n",
      "\n",
      "    ============== ==== ==== ======= ===== ====================\n",
      "                    Min  Max   Mean    SD   Class Correlation\n",
      "    ============== ==== ==== ======= ===== ====================\n",
      "    sepal length:   4.3  7.9   5.84   0.83    0.7826\n",
      "    sepal width:    2.0  4.4   3.05   0.43   -0.4194\n",
      "    petal length:   1.0  6.9   3.76   1.76    0.9490  (high!)\n",
      "    petal width:    0.1  2.5   1.20   0.76    0.9565  (high!)\n",
      "    ============== ==== ==== ======= ===== ====================\n",
      "\n",
      "    :Missing Attribute Values: None\n",
      "    :Class Distribution: 33.3% for each of 3 classes.\n",
      "    :Creator: R.A. Fisher\n",
      "    :Donor: Michael Marshall (MARSHALL%PLU@io.arc.nasa.gov)\n",
      "    :Date: July, 1988\n",
      "\n",
      "The famous Iris database, first used by Sir R.A. Fisher. The dataset is taken\n",
      "from Fisher's paper. Note that it's the same as in R, but not as in the UCI\n",
      "Machine Learning Repository, which has two wrong data points.\n",
      "\n",
      "This is perhaps the best known database to be found in the\n",
      "pattern recognition literature.  Fisher's paper is a classic in the field and\n",
      "is referenced frequently to this day.  (See Duda & Hart, for example.)  The\n",
      "data set contains 3 classes of 50 instances each, where each class refers to a\n",
      "type of iris plant.  One class is linearly separable from the other 2; the\n",
      "latter are NOT linearly separable from each other.\n",
      "\n",
      ".. topic:: References\n",
      "\n",
      "   - Fisher, R.A. \"The use of multiple measurements in taxonomic problems\"\n",
      "     Annual Eugenics, 7, Part II, 179-188 (1936); also in \"Contributions to\n",
      "     Mathematical Statistics\" (John Wiley, NY, 1950).\n",
      "   - Duda, R.O., & Hart, P.E. (1973) Pattern Classification and Scene Analysis.\n",
      "     (Q327.D83) John Wiley & Sons.  ISBN 0-471-22361-1.  See page 218.\n",
      "   - Dasarathy, B.V. (1980) \"Nosing Around the Neighborhood: A New System\n",
      "     Structure and Classification Rule for Recognition in Partially Exposed\n",
      "     Environments\".  IEEE Transactions on Pattern Analysis and Machine\n",
      "     Intelligence, Vol. PAMI-2, No. 1, 67-71.\n",
      "   - Gates, G.W. (1972) \"The Reduced Nearest Neighbor Rule\".  IEEE Transactions\n",
      "     on Information Theory, May 1972, 431-433.\n",
      "   - See also: 1988 MLC Proceedings, 54-64.  Cheeseman et al\"s AUTOCLASS II\n",
      "     conceptual clustering system finds 3 classes in the data.\n",
      "   - Many, many more ...\n"
     ]
    }
   ],
   "source": [
    "print(iris.DESCR)"
   ]
  },
  {
   "cell_type": "markdown",
   "id": "3f9cc22f",
   "metadata": {},
   "source": [
    "#### Verificando features names, target e dados"
   ]
  },
  {
   "cell_type": "code",
   "execution_count": 4,
   "id": "4737ef69",
   "metadata": {},
   "outputs": [
    {
     "data": {
      "text/plain": [
       "['sepal length (cm)',\n",
       " 'sepal width (cm)',\n",
       " 'petal length (cm)',\n",
       " 'petal width (cm)']"
      ]
     },
     "execution_count": 4,
     "metadata": {},
     "output_type": "execute_result"
    }
   ],
   "source": [
    "iris.feature_names"
   ]
  },
  {
   "cell_type": "code",
   "execution_count": 5,
   "id": "0d2405e8",
   "metadata": {},
   "outputs": [
    {
     "data": {
      "text/plain": [
       "array(['setosa', 'versicolor', 'virginica'], dtype='<U10')"
      ]
     },
     "execution_count": 5,
     "metadata": {},
     "output_type": "execute_result"
    }
   ],
   "source": [
    "iris.target_names"
   ]
  },
  {
   "cell_type": "code",
   "execution_count": 6,
   "id": "e1be2e3d",
   "metadata": {},
   "outputs": [
    {
     "data": {
      "text/plain": [
       "array([[5.1, 3.5, 1.4, 0.2],\n",
       "       [4.9, 3. , 1.4, 0.2],\n",
       "       [4.7, 3.2, 1.3, 0.2],\n",
       "       [4.6, 3.1, 1.5, 0.2],\n",
       "       [5. , 3.6, 1.4, 0.2],\n",
       "       [5.4, 3.9, 1.7, 0.4],\n",
       "       [4.6, 3.4, 1.4, 0.3],\n",
       "       [5. , 3.4, 1.5, 0.2],\n",
       "       [4.4, 2.9, 1.4, 0.2],\n",
       "       [4.9, 3.1, 1.5, 0.1],\n",
       "       [5.4, 3.7, 1.5, 0.2],\n",
       "       [4.8, 3.4, 1.6, 0.2],\n",
       "       [4.8, 3. , 1.4, 0.1],\n",
       "       [4.3, 3. , 1.1, 0.1],\n",
       "       [5.8, 4. , 1.2, 0.2],\n",
       "       [5.7, 4.4, 1.5, 0.4],\n",
       "       [5.4, 3.9, 1.3, 0.4],\n",
       "       [5.1, 3.5, 1.4, 0.3],\n",
       "       [5.7, 3.8, 1.7, 0.3],\n",
       "       [5.1, 3.8, 1.5, 0.3],\n",
       "       [5.4, 3.4, 1.7, 0.2],\n",
       "       [5.1, 3.7, 1.5, 0.4],\n",
       "       [4.6, 3.6, 1. , 0.2],\n",
       "       [5.1, 3.3, 1.7, 0.5],\n",
       "       [4.8, 3.4, 1.9, 0.2],\n",
       "       [5. , 3. , 1.6, 0.2],\n",
       "       [5. , 3.4, 1.6, 0.4],\n",
       "       [5.2, 3.5, 1.5, 0.2],\n",
       "       [5.2, 3.4, 1.4, 0.2],\n",
       "       [4.7, 3.2, 1.6, 0.2],\n",
       "       [4.8, 3.1, 1.6, 0.2],\n",
       "       [5.4, 3.4, 1.5, 0.4],\n",
       "       [5.2, 4.1, 1.5, 0.1],\n",
       "       [5.5, 4.2, 1.4, 0.2],\n",
       "       [4.9, 3.1, 1.5, 0.2],\n",
       "       [5. , 3.2, 1.2, 0.2],\n",
       "       [5.5, 3.5, 1.3, 0.2],\n",
       "       [4.9, 3.6, 1.4, 0.1],\n",
       "       [4.4, 3. , 1.3, 0.2],\n",
       "       [5.1, 3.4, 1.5, 0.2],\n",
       "       [5. , 3.5, 1.3, 0.3],\n",
       "       [4.5, 2.3, 1.3, 0.3],\n",
       "       [4.4, 3.2, 1.3, 0.2],\n",
       "       [5. , 3.5, 1.6, 0.6],\n",
       "       [5.1, 3.8, 1.9, 0.4],\n",
       "       [4.8, 3. , 1.4, 0.3],\n",
       "       [5.1, 3.8, 1.6, 0.2],\n",
       "       [4.6, 3.2, 1.4, 0.2],\n",
       "       [5.3, 3.7, 1.5, 0.2],\n",
       "       [5. , 3.3, 1.4, 0.2],\n",
       "       [7. , 3.2, 4.7, 1.4],\n",
       "       [6.4, 3.2, 4.5, 1.5],\n",
       "       [6.9, 3.1, 4.9, 1.5],\n",
       "       [5.5, 2.3, 4. , 1.3],\n",
       "       [6.5, 2.8, 4.6, 1.5],\n",
       "       [5.7, 2.8, 4.5, 1.3],\n",
       "       [6.3, 3.3, 4.7, 1.6],\n",
       "       [4.9, 2.4, 3.3, 1. ],\n",
       "       [6.6, 2.9, 4.6, 1.3],\n",
       "       [5.2, 2.7, 3.9, 1.4],\n",
       "       [5. , 2. , 3.5, 1. ],\n",
       "       [5.9, 3. , 4.2, 1.5],\n",
       "       [6. , 2.2, 4. , 1. ],\n",
       "       [6.1, 2.9, 4.7, 1.4],\n",
       "       [5.6, 2.9, 3.6, 1.3],\n",
       "       [6.7, 3.1, 4.4, 1.4],\n",
       "       [5.6, 3. , 4.5, 1.5],\n",
       "       [5.8, 2.7, 4.1, 1. ],\n",
       "       [6.2, 2.2, 4.5, 1.5],\n",
       "       [5.6, 2.5, 3.9, 1.1],\n",
       "       [5.9, 3.2, 4.8, 1.8],\n",
       "       [6.1, 2.8, 4. , 1.3],\n",
       "       [6.3, 2.5, 4.9, 1.5],\n",
       "       [6.1, 2.8, 4.7, 1.2],\n",
       "       [6.4, 2.9, 4.3, 1.3],\n",
       "       [6.6, 3. , 4.4, 1.4],\n",
       "       [6.8, 2.8, 4.8, 1.4],\n",
       "       [6.7, 3. , 5. , 1.7],\n",
       "       [6. , 2.9, 4.5, 1.5],\n",
       "       [5.7, 2.6, 3.5, 1. ],\n",
       "       [5.5, 2.4, 3.8, 1.1],\n",
       "       [5.5, 2.4, 3.7, 1. ],\n",
       "       [5.8, 2.7, 3.9, 1.2],\n",
       "       [6. , 2.7, 5.1, 1.6],\n",
       "       [5.4, 3. , 4.5, 1.5],\n",
       "       [6. , 3.4, 4.5, 1.6],\n",
       "       [6.7, 3.1, 4.7, 1.5],\n",
       "       [6.3, 2.3, 4.4, 1.3],\n",
       "       [5.6, 3. , 4.1, 1.3],\n",
       "       [5.5, 2.5, 4. , 1.3],\n",
       "       [5.5, 2.6, 4.4, 1.2],\n",
       "       [6.1, 3. , 4.6, 1.4],\n",
       "       [5.8, 2.6, 4. , 1.2],\n",
       "       [5. , 2.3, 3.3, 1. ],\n",
       "       [5.6, 2.7, 4.2, 1.3],\n",
       "       [5.7, 3. , 4.2, 1.2],\n",
       "       [5.7, 2.9, 4.2, 1.3],\n",
       "       [6.2, 2.9, 4.3, 1.3],\n",
       "       [5.1, 2.5, 3. , 1.1],\n",
       "       [5.7, 2.8, 4.1, 1.3],\n",
       "       [6.3, 3.3, 6. , 2.5],\n",
       "       [5.8, 2.7, 5.1, 1.9],\n",
       "       [7.1, 3. , 5.9, 2.1],\n",
       "       [6.3, 2.9, 5.6, 1.8],\n",
       "       [6.5, 3. , 5.8, 2.2],\n",
       "       [7.6, 3. , 6.6, 2.1],\n",
       "       [4.9, 2.5, 4.5, 1.7],\n",
       "       [7.3, 2.9, 6.3, 1.8],\n",
       "       [6.7, 2.5, 5.8, 1.8],\n",
       "       [7.2, 3.6, 6.1, 2.5],\n",
       "       [6.5, 3.2, 5.1, 2. ],\n",
       "       [6.4, 2.7, 5.3, 1.9],\n",
       "       [6.8, 3. , 5.5, 2.1],\n",
       "       [5.7, 2.5, 5. , 2. ],\n",
       "       [5.8, 2.8, 5.1, 2.4],\n",
       "       [6.4, 3.2, 5.3, 2.3],\n",
       "       [6.5, 3. , 5.5, 1.8],\n",
       "       [7.7, 3.8, 6.7, 2.2],\n",
       "       [7.7, 2.6, 6.9, 2.3],\n",
       "       [6. , 2.2, 5. , 1.5],\n",
       "       [6.9, 3.2, 5.7, 2.3],\n",
       "       [5.6, 2.8, 4.9, 2. ],\n",
       "       [7.7, 2.8, 6.7, 2. ],\n",
       "       [6.3, 2.7, 4.9, 1.8],\n",
       "       [6.7, 3.3, 5.7, 2.1],\n",
       "       [7.2, 3.2, 6. , 1.8],\n",
       "       [6.2, 2.8, 4.8, 1.8],\n",
       "       [6.1, 3. , 4.9, 1.8],\n",
       "       [6.4, 2.8, 5.6, 2.1],\n",
       "       [7.2, 3. , 5.8, 1.6],\n",
       "       [7.4, 2.8, 6.1, 1.9],\n",
       "       [7.9, 3.8, 6.4, 2. ],\n",
       "       [6.4, 2.8, 5.6, 2.2],\n",
       "       [6.3, 2.8, 5.1, 1.5],\n",
       "       [6.1, 2.6, 5.6, 1.4],\n",
       "       [7.7, 3. , 6.1, 2.3],\n",
       "       [6.3, 3.4, 5.6, 2.4],\n",
       "       [6.4, 3.1, 5.5, 1.8],\n",
       "       [6. , 3. , 4.8, 1.8],\n",
       "       [6.9, 3.1, 5.4, 2.1],\n",
       "       [6.7, 3.1, 5.6, 2.4],\n",
       "       [6.9, 3.1, 5.1, 2.3],\n",
       "       [5.8, 2.7, 5.1, 1.9],\n",
       "       [6.8, 3.2, 5.9, 2.3],\n",
       "       [6.7, 3.3, 5.7, 2.5],\n",
       "       [6.7, 3. , 5.2, 2.3],\n",
       "       [6.3, 2.5, 5. , 1.9],\n",
       "       [6.5, 3. , 5.2, 2. ],\n",
       "       [6.2, 3.4, 5.4, 2.3],\n",
       "       [5.9, 3. , 5.1, 1.8]])"
      ]
     },
     "execution_count": 6,
     "metadata": {},
     "output_type": "execute_result"
    }
   ],
   "source": [
    "iris.data"
   ]
  },
  {
   "cell_type": "markdown",
   "id": "b091917e",
   "metadata": {},
   "source": [
    "#### Dividindo os dados em treino e teste"
   ]
  },
  {
   "cell_type": "code",
   "execution_count": 7,
   "id": "3c5fca13",
   "metadata": {},
   "outputs": [],
   "source": [
    "from sklearn.model_selection import train_test_split"
   ]
  },
  {
   "cell_type": "code",
   "execution_count": 8,
   "id": "4657ed4d",
   "metadata": {},
   "outputs": [],
   "source": [
    "X_train, X_test, y_train, y_test = train_test_split(iris.data, iris.target, test_size=0.3)"
   ]
  },
  {
   "cell_type": "markdown",
   "id": "6a7ea385",
   "metadata": {},
   "source": [
    "#### Verificando a forma dos dados"
   ]
  },
  {
   "cell_type": "code",
   "execution_count": 9,
   "id": "b4da8ea3",
   "metadata": {},
   "outputs": [
    {
     "data": {
      "text/plain": [
       "((105, 4), (45, 4))"
      ]
     },
     "execution_count": 9,
     "metadata": {},
     "output_type": "execute_result"
    }
   ],
   "source": [
    "X_train.shape,X_test.shape"
   ]
  },
  {
   "cell_type": "code",
   "execution_count": 10,
   "id": "70ce4d22",
   "metadata": {},
   "outputs": [
    {
     "data": {
      "text/plain": [
       "((105,), (45,))"
      ]
     },
     "execution_count": 10,
     "metadata": {},
     "output_type": "execute_result"
    }
   ],
   "source": [
    "y_train.shape,y_test.shape"
   ]
  },
  {
   "cell_type": "markdown",
   "id": "822866fe",
   "metadata": {},
   "source": [
    "#### Instânciando o objeto classificador"
   ]
  },
  {
   "cell_type": "code",
   "execution_count": 11,
   "id": "0a8f60fe",
   "metadata": {},
   "outputs": [],
   "source": [
    "clf = tree.DecisionTreeClassifier()"
   ]
  },
  {
   "cell_type": "markdown",
   "id": "e95f4c5c",
   "metadata": {},
   "source": [
    "#### Parâmetros do classificador DecisionTreeClassifier\n",
    "\n",
    "* criterion: medida de qualidade da divisão\n",
    "<p>criterion='gini', # gini vem por default, mas podemos optar por entropy\n",
    "\n",
    "* splitter: estratégia utilizada para dividir o nó de decisão\n",
    "<p>splitter='best', ela também pode ser feita de forma randômica utilizando 'random'\n",
    "\n",
    "* max_depth= None: profundidade máxima da árvore, se for None ela vai buscar a máxima pureza possível    \n",
    "* min_samples_split = 2: número de amostras mínimas para considerar um nó para divisão    \n",
    "* min_samples_leaf: 1, # o mínimo de registros necessários em cada nós-folha\n",
    "* max_features = None, # o número de atributos que será considerado durante o split. None -> seleciona todos os atributos, 'sqrt' -> raiz quadrada do número dos atributos, 'log2' -> log de base 2 do número de atributos\n",
    "* max_leaf_nodes=None, # a quantidade máxima de nós-folha que a árvore pode ter, se for None ele não limitará o número de nós-folha\n",
    "* min_impurity_decrease=0.0, # o split irá ocorrer em cada nó se o decréscimo da impureza foi maior ou igual a este valor\n",
    "* random_state= 42, # permite o notebook ser reproduzível\n",
    "\n"
   ]
  },
  {
   "cell_type": "markdown",
   "id": "33905849",
   "metadata": {},
   "source": [
    "#### Treinando o modelo de árvore de decisão"
   ]
  },
  {
   "cell_type": "code",
   "execution_count": 12,
   "id": "da5665bb",
   "metadata": {},
   "outputs": [],
   "source": [
    "clf = clf.fit(X_train, y_train)"
   ]
  },
  {
   "cell_type": "markdown",
   "id": "91cb27f9",
   "metadata": {},
   "source": [
    "#### Verificando as features mais importantes para o modelo de arvore de decisão treinado\n",
    "No scikit-learn, optou-se por utilizar o gini importance"
   ]
  },
  {
   "cell_type": "code",
   "execution_count": 13,
   "id": "6ebca079",
   "metadata": {},
   "outputs": [
    {
     "data": {
      "text/plain": [
       "array([0.0214344 , 0.        , 0.05735151, 0.92121408])"
      ]
     },
     "execution_count": 13,
     "metadata": {},
     "output_type": "execute_result"
    }
   ],
   "source": [
    "clf.feature_importances_"
   ]
  },
  {
   "cell_type": "code",
   "execution_count": 14,
   "id": "8ee6c9a5",
   "metadata": {},
   "outputs": [
    {
     "name": "stdout",
     "output_type": "stream",
     "text": [
      "sepal length (cm):0.02143440391943386\n",
      "sepal width (cm):0.0\n",
      "petal length (cm):0.05735151318983655\n",
      "petal width (cm):0.9212140828907295\n"
     ]
    }
   ],
   "source": [
    "for feature,importancia in zip(iris.feature_names,clf.feature_importances_):\n",
    "    print(\"{}:{}\".format(feature, importancia))"
   ]
  },
  {
   "cell_type": "markdown",
   "id": "5cd806f7",
   "metadata": {},
   "source": [
    "#### Executando o algoritmo de arvore de decisão com o conjunto de teste"
   ]
  },
  {
   "cell_type": "code",
   "execution_count": 15,
   "id": "42ffca3b",
   "metadata": {},
   "outputs": [
    {
     "data": {
      "text/plain": [
       "array([0, 1, 1, 0, 0, 2, 2, 0, 2, 0, 2, 1, 2, 2, 0, 0, 0, 1, 2, 1, 1, 1,\n",
       "       2, 1, 1, 1, 0, 1, 1, 2, 0, 0, 1, 2, 2, 2, 1, 1, 0, 2, 0, 0, 1, 1,\n",
       "       2])"
      ]
     },
     "execution_count": 15,
     "metadata": {},
     "output_type": "execute_result"
    }
   ],
   "source": [
    "resultado = clf.predict(X_test)\n",
    "resultado"
   ]
  },
  {
   "cell_type": "markdown",
   "id": "8940c3ce",
   "metadata": {},
   "source": [
    "#### Testando com uma nova amostra"
   ]
  },
  {
   "cell_type": "code",
   "execution_count": 16,
   "id": "95ab6ecf",
   "metadata": {},
   "outputs": [
    {
     "data": {
      "text/plain": [
       "array([0])"
      ]
     },
     "execution_count": 16,
     "metadata": {},
     "output_type": "execute_result"
    }
   ],
   "source": [
    "test = np.array([[5.1,3.5,1.4,0.2]])\n",
    "clf.predict(test)"
   ]
  },
  {
   "cell_type": "markdown",
   "id": "bc9870e0",
   "metadata": {},
   "source": [
    "#### Verificando a Probabilidade"
   ]
  },
  {
   "cell_type": "code",
   "execution_count": 17,
   "id": "bfca8038",
   "metadata": {},
   "outputs": [
    {
     "data": {
      "text/plain": [
       "array([[1., 0., 0.]])"
      ]
     },
     "execution_count": 17,
     "metadata": {},
     "output_type": "execute_result"
    }
   ],
   "source": [
    "clf.predict_proba(test)"
   ]
  },
  {
   "cell_type": "markdown",
   "id": "5df335ff",
   "metadata": {},
   "source": [
    "#### Métricas de Validação"
   ]
  },
  {
   "cell_type": "code",
   "execution_count": 18,
   "id": "a336a75b",
   "metadata": {},
   "outputs": [],
   "source": [
    "from sklearn import metrics"
   ]
  },
  {
   "cell_type": "code",
   "execution_count": 19,
   "id": "5ab4e924",
   "metadata": {},
   "outputs": [
    {
     "name": "stdout",
     "output_type": "stream",
     "text": [
      "              precision    recall  f1-score   support\n",
      "\n",
      "      setosa       1.00      1.00      1.00        14\n",
      "  versicolor       0.88      0.94      0.91        16\n",
      "   virginica       0.93      0.87      0.90        15\n",
      "\n",
      "    accuracy                           0.93        45\n",
      "   macro avg       0.94      0.93      0.94        45\n",
      "weighted avg       0.93      0.93      0.93        45\n",
      "\n"
     ]
    }
   ],
   "source": [
    "print(metrics.classification_report(y_test, resultado, target_names=iris.target_names))"
   ]
  },
  {
   "cell_type": "code",
   "execution_count": 20,
   "id": "41e33fd0",
   "metadata": {},
   "outputs": [],
   "source": [
    "import pydot\n",
    "import graphviz \n",
    "from ipywidgets import interactive"
   ]
  },
  {
   "cell_type": "code",
   "execution_count": 46,
   "id": "2d891772",
   "metadata": {},
   "outputs": [],
   "source": [
    "import os\n",
    "#os.environ[\"PATH\"] += os.pathsep + 'C:/Program Files (x86)/Graphviz2.38/bin/'\n",
    "os.environ[\"PATH\"] += os.pathsep + 'C:/Program Files/Graphviz/bin/'\n",
    "#os.environ[\"PATH\"] += os.pathsep + 'c:/users/vinic/appdata/local/programs/python/python39/lib/site-packages/graphviz/'\n",
    "#os.environ[\"PATH\"] += os.pathsep + 'c:/users/vinic/appdata/local/programs/python/python39/'"
   ]
  },
  {
   "cell_type": "markdown",
   "id": "a124237f",
   "metadata": {},
   "source": [
    "#### Visualizando de forma gráfica a arvore gerada"
   ]
  },
  {
   "cell_type": "code",
   "execution_count": 21,
   "id": "95a4b70e",
   "metadata": {},
   "outputs": [
    {
     "data": {
      "image/svg+xml": [
       "<?xml version=\"1.0\" encoding=\"UTF-8\" standalone=\"no\"?>\n",
       "<!DOCTYPE svg PUBLIC \"-//W3C//DTD SVG 1.1//EN\"\n",
       " \"http://www.w3.org/Graphics/SVG/1.1/DTD/svg11.dtd\">\n",
       "<!-- Generated by graphviz version 10.0.1 (20240210.2158)\n",
       " -->\n",
       "<!-- Title: Tree Pages: 1 -->\n",
       "<svg width=\"418pt\" height=\"671pt\"\n",
       " viewBox=\"0.00 0.00 418.00 670.50\" xmlns=\"http://www.w3.org/2000/svg\" xmlns:xlink=\"http://www.w3.org/1999/xlink\">\n",
       "<g id=\"graph0\" class=\"graph\" transform=\"scale(1 1) rotate(0) translate(4 666.5)\">\n",
       "<title>Tree</title>\n",
       "<polygon fill=\"white\" stroke=\"none\" points=\"-4,4 -4,-666.5 414,-666.5 414,4 -4,4\"/>\n",
       "<!-- 0 -->\n",
       "<g id=\"node1\" class=\"node\">\n",
       "<title>0</title>\n",
       "<path fill=\"#fffdfc\" stroke=\"black\" d=\"M236.38,-662.5C236.38,-662.5 87.62,-662.5 87.62,-662.5 81.62,-662.5 75.62,-656.5 75.62,-650.5 75.62,-650.5 75.62,-567.5 75.62,-567.5 75.62,-561.5 81.62,-555.5 87.62,-555.5 87.62,-555.5 236.38,-555.5 236.38,-555.5 242.38,-555.5 248.38,-561.5 248.38,-567.5 248.38,-567.5 248.38,-650.5 248.38,-650.5 248.38,-656.5 242.38,-662.5 236.38,-662.5\"/>\n",
       "<text text-anchor=\"start\" x=\"135.75\" y=\"-645.2\" font-family=\"Helvetica,sans-Serif\" font-size=\"14.00\">node #0</text>\n",
       "<text text-anchor=\"start\" x=\"94.88\" y=\"-628.7\" font-family=\"Helvetica,sans-Serif\" font-size=\"14.00\">petal width (cm) ≤ 0.8</text>\n",
       "<text text-anchor=\"start\" x=\"129\" y=\"-612.2\" font-family=\"Helvetica,sans-Serif\" font-size=\"14.00\">gini = 0.67</text>\n",
       "<text text-anchor=\"start\" x=\"102.38\" y=\"-595.7\" font-family=\"Helvetica,sans-Serif\" font-size=\"14.00\">samples = 100.0%</text>\n",
       "<text text-anchor=\"start\" x=\"83.62\" y=\"-579.2\" font-family=\"Helvetica,sans-Serif\" font-size=\"14.00\">value = [0.34, 0.32, 0.33]</text>\n",
       "<text text-anchor=\"start\" x=\"116.25\" y=\"-562.7\" font-family=\"Helvetica,sans-Serif\" font-size=\"14.00\">class = setosa</text>\n",
       "</g>\n",
       "<!-- 1 -->\n",
       "<g id=\"node2\" class=\"node\">\n",
       "<title>1</title>\n",
       "<path fill=\"#e58139\" stroke=\"black\" d=\"M137,-511.25C137,-511.25 13,-511.25 13,-511.25 7,-511.25 1,-505.25 1,-499.25 1,-499.25 1,-432.75 1,-432.75 1,-426.75 7,-420.75 13,-420.75 13,-420.75 137,-420.75 137,-420.75 143,-420.75 149,-426.75 149,-432.75 149,-432.75 149,-499.25 149,-499.25 149,-505.25 143,-511.25 137,-511.25\"/>\n",
       "<text text-anchor=\"start\" x=\"48.75\" y=\"-493.95\" font-family=\"Helvetica,sans-Serif\" font-size=\"14.00\">node #1</text>\n",
       "<text text-anchor=\"start\" x=\"46.12\" y=\"-477.45\" font-family=\"Helvetica,sans-Serif\" font-size=\"14.00\">gini = 0.0</text>\n",
       "<text text-anchor=\"start\" x=\"19.5\" y=\"-460.95\" font-family=\"Helvetica,sans-Serif\" font-size=\"14.00\">samples = 34.3%</text>\n",
       "<text text-anchor=\"start\" x=\"9\" y=\"-444.45\" font-family=\"Helvetica,sans-Serif\" font-size=\"14.00\">value = [1.0, 0.0, 0.0]</text>\n",
       "<text text-anchor=\"start\" x=\"29.25\" y=\"-427.95\" font-family=\"Helvetica,sans-Serif\" font-size=\"14.00\">class = setosa</text>\n",
       "</g>\n",
       "<!-- 0&#45;&gt;1 -->\n",
       "<g id=\"edge1\" class=\"edge\">\n",
       "<title>0&#45;&gt;1</title>\n",
       "<path fill=\"none\" stroke=\"black\" d=\"M129.36,-555.1C122.5,-543.97 115.25,-532.23 108.36,-521.07\"/>\n",
       "<polygon fill=\"black\" stroke=\"black\" points=\"111.44,-519.4 103.21,-512.73 105.49,-523.07 111.44,-519.4\"/>\n",
       "<text text-anchor=\"middle\" x=\"96.66\" y=\"-530.71\" font-family=\"Helvetica,sans-Serif\" font-size=\"14.00\">True</text>\n",
       "</g>\n",
       "<!-- 2 -->\n",
       "<g id=\"node3\" class=\"node\">\n",
       "<title>2</title>\n",
       "<path fill=\"#fbf9fe\" stroke=\"black\" d=\"M319.25,-519.5C319.25,-519.5 178.75,-519.5 178.75,-519.5 172.75,-519.5 166.75,-513.5 166.75,-507.5 166.75,-507.5 166.75,-424.5 166.75,-424.5 166.75,-418.5 172.75,-412.5 178.75,-412.5 178.75,-412.5 319.25,-412.5 319.25,-412.5 325.25,-412.5 331.25,-418.5 331.25,-424.5 331.25,-424.5 331.25,-507.5 331.25,-507.5 331.25,-513.5 325.25,-519.5 319.25,-519.5\"/>\n",
       "<text text-anchor=\"start\" x=\"222.75\" y=\"-502.2\" font-family=\"Helvetica,sans-Serif\" font-size=\"14.00\">node #2</text>\n",
       "<text text-anchor=\"start\" x=\"177.75\" y=\"-485.7\" font-family=\"Helvetica,sans-Serif\" font-size=\"14.00\">petal width (cm) ≤ 1.75</text>\n",
       "<text text-anchor=\"start\" x=\"220.12\" y=\"-469.2\" font-family=\"Helvetica,sans-Serif\" font-size=\"14.00\">gini = 0.5</text>\n",
       "<text text-anchor=\"start\" x=\"193.5\" y=\"-452.7\" font-family=\"Helvetica,sans-Serif\" font-size=\"14.00\">samples = 65.7%</text>\n",
       "<text text-anchor=\"start\" x=\"174.75\" y=\"-436.2\" font-family=\"Helvetica,sans-Serif\" font-size=\"14.00\">value = [0.0, 0.49, 0.51]</text>\n",
       "<text text-anchor=\"start\" x=\"199.12\" y=\"-419.7\" font-family=\"Helvetica,sans-Serif\" font-size=\"14.00\">class = virginica</text>\n",
       "</g>\n",
       "<!-- 0&#45;&gt;2 -->\n",
       "<g id=\"edge2\" class=\"edge\">\n",
       "<title>0&#45;&gt;2</title>\n",
       "<path fill=\"none\" stroke=\"black\" d=\"M194.64,-555.1C199.83,-546.69 205.23,-537.93 210.54,-529.34\"/>\n",
       "<polygon fill=\"black\" stroke=\"black\" points=\"213.4,-531.37 215.67,-521.02 207.44,-527.69 213.4,-531.37\"/>\n",
       "<text text-anchor=\"middle\" x=\"222.22\" y=\"-539.01\" font-family=\"Helvetica,sans-Serif\" font-size=\"14.00\">False</text>\n",
       "</g>\n",
       "<!-- 3 -->\n",
       "<g id=\"node4\" class=\"node\">\n",
       "<title>3</title>\n",
       "<path fill=\"#4ae78c\" stroke=\"black\" d=\"M232.25,-376.5C232.25,-376.5 91.75,-376.5 91.75,-376.5 85.75,-376.5 79.75,-370.5 79.75,-364.5 79.75,-364.5 79.75,-281.5 79.75,-281.5 79.75,-275.5 85.75,-269.5 91.75,-269.5 91.75,-269.5 232.25,-269.5 232.25,-269.5 238.25,-269.5 244.25,-275.5 244.25,-281.5 244.25,-281.5 244.25,-364.5 244.25,-364.5 244.25,-370.5 238.25,-376.5 232.25,-376.5\"/>\n",
       "<text text-anchor=\"start\" x=\"135.75\" y=\"-359.2\" font-family=\"Helvetica,sans-Serif\" font-size=\"14.00\">node #3</text>\n",
       "<text text-anchor=\"start\" x=\"87.75\" y=\"-342.7\" font-family=\"Helvetica,sans-Serif\" font-size=\"14.00\">petal length (cm) ≤ 5.05</text>\n",
       "<text text-anchor=\"start\" x=\"129\" y=\"-326.2\" font-family=\"Helvetica,sans-Serif\" font-size=\"14.00\">gini = 0.15</text>\n",
       "<text text-anchor=\"start\" x=\"106.5\" y=\"-309.7\" font-family=\"Helvetica,sans-Serif\" font-size=\"14.00\">samples = 35.2%</text>\n",
       "<text text-anchor=\"start\" x=\"87.75\" y=\"-293.2\" font-family=\"Helvetica,sans-Serif\" font-size=\"14.00\">value = [0.0, 0.92, 0.08]</text>\n",
       "<text text-anchor=\"start\" x=\"106.88\" y=\"-276.7\" font-family=\"Helvetica,sans-Serif\" font-size=\"14.00\">class = versicolor</text>\n",
       "</g>\n",
       "<!-- 2&#45;&gt;3 -->\n",
       "<g id=\"edge3\" class=\"edge\">\n",
       "<title>2&#45;&gt;3</title>\n",
       "<path fill=\"none\" stroke=\"black\" d=\"M216.36,-412.1C211.17,-403.69 205.77,-394.93 200.46,-386.34\"/>\n",
       "<polygon fill=\"black\" stroke=\"black\" points=\"203.56,-384.69 195.33,-378.02 197.6,-388.37 203.56,-384.69\"/>\n",
       "</g>\n",
       "<!-- 8 -->\n",
       "<g id=\"node9\" class=\"node\">\n",
       "<title>8</title>\n",
       "<path fill=\"#8139e5\" stroke=\"black\" d=\"M398,-368.25C398,-368.25 274,-368.25 274,-368.25 268,-368.25 262,-362.25 262,-356.25 262,-356.25 262,-289.75 262,-289.75 262,-283.75 268,-277.75 274,-277.75 274,-277.75 398,-277.75 398,-277.75 404,-277.75 410,-283.75 410,-289.75 410,-289.75 410,-356.25 410,-356.25 410,-362.25 404,-368.25 398,-368.25\"/>\n",
       "<text text-anchor=\"start\" x=\"309.75\" y=\"-350.95\" font-family=\"Helvetica,sans-Serif\" font-size=\"14.00\">node #8</text>\n",
       "<text text-anchor=\"start\" x=\"307.12\" y=\"-334.45\" font-family=\"Helvetica,sans-Serif\" font-size=\"14.00\">gini = 0.0</text>\n",
       "<text text-anchor=\"start\" x=\"280.5\" y=\"-317.95\" font-family=\"Helvetica,sans-Serif\" font-size=\"14.00\">samples = 30.5%</text>\n",
       "<text text-anchor=\"start\" x=\"270\" y=\"-301.45\" font-family=\"Helvetica,sans-Serif\" font-size=\"14.00\">value = [0.0, 0.0, 1.0]</text>\n",
       "<text text-anchor=\"start\" x=\"286.12\" y=\"-284.95\" font-family=\"Helvetica,sans-Serif\" font-size=\"14.00\">class = virginica</text>\n",
       "</g>\n",
       "<!-- 2&#45;&gt;8 -->\n",
       "<g id=\"edge8\" class=\"edge\">\n",
       "<title>2&#45;&gt;8</title>\n",
       "<path fill=\"none\" stroke=\"black\" d=\"M281.64,-412.1C288.5,-400.97 295.75,-389.23 302.64,-378.07\"/>\n",
       "<polygon fill=\"black\" stroke=\"black\" points=\"305.51,-380.07 307.79,-369.73 299.56,-376.4 305.51,-380.07\"/>\n",
       "</g>\n",
       "<!-- 4 -->\n",
       "<g id=\"node5\" class=\"node\">\n",
       "<title>4</title>\n",
       "<path fill=\"#39e581\" stroke=\"black\" d=\"M136,-225.25C136,-225.25 12,-225.25 12,-225.25 6,-225.25 0,-219.25 0,-213.25 0,-213.25 0,-146.75 0,-146.75 0,-140.75 6,-134.75 12,-134.75 12,-134.75 136,-134.75 136,-134.75 142,-134.75 148,-140.75 148,-146.75 148,-146.75 148,-213.25 148,-213.25 148,-219.25 142,-225.25 136,-225.25\"/>\n",
       "<text text-anchor=\"start\" x=\"47.75\" y=\"-207.95\" font-family=\"Helvetica,sans-Serif\" font-size=\"14.00\">node #4</text>\n",
       "<text text-anchor=\"start\" x=\"45.12\" y=\"-191.45\" font-family=\"Helvetica,sans-Serif\" font-size=\"14.00\">gini = 0.0</text>\n",
       "<text text-anchor=\"start\" x=\"18.5\" y=\"-174.95\" font-family=\"Helvetica,sans-Serif\" font-size=\"14.00\">samples = 31.4%</text>\n",
       "<text text-anchor=\"start\" x=\"8\" y=\"-158.45\" font-family=\"Helvetica,sans-Serif\" font-size=\"14.00\">value = [0.0, 1.0, 0.0]</text>\n",
       "<text text-anchor=\"start\" x=\"18.88\" y=\"-141.95\" font-family=\"Helvetica,sans-Serif\" font-size=\"14.00\">class = versicolor</text>\n",
       "</g>\n",
       "<!-- 3&#45;&gt;4 -->\n",
       "<g id=\"edge4\" class=\"edge\">\n",
       "<title>3&#45;&gt;4</title>\n",
       "<path fill=\"none\" stroke=\"black\" d=\"M128.98,-269.1C122.04,-257.97 114.71,-246.23 107.74,-235.07\"/>\n",
       "<polygon fill=\"black\" stroke=\"black\" points=\"110.8,-233.35 102.54,-226.72 104.86,-237.06 110.8,-233.35\"/>\n",
       "</g>\n",
       "<!-- 5 -->\n",
       "<g id=\"node6\" class=\"node\">\n",
       "<title>5</title>\n",
       "<path fill=\"#ab7bee\" stroke=\"black\" d=\"M322.12,-233.5C322.12,-233.5 177.88,-233.5 177.88,-233.5 171.88,-233.5 165.88,-227.5 165.88,-221.5 165.88,-221.5 165.88,-138.5 165.88,-138.5 165.88,-132.5 171.88,-126.5 177.88,-126.5 177.88,-126.5 322.12,-126.5 322.12,-126.5 328.12,-126.5 334.12,-132.5 334.12,-138.5 334.12,-138.5 334.12,-221.5 334.12,-221.5 334.12,-227.5 328.12,-233.5 322.12,-233.5\"/>\n",
       "<text text-anchor=\"start\" x=\"223.75\" y=\"-216.2\" font-family=\"Helvetica,sans-Serif\" font-size=\"14.00\">node #5</text>\n",
       "<text text-anchor=\"start\" x=\"173.88\" y=\"-199.7\" font-family=\"Helvetica,sans-Serif\" font-size=\"14.00\">sepal length (cm) ≤ 6.05</text>\n",
       "<text text-anchor=\"start\" x=\"217\" y=\"-183.2\" font-family=\"Helvetica,sans-Serif\" font-size=\"14.00\">gini = 0.38</text>\n",
       "<text text-anchor=\"start\" x=\"198.62\" y=\"-166.7\" font-family=\"Helvetica,sans-Serif\" font-size=\"14.00\">samples = 3.8%</text>\n",
       "<text text-anchor=\"start\" x=\"175.75\" y=\"-150.2\" font-family=\"Helvetica,sans-Serif\" font-size=\"14.00\">value = [0.0, 0.25, 0.75]</text>\n",
       "<text text-anchor=\"start\" x=\"200.12\" y=\"-133.7\" font-family=\"Helvetica,sans-Serif\" font-size=\"14.00\">class = virginica</text>\n",
       "</g>\n",
       "<!-- 3&#45;&gt;5 -->\n",
       "<g id=\"edge5\" class=\"edge\">\n",
       "<title>3&#45;&gt;5</title>\n",
       "<path fill=\"none\" stroke=\"black\" d=\"M195.02,-269.1C200.26,-260.69 205.73,-251.93 211.09,-243.34\"/>\n",
       "<polygon fill=\"black\" stroke=\"black\" points=\"213.96,-245.35 216.29,-235.02 208.02,-241.65 213.96,-245.35\"/>\n",
       "</g>\n",
       "<!-- 6 -->\n",
       "<g id=\"node7\" class=\"node\">\n",
       "<title>6</title>\n",
       "<path fill=\"#39e581\" stroke=\"black\" d=\"M229,-90.5C229,-90.5 105,-90.5 105,-90.5 99,-90.5 93,-84.5 93,-78.5 93,-78.5 93,-12 93,-12 93,-6 99,0 105,0 105,0 229,0 229,0 235,0 241,-6 241,-12 241,-12 241,-78.5 241,-78.5 241,-84.5 235,-90.5 229,-90.5\"/>\n",
       "<text text-anchor=\"start\" x=\"140.75\" y=\"-73.2\" font-family=\"Helvetica,sans-Serif\" font-size=\"14.00\">node #6</text>\n",
       "<text text-anchor=\"start\" x=\"138.12\" y=\"-56.7\" font-family=\"Helvetica,sans-Serif\" font-size=\"14.00\">gini = 0.0</text>\n",
       "<text text-anchor=\"start\" x=\"115.62\" y=\"-40.2\" font-family=\"Helvetica,sans-Serif\" font-size=\"14.00\">samples = 1.0%</text>\n",
       "<text text-anchor=\"start\" x=\"101\" y=\"-23.7\" font-family=\"Helvetica,sans-Serif\" font-size=\"14.00\">value = [0.0, 1.0, 0.0]</text>\n",
       "<text text-anchor=\"start\" x=\"111.88\" y=\"-7.2\" font-family=\"Helvetica,sans-Serif\" font-size=\"14.00\">class = versicolor</text>\n",
       "</g>\n",
       "<!-- 5&#45;&gt;6 -->\n",
       "<g id=\"edge6\" class=\"edge\">\n",
       "<title>5&#45;&gt;6</title>\n",
       "<path fill=\"none\" stroke=\"black\" d=\"M216.96,-126.15C211.64,-117.64 206.12,-108.82 200.78,-100.28\"/>\n",
       "<polygon fill=\"black\" stroke=\"black\" points=\"203.92,-98.7 195.65,-92.08 197.99,-102.41 203.92,-98.7\"/>\n",
       "</g>\n",
       "<!-- 7 -->\n",
       "<g id=\"node8\" class=\"node\">\n",
       "<title>7</title>\n",
       "<path fill=\"#8139e5\" stroke=\"black\" d=\"M395,-90.5C395,-90.5 271,-90.5 271,-90.5 265,-90.5 259,-84.5 259,-78.5 259,-78.5 259,-12 259,-12 259,-6 265,0 271,0 271,0 395,0 395,0 401,0 407,-6 407,-12 407,-12 407,-78.5 407,-78.5 407,-84.5 401,-90.5 395,-90.5\"/>\n",
       "<text text-anchor=\"start\" x=\"306.75\" y=\"-73.2\" font-family=\"Helvetica,sans-Serif\" font-size=\"14.00\">node #7</text>\n",
       "<text text-anchor=\"start\" x=\"304.12\" y=\"-56.7\" font-family=\"Helvetica,sans-Serif\" font-size=\"14.00\">gini = 0.0</text>\n",
       "<text text-anchor=\"start\" x=\"281.62\" y=\"-40.2\" font-family=\"Helvetica,sans-Serif\" font-size=\"14.00\">samples = 2.9%</text>\n",
       "<text text-anchor=\"start\" x=\"267\" y=\"-23.7\" font-family=\"Helvetica,sans-Serif\" font-size=\"14.00\">value = [0.0, 0.0, 1.0]</text>\n",
       "<text text-anchor=\"start\" x=\"283.12\" y=\"-7.2\" font-family=\"Helvetica,sans-Serif\" font-size=\"14.00\">class = virginica</text>\n",
       "</g>\n",
       "<!-- 5&#45;&gt;7 -->\n",
       "<g id=\"edge7\" class=\"edge\">\n",
       "<title>5&#45;&gt;7</title>\n",
       "<path fill=\"none\" stroke=\"black\" d=\"M283.04,-126.15C288.36,-117.64 293.88,-108.82 299.22,-100.28\"/>\n",
       "<polygon fill=\"black\" stroke=\"black\" points=\"302.01,-102.41 304.35,-92.08 296.08,-98.7 302.01,-102.41\"/>\n",
       "</g>\n",
       "</g>\n",
       "</svg>\n"
      ],
      "text/plain": [
       "<graphviz.sources.Source at 0x259fc0e50a0>"
      ]
     },
     "execution_count": 21,
     "metadata": {},
     "output_type": "execute_result"
    }
   ],
   "source": [
    "dot_data = tree.export_graphviz(\n",
    "         clf, # árvore de decisão a ser exportada\n",
    "         #out_file=None,  # nome do arquivo output\n",
    "         precision=2, # número de digitos da precisão\n",
    "         feature_names=iris.feature_names,\n",
    "         class_names=iris.target_names,  # lista do nome das classes\n",
    "         filled=True, # pinta os nós de acordo com cada classe\n",
    "         rounded=True,\n",
    "         proportion=True,\n",
    "         node_ids=True,\n",
    "         rotate=False,\n",
    "         label='all', # root as informações das features aparecem apenas na raíz\n",
    "         #leaves_parallel = True,# faz com que as folhas fiquem paralelas\n",
    "         #rotate = True, # retorna a árvore na horizontal\n",
    "         special_characters=True # quando False ignora os caracteres especiais\n",
    "        )  \n",
    "graph = graphviz.Source(dot_data)  \n",
    "graph"
   ]
  },
  {
   "cell_type": "markdown",
   "id": "a330165a",
   "metadata": {},
   "source": [
    "#### Bibliotecas necessárias apra renderização da arvore de forma interativa"
   ]
  },
  {
   "cell_type": "code",
   "execution_count": 22,
   "id": "5990abc8",
   "metadata": {},
   "outputs": [],
   "source": [
    "from IPython.display import SVG, display\n",
    "from graphviz import Source\n",
    "from ipywidgets import interactive"
   ]
  },
  {
   "cell_type": "code",
   "execution_count": 23,
   "id": "118c27bf",
   "metadata": {},
   "outputs": [
    {
     "data": {
      "application/vnd.jupyter.widget-view+json": {
       "model_id": "218264cf9e3341f199f65ab801523db3",
       "version_major": 2,
       "version_minor": 0
      },
      "text/plain": [
       "interactive(children=(Dropdown(description='crit', options=('gini', 'entropy'), value='gini'), Dropdown(descri…"
      ]
     },
     "metadata": {},
     "output_type": "display_data"
    }
   ],
   "source": [
    "# load dataset\n",
    "data = load_iris()\n",
    "\n",
    "# feature matrix\n",
    "X = data.data\n",
    "\n",
    "# target vector\n",
    "y = data.target\n",
    "\n",
    "# feature labels\n",
    "features_label = data.feature_names\n",
    "\n",
    "# class label\n",
    "class_label = data.target_names\n",
    "\n",
    "\n",
    "def plot_tree(crit, split, depth, min_split, min_leaf=0.2):\n",
    "    estimator = tree.DecisionTreeClassifier(\n",
    "           random_state = 0 \n",
    "          ,criterion = crit\n",
    "          ,splitter = split\n",
    "          ,max_depth = depth\n",
    "          ,min_samples_split=min_split\n",
    "          ,min_samples_leaf=min_leaf\n",
    "    )\n",
    "\n",
    "    estimator.fit(X, y)\n",
    "    graph = Source(tree.export_graphviz(estimator\n",
    "      , out_file=None\n",
    "      , feature_names=features_label\n",
    "      , class_names=class_label\n",
    "      , filled = True))\n",
    "    display(SVG(graph.pipe(format='svg')))\n",
    "    return estimator\n",
    "\n",
    "inter=interactive(plot_tree \n",
    "   , crit = [\"gini\", \"entropy\"]\n",
    "   , split = [\"best\", \"random\"]\n",
    "   , depth=[1,2,3,4,5]\n",
    "   , min_split=(0.1,1)\n",
    "   , min_leaf=(0.1,0.5))\n",
    "\n",
    "display(inter)"
   ]
  },
  {
   "cell_type": "code",
   "execution_count": null,
   "id": "b7b68818",
   "metadata": {},
   "outputs": [],
   "source": []
  },
  {
   "cell_type": "code",
   "execution_count": null,
   "id": "d2a54a18",
   "metadata": {},
   "outputs": [],
   "source": []
  },
  {
   "cell_type": "code",
   "execution_count": null,
   "id": "cebd4c57",
   "metadata": {},
   "outputs": [],
   "source": []
  },
  {
   "cell_type": "raw",
   "id": "97bdb352",
   "metadata": {},
   "source": [
    "Premissas dos modelos de arvore\n",
    "\n",
    "Decision boundaries são ortogonais. Ele não consegue extrapolar. \n",
    "Um modelo linear que possui um dataset com a altura das pessoas [1.8, 1.65, 1.9, 1.5] e gera um modelo através de uma reta consegue extrapolar para fazer um predict de altura de 2.0 por exemplo. Já o modelo de árvore poderá ter seu desempenho comprometido. \n",
    "\n",
    "\n",
    "\n",
    "--------------------\n",
    "Material da Mentoria Data Master\n",
    "https://www.cs.cornell.edu/courses/cs4780/2018fa/lectures/\n",
    "        Machine Learning Setup\n",
    "        k-Nearest Neighbors / Curse of Dimensionality\n",
    "        Perceptron\n",
    "        Estimating Probabilities from data\n",
    "        Bayes Classifier and Naive Bayes\n",
    "        Logistic Regression / Maximum Likelihood Estimation / Maximum a Posteriori\n",
    "        Gradient Descent\n",
    "        Linear Regression\n",
    "        Support Vector Machine\n",
    "        Empirical Risk Minimization\n",
    "        Model Selection\n",
    "        Bias-Variance Tradeoff\n",
    "        Kernels\n",
    "        Kernels continued\n",
    "        Gaussian Processes\n",
    "        k-Dimensional Trees\n",
    "        Decision Trees\n",
    "        Bagging\n",
    "        Boosting\n",
    "        Neural Networks\n",
    "        Deep Learning / Stochastic Gradient Descent"
   ]
  },
  {
   "cell_type": "code",
   "execution_count": null,
   "id": "64012e3a",
   "metadata": {},
   "outputs": [],
   "source": []
  }
 ],
 "metadata": {
  "kernelspec": {
   "display_name": "Python 3 (ipykernel)",
   "language": "python",
   "name": "python3"
  },
  "language_info": {
   "codemirror_mode": {
    "name": "ipython",
    "version": 3
   },
   "file_extension": ".py",
   "mimetype": "text/x-python",
   "name": "python",
   "nbconvert_exporter": "python",
   "pygments_lexer": "ipython3",
   "version": "3.9.6"
  }
 },
 "nbformat": 4,
 "nbformat_minor": 5
}
