{
 "cells": [
  {
   "cell_type": "markdown",
   "metadata": {},
   "source": [
    "The NumPy library is the core library for scientific computing in Python. It provides a high-performance multidimensional array object, and tools for working with these arrays. \n",
    "Use the following import convention: <b>import numpy as np </b>\n"
   ]
  },
  {
   "cell_type": "code",
   "execution_count": 1,
   "metadata": {},
   "outputs": [],
   "source": [
    "import numpy as np"
   ]
  },
  {
   "cell_type": "markdown",
   "metadata": {},
   "source": [
    "## Numpy Arrays"
   ]
  },
  {
   "cell_type": "code",
   "execution_count": 11,
   "metadata": {},
   "outputs": [],
   "source": [
    "my_list = [1, 2, 3, 4] \n",
    "my_array = np.array(my_list) \n",
    "my_2darray = np.array([[1,2,3],[4,5,6]])"
   ]
  },
  {
   "cell_type": "markdown",
   "metadata": {},
   "source": [
    "## Selecting Numpy Array Elements"
   ]
  },
  {
   "cell_type": "markdown",
   "metadata": {},
   "source": [
    "### Subset "
   ]
  },
  {
   "cell_type": "code",
   "execution_count": 12,
   "metadata": {},
   "outputs": [
    {
     "data": {
      "text/plain": [
       "2"
      ]
     },
     "execution_count": 12,
     "metadata": {},
     "output_type": "execute_result"
    }
   ],
   "source": [
    "my_array[1] # Select item at index 1"
   ]
  },
  {
   "cell_type": "markdown",
   "metadata": {},
   "source": [
    "### Slice"
   ]
  },
  {
   "cell_type": "code",
   "execution_count": 13,
   "metadata": {},
   "outputs": [
    {
     "data": {
      "text/plain": [
       "array([1, 2])"
      ]
     },
     "execution_count": 13,
     "metadata": {},
     "output_type": "execute_result"
    }
   ],
   "source": [
    "my_array[0:2] # Select items at index 0 and 1"
   ]
  },
  {
   "cell_type": "markdown",
   "metadata": {},
   "source": [
    "### Subset 2D Numpy arrays "
   ]
  },
  {
   "cell_type": "code",
   "execution_count": 14,
   "metadata": {},
   "outputs": [
    {
     "data": {
      "text/plain": [
       "array([1, 4])"
      ]
     },
     "execution_count": 14,
     "metadata": {},
     "output_type": "execute_result"
    }
   ],
   "source": [
    "my_2darray[:,0] # my_2darray[rows, columns]"
   ]
  },
  {
   "cell_type": "markdown",
   "metadata": {},
   "source": [
    "## Numpy Array Operations"
   ]
  },
  {
   "cell_type": "code",
   "execution_count": 15,
   "metadata": {},
   "outputs": [
    {
     "data": {
      "text/plain": [
       "array([False, False, False,  True])"
      ]
     },
     "execution_count": 15,
     "metadata": {},
     "output_type": "execute_result"
    }
   ],
   "source": [
    "my_array > 3"
   ]
  },
  {
   "cell_type": "code",
   "execution_count": 16,
   "metadata": {},
   "outputs": [
    {
     "data": {
      "text/plain": [
       "array([2, 4, 6, 8])"
      ]
     },
     "execution_count": 16,
     "metadata": {},
     "output_type": "execute_result"
    }
   ],
   "source": [
    "my_array * 2"
   ]
  },
  {
   "cell_type": "code",
   "execution_count": 17,
   "metadata": {},
   "outputs": [
    {
     "data": {
      "text/plain": [
       "array([ 6,  8, 10, 12])"
      ]
     },
     "execution_count": 17,
     "metadata": {},
     "output_type": "execute_result"
    }
   ],
   "source": [
    "my_array + np.array([5, 6, 7,8])"
   ]
  },
  {
   "cell_type": "markdown",
   "metadata": {},
   "source": [
    "## Numpy Array Functions"
   ]
  },
  {
   "cell_type": "code",
   "execution_count": null,
   "metadata": {},
   "outputs": [],
   "source": [
    "my_array.shape  # Get the dimensions of the array \n",
    "np.append(other_array) # Append items to an array \n",
    "np.insert(my_array, 1, 5) # Insert items in an array \n",
    "np.delete(my_array,[1]) # Delete items in an array\n",
    "np.mean(my_array) # Mean of the array \n",
    "np.median(my_array) # Median of the array \n",
    "my_array.corrcoef() # Correlation coefficient\n",
    "np.std(my_array)  # Standard deviation"
   ]
  },
  {
   "cell_type": "markdown",
   "metadata": {},
   "source": [
    "# Python For Data science Cheat Sheet Numpy Basics\n",
    "More details and functions using Numpy"
   ]
  },
  {
   "cell_type": "markdown",
   "metadata": {},
   "source": [
    "## Creating Arrays"
   ]
  },
  {
   "cell_type": "code",
   "execution_count": null,
   "metadata": {},
   "outputs": [],
   "source": [
    "a = np.array([1,2,3]) \n",
    "b = np.array([(1.5,2,3), (4,5,6)], dtype = float) \n",
    "c = np.array([[(1.5,2,3), (4,5,6)], [(3,2,1), (4,5,6)]],dtype = float)"
   ]
  },
  {
   "cell_type": "markdown",
   "metadata": {},
   "source": [
    "### Initial Placeholders"
   ]
  },
  {
   "cell_type": "code",
   "execution_count": null,
   "metadata": {},
   "outputs": [],
   "source": [
    "np.zeros((3,4))                 # Create an array of zeros \n",
    "np.ones((2,3,4),dtype=np.int16) # Create an array of ones \n",
    "d = np.arange(10,25,5)          # Create an array of evenly spaced values (step value)             \n",
    "np.linspace(0,2,9)              # Create an array of evenly spaced values (number of samples) \n",
    "e = np.full((2,2),7)            # Create a constant array    \n",
    "f = np.eye(2)                   # Create a 2X2 identity matrix \n",
    "np.random.random((2,2))         # Create an array with random values\n",
    "np.empty((3,2))                 # Create an empty array"
   ]
  },
  {
   "cell_type": "markdown",
   "metadata": {},
   "source": [
    "## I/O"
   ]
  },
  {
   "cell_type": "markdown",
   "metadata": {},
   "source": [
    "### Saving & Loading On Disk "
   ]
  },
  {
   "cell_type": "code",
   "execution_count": null,
   "metadata": {},
   "outputs": [],
   "source": [
    "np.save('my_array', a) \n",
    "np.savez('array.npz', a, b) \n",
    "np.load('my_array.npy')"
   ]
  },
  {
   "cell_type": "markdown",
   "metadata": {},
   "source": [
    "### Saving & Loading Text Files"
   ]
  },
  {
   "cell_type": "code",
   "execution_count": null,
   "metadata": {},
   "outputs": [],
   "source": [
    "np.loadtxt(\"myfile.txt\") \n",
    "np.genfromtxt(\"my_file.csv\", delimiter=',') \n",
    "np.savetxt(\"myarray.txt\", a, delimiter=\" \")"
   ]
  },
  {
   "cell_type": "markdown",
   "metadata": {},
   "source": [
    "## Data Types"
   ]
  },
  {
   "cell_type": "code",
   "execution_count": null,
   "metadata": {},
   "outputs": [],
   "source": [
    "np.int64          # Signed 64-bit integer types \n",
    "np.float32        # Standard double-precision floating point \n",
    "np.complex        # Complex numbers represented by 128 floats \n",
    "np.bool           # Boolean type storing TRUE and FALSE values \n",
    "np.object         # Python object type \n",
    "np.string_        # Fixed-length string type \n",
    "np.unicode_       # Fixed-length unicode type"
   ]
  },
  {
   "cell_type": "markdown",
   "metadata": {},
   "source": [
    "## Inspecting Your Array"
   ]
  },
  {
   "cell_type": "code",
   "execution_count": null,
   "metadata": {},
   "outputs": [],
   "source": [
    "a.shape               # Array dimensions \n",
    "len(a)                # Length of array      \n",
    "b.ndim                # Number of array dimensions  \n",
    "e.size                # Number of array elements \n",
    "b.dtype               # Data type of array elements \n",
    "b.dtype.name          # Name of data type  \n",
    "b.astype(int)         # Convert an array to a different type "
   ]
  },
  {
   "cell_type": "markdown",
   "metadata": {},
   "source": [
    "## Asking For Help"
   ]
  },
  {
   "cell_type": "code",
   "execution_count": null,
   "metadata": {},
   "outputs": [],
   "source": [
    "np.info(np.ndarray.dtype) "
   ]
  },
  {
   "cell_type": "markdown",
   "metadata": {},
   "source": [
    "## Array Mathematics"
   ]
  },
  {
   "cell_type": "markdown",
   "metadata": {},
   "source": [
    "### Arithmetic Operations"
   ]
  },
  {
   "cell_type": "code",
   "execution_count": null,
   "metadata": {},
   "outputs": [],
   "source": [
    "g = a - b                          # Subtraction  array([[-0.5,  0. ,  0. ],[-3. , -3. , -3. ]]) \n",
    "np.subtract(a,b)                   # Subtraction \n",
    "b + a                              # Addition  array([[ 2.5,  4. ,  6. ],[ 5. ,  7. ,  9. ]]) \n",
    "np.add(b,a)                        # Addition \n",
    "a / b                              # Division  array([[ 0.66666667,  1., 1.],[ 0.25,0.4,0.5]]) \n",
    "np.divide(a,b)                     # Division \n",
    "a * b                              # Multiplication  array([[1.5, 4. ,9. ],[  4. ,  10. ,18.]]) \n",
    "np.multiply(a,b)                   # Multiplication \n",
    "np.exp(b)                          # Exponentiation \n",
    "np.sqrt(b)                         # Square root \n",
    "np.sin(a)                          # Print sines of an array \n",
    "np.cos(b)                          # Element-wise cosine \n",
    "np.log(a)                          # Element-wise natural logarithm \n",
    "e.dot(f)                           # Dot product"
   ]
  },
  {
   "cell_type": "markdown",
   "metadata": {},
   "source": [
    "### Comparison"
   ]
  },
  {
   "cell_type": "code",
   "execution_count": null,
   "metadata": {},
   "outputs": [],
   "source": [
    "a == b                             # Element-wise comparison  \n",
    "a < 2                              # Element-wise comparison \n",
    "np.array_equal(a, b)               # Array-wise comparison"
   ]
  },
  {
   "cell_type": "markdown",
   "metadata": {},
   "source": [
    "### Aggregate Functions"
   ]
  },
  {
   "cell_type": "code",
   "execution_count": null,
   "metadata": {},
   "outputs": [],
   "source": [
    "a.sum()                     # Array-wise sum \n",
    "a.min()                     # Array-wise minimum value \n",
    "b.max(axis=0)               # Maximum value of an array row \n",
    "b.cumsum(axis=1)            # Cumulative sum of the elements \n",
    "a.mean()                    # Mean \n",
    "b.median()                  # Median \n",
    "a.corrcoef()                # Correlation coefficient \n",
    "np.std(b)                   # Standard deviation"
   ]
  },
  {
   "cell_type": "markdown",
   "metadata": {},
   "source": [
    "## Copying Arrays "
   ]
  },
  {
   "cell_type": "code",
   "execution_count": null,
   "metadata": {},
   "outputs": [],
   "source": [
    "h = a.view()          # Create a view of the array with the same data \n",
    "np.copy(a)            # Create a copy of the array \n",
    "h = a.copy()          # Create a deep copy of the array"
   ]
  },
  {
   "cell_type": "markdown",
   "metadata": {},
   "source": [
    "## Sorting Arrays "
   ]
  },
  {
   "cell_type": "code",
   "execution_count": null,
   "metadata": {},
   "outputs": [],
   "source": [
    "a.sort()                 # Sort an array \n",
    "c.sort(axis=0)           # Sort the elements of an array's axis"
   ]
  },
  {
   "cell_type": "markdown",
   "metadata": {},
   "source": [
    "## Subsetting, Slicing, Indexing"
   ]
  },
  {
   "cell_type": "markdown",
   "metadata": {},
   "source": [
    "### Subsetting "
   ]
  },
  {
   "cell_type": "code",
   "execution_count": null,
   "metadata": {},
   "outputs": [],
   "source": [
    "a[2]                       #  Select the element at the 2nd index \n",
    "b[1,2]                     #  Select the element at row 1 column 2 (equivalent to b[1][2])"
   ]
  },
  {
   "cell_type": "markdown",
   "metadata": {},
   "source": [
    "### Slicing "
   ]
  },
  {
   "cell_type": "code",
   "execution_count": null,
   "metadata": {},
   "outputs": [],
   "source": [
    "a[0:2]                     #  Select items at index 0 and 1 \n",
    "b[0:2,1]                   #  Select items at rows 0 and 1 in column 1\n",
    "b[:1]                      #  Select all items at row 0 (equivalent to b[0:1, :]) \n",
    "c[1,...]                   #  Same as [1,:,:]\n",
    "a[ : :-1]                  #  Reversed array a"
   ]
  },
  {
   "cell_type": "markdown",
   "metadata": {},
   "source": [
    "### Boolean Indexing "
   ]
  },
  {
   "cell_type": "code",
   "execution_count": null,
   "metadata": {},
   "outputs": [],
   "source": [
    "a[a<2]                     #  Select elements from a less than 2  "
   ]
  },
  {
   "cell_type": "markdown",
   "metadata": {},
   "source": [
    "### Fancy Indexing "
   ]
  },
  {
   "cell_type": "code",
   "execution_count": null,
   "metadata": {},
   "outputs": [],
   "source": [
    "b[[1, 0, 1, 0],[0, 1, 2, 0]]    #  Select elements (1,0),(0,1),(1,2) and (0,0) \n",
    "b[[1, 0, 1, 0]][:,[0,1,2,0]]      #  Select a subset of the matrix’s rows and columns "
   ]
  },
  {
   "cell_type": "markdown",
   "metadata": {},
   "source": [
    "## Array Manipulation"
   ]
  },
  {
   "cell_type": "markdown",
   "metadata": {},
   "source": [
    "### Transposing Array "
   ]
  },
  {
   "cell_type": "code",
   "execution_count": null,
   "metadata": {},
   "outputs": [],
   "source": [
    "i = np.transpose(b)          #  Permute array dimensions \n",
    "i.T                          #  Permute array dimensions  "
   ]
  },
  {
   "cell_type": "markdown",
   "metadata": {},
   "source": [
    "### Changing Array Shape "
   ]
  },
  {
   "cell_type": "code",
   "execution_count": null,
   "metadata": {},
   "outputs": [],
   "source": [
    "b.ravel()                    #  Flatten the array \n",
    "g.reshape(3,-2)              #  Reshape, but don’t change data  "
   ]
  },
  {
   "cell_type": "markdown",
   "metadata": {},
   "source": [
    "### Adding/Removing Elements "
   ]
  },
  {
   "cell_type": "code",
   "execution_count": null,
   "metadata": {},
   "outputs": [],
   "source": [
    "h.resize((2,6))              #  Return a new array with shape (2,6) \n",
    "np.append(h,g)               #  Append items to an array \n",
    "np.insert(a, 1, 5)           #  Insert items in an array \n",
    "np.delete(a,[1])             #  Delete items from an array   "
   ]
  },
  {
   "cell_type": "markdown",
   "metadata": {},
   "source": [
    "### Combining Arrays "
   ]
  },
  {
   "cell_type": "code",
   "execution_count": null,
   "metadata": {},
   "outputs": [],
   "source": [
    "np.concatenate((a,d),axis=0) #  Concatenate arrays\n",
    "np.vstack((a,b))             #  Stack arrays vertically (row-wise) \n",
    "np.r_[e,f]                   #  Stack arrays vertically (row-wise) \n",
    "np.hstack((e,f))             #  Stack arrays horizontally (column-wise)\n",
    "np.column_stack((a,d))       #  Create stacked column-wise arrays\n",
    "np.c_[a,d]                   #  Create stacked column-wise arrays  "
   ]
  },
  {
   "cell_type": "markdown",
   "metadata": {},
   "source": [
    "### Splitting Arrays "
   ]
  },
  {
   "cell_type": "code",
   "execution_count": null,
   "metadata": {},
   "outputs": [],
   "source": [
    "np.hsplit(a,3)               #  Split the array horizontally at the 3rd\n",
    "np.vsplit(c,2)               #  Split the array vertically at the 2nd index "
   ]
  }
 ],
 "metadata": {
  "kernelspec": {
   "display_name": "Python 3 (ipykernel)",
   "language": "python",
   "name": "python3"
  },
  "language_info": {
   "codemirror_mode": {
    "name": "ipython",
    "version": 3
   },
   "file_extension": ".py",
   "mimetype": "text/x-python",
   "name": "python",
   "nbconvert_exporter": "python",
   "pygments_lexer": "ipython3",
   "version": "3.9.6"
  }
 },
 "nbformat": 4,
 "nbformat_minor": 2
}
