{
 "cells": [
  {
   "cell_type": "markdown",
   "metadata": {},
   "source": [
    "# Python For Data Science Cheat Sheet - Seaborn"
   ]
  },
  {
   "cell_type": "markdown",
   "metadata": {},
   "source": [
    "## Statistical Data Visualization With Seaborn\n",
    "The Python visualization library Seaborn is based on matplotlib and provides a high-level interface for drawing attractive statistical graphics.\n",
    "Make use of the following aliases to import the libraries:"
   ]
  },
  {
   "cell_type": "code",
   "execution_count": 1,
   "metadata": {},
   "outputs": [],
   "source": [
    "import matplotlib.pyplot as plt \n",
    "import seaborn as sns"
   ]
  },
  {
   "cell_type": "markdown",
   "metadata": {},
   "source": [
    "The basic steps to creating plots with Seaborn are:    \n",
    "1. Prepare some data    \n",
    "2. Control figure aesthetics    \n",
    "3. Plot with Seaborn    \n",
    "4. Further customize your plot"
   ]
  },
  {
   "cell_type": "code",
   "execution_count": null,
   "metadata": {},
   "outputs": [],
   "source": [
    "import matplotlib.pyplot as plt \n",
    "import seaborn as sns \n",
    "tips = sns.load_dataset(\"tips\")   # Step 1     \n",
    "sns.set_style(\"whitegrid\") # Step 2\n",
    "g = sns.lmplot(x=\"tip\",       # Step 3             \n",
    "                   y=\"total_bill\",                    \n",
    "                   data=tips,                    \n",
    "                   aspect=2)\n",
    "g = (g.set_axis_labels(\"Tip\",\"Total bill(USD)\"). \n",
    "         set(xlim=(0,10),ylim=(0,100))) \n",
    "plt.title(\"title\") # Step 4\n",
    "plt.show(g) # Step 5"
   ]
  },
  {
   "cell_type": "markdown",
   "metadata": {},
   "source": [
    "# 1 Data"
   ]
  },
  {
   "cell_type": "code",
   "execution_count": null,
   "metadata": {},
   "outputs": [],
   "source": [
    "import pandas as pd \n",
    "import numpy as np \n",
    "uniform_data = np.random.rand(10, 12) \n",
    "data = pd.DataFrame({'x':np.arange(1,101),                   \n",
    "                         'y':np.random.normal(0,4,100)})"
   ]
  },
  {
   "cell_type": "markdown",
   "metadata": {},
   "source": [
    "##### Seaborn also offers built-in data sets:"
   ]
  },
  {
   "cell_type": "code",
   "execution_count": null,
   "metadata": {},
   "outputs": [],
   "source": [
    "titanic = sns.load_dataset(\"titanic\") \n",
    "iris = sns.load_dataset(\"iris\")"
   ]
  },
  {
   "cell_type": "markdown",
   "metadata": {},
   "source": [
    "# 2 Figure Aesthetics\n"
   ]
  },
  {
   "cell_type": "code",
   "execution_count": null,
   "metadata": {},
   "outputs": [],
   "source": [
    "f, ax = plt.subplots(figsize=(5,6)) # Create a figure and one subplot\n",
    "\n",
    "# Seaborn styles\n",
    "sns.set()                         # (Re)set the seaborn default \n",
    "sns.set_style(\"whitegrid\")        # Set the matplotlib parameters \n",
    "sns.set_style(\"ticks\",            # Set the matplotlib parameters\n",
    "                 {\"xtick.major.size\":8,                   \n",
    "                  \"ytick.major.size\":8}) \n",
    "sns.axes_style(\"whitegrid\")       # Return a dict of params or use with                                                              # with to temporarily set the style\n",
    "\n",
    "# Context Functions \n",
    "sns.set_context(\"talk\")                        # Set context to \"talk\" \n",
    "sns.set_context(\"notebook\",                    # Set context to \"notebook\",                                       font_scale=1.5,                # Scale font elements and                     \n",
    "                rc={\"lines.linewidth\":2.5})    # override param mapping\n",
    "\n",
    "\n",
    "# Color Palette\n",
    "sns.set_palette(\"husl\",3)      # Define the color palette \n",
    "sns.color_palette(\"husl\")      # Use with with to temporarily set palette \n",
    "flatui = [\"#9b59b6\",\"#3498db\",\"#95a5a6\",\"#e74c3c\",\"#34495e\",\"#2ecc71\"] \n",
    "sns.set_palette(flatui)         #Set your own color palette"
   ]
  },
  {
   "cell_type": "markdown",
   "metadata": {},
   "source": [
    "# 3  Plotting With Seaborn"
   ]
  },
  {
   "cell_type": "markdown",
   "metadata": {},
   "source": [
    "### Axis Grids\n"
   ]
  },
  {
   "cell_type": "code",
   "execution_count": null,
   "metadata": {},
   "outputs": [],
   "source": [
    "g = sns.FacetGrid(titanic,         #Subplot grid for plotting conditional                      \n",
    "                   col=\"survived\",  \n",
    "                   relationships                      \n",
    "                   row=\"sex\") \n",
    "\n",
    "g = g.map(plt.hist,\"age\") \n",
    "sns.factorplot(x=\"pclass\",         # Draw a categorical plot onto a                    \n",
    "               y=\"survived\",       # Facetgrid                   \n",
    "               hue=\"sex\",                   \n",
    "               data=titanic) \n",
    "\n",
    "sns.lmplot(x=\"sepal_width\",        #Plot data and regression model fits               \n",
    "            y=\"sepal_length\",       #across a FacetGrid                \n",
    "            hue=\"species\",                \n",
    "            data=iris) \n",
    "\n",
    "h = sns.PairGrid(iris)            #Subplot grid for plotting pairwise \n",
    "h = h.map(plt.scatter)        #relationships \n",
    "sns.pairplot(iris)            #Plot pairwise bivariate distributions \n",
    "i = sns.JointGrid(x=\"x\",      #Grid for bivariate plot with marginal                      \n",
    "                  y=\"y\",      #univariate plots                      \n",
    "                  data=data) \n",
    "\n",
    "i = i.plot(sns.regplot,sns.distplot) \n",
    "sns.jointplot(\"sepal_length\",  #Plot bivariate distribution                  \n",
    "                  \"sepal_width\",                  \n",
    "                  data=iris,                  \n",
    "                  kind='kde')\n"
   ]
  },
  {
   "cell_type": "markdown",
   "metadata": {},
   "source": [
    "### Categorical Plots "
   ]
  },
  {
   "cell_type": "code",
   "execution_count": null,
   "metadata": {},
   "outputs": [],
   "source": [
    "# Scatterplot \n",
    "sns.stripplot(x=\"species\",               # Scatterplot with one                  \n",
    "              y=\"petal_length\",          # categorical variable                  \n",
    "              data=iris) \n",
    "sns.swarmplot(x=\"species\",               # Categorical scatterplot with                  \n",
    "              y=\"petal_length\",          # non-overlapping points                  \n",
    "              data=iris)  \n",
    "\n",
    "# Bar Chart \n",
    "sns.barplot(x=\"sex\",                     # Show point estimates and               \n",
    "                y=\"survived\",                 # confidence intervals with               \n",
    "                hue=\"class\",                  # scatterplot glyphs               \n",
    "                data=titanic)  \n",
    "# Count Plot \n",
    "sns.countplot(x=\"deck\",                  # Show count of observations                 \n",
    "              data=titanic,                 \n",
    "              palette=\"Greens_d\")  \n",
    "\n",
    "# Point Plot \n",
    "sns.pointplot(x=\"class\",                 # Show point estimates and                   \n",
    "              y=\"survived\",              # confidence intervals as                  \n",
    "              hue=\"sex\",                 # rectangular bars                  \n",
    "              data=titanic,                   \n",
    "              palette={\"male\":\"g\",                           \n",
    "                       \"female\":\"m\"},                  \n",
    "              markers=[\"^\",\"o\"],                  \n",
    "              linestyles=[\"-\",\"--\"])  \n",
    "\n",
    "# Boxplot \n",
    "sns.boxplot(x=\"alive\",                   # Boxplot                \n",
    "            y=\"age\",                \n",
    "            hue=\"adult_male\",                \n",
    "            data=titanic) \n",
    "sns.boxplot(data=iris,orient=\"h\")        # Boxplot with wide-form data  \n",
    "\n",
    "# Violinplot \n",
    "sns.violinplot(x=\"age\",                  # Violin plot                   \n",
    "               y=\"sex\",                   \n",
    "               hue=\"survived\",                   \n",
    "               data=titanic)"
   ]
  },
  {
   "cell_type": "markdown",
   "metadata": {},
   "source": [
    "### Regression Plots"
   ]
  },
  {
   "cell_type": "code",
   "execution_count": null,
   "metadata": {},
   "outputs": [],
   "source": [
    "sns.regplot(x=\"sepal_width\",    #Plot data and a linear regression                \n",
    "             y=\"sepal_length\",   \n",
    "             model fit                \n",
    "             data=iris,                \n",
    "             ax=ax)"
   ]
  },
  {
   "cell_type": "markdown",
   "metadata": {},
   "source": [
    "### Distribution Plots"
   ]
  },
  {
   "cell_type": "code",
   "execution_count": null,
   "metadata": {},
   "outputs": [],
   "source": [
    "plot = sns.distplot(data.y,     # Plot univariate distribution                        \n",
    "                     kde=False,                        \n",
    "                     color=\"b\") "
   ]
  },
  {
   "cell_type": "markdown",
   "metadata": {},
   "source": [
    "### Matrix Plot"
   ]
  },
  {
   "cell_type": "code",
   "execution_count": null,
   "metadata": {},
   "outputs": [],
   "source": [
    "sns.heatmap(uniform_data,vmin=0,vmax=1)  # Heatmap"
   ]
  },
  {
   "cell_type": "markdown",
   "metadata": {},
   "source": [
    "# 4 Further Customizations "
   ]
  },
  {
   "cell_type": "markdown",
   "metadata": {},
   "source": [
    "### Axisgrid Objects"
   ]
  },
  {
   "cell_type": "code",
   "execution_count": null,
   "metadata": {},
   "outputs": [],
   "source": [
    "g.despine(left=True)           # Remove left spine \n",
    "g.set_ylabels(\"Survived\")      # Set the labels of the y-axis \n",
    "g.set_xticklabels(rotation=45) # Set the tick labels for x \n",
    "g.set_axis_labels(\"Survived\",  # Set the axis labels                      \n",
    "                      \"Sex\") \n",
    "h.set(xlim=(0,5),              #  Set the limit and ticks of the x-and y-axis         \n",
    "      ylim=(0,5),          \n",
    "      xticks=[0,2.5,5],           \n",
    "      yticks=[0,2.5,5])"
   ]
  },
  {
   "cell_type": "markdown",
   "metadata": {},
   "source": [
    "### Plot"
   ]
  },
  {
   "cell_type": "code",
   "execution_count": null,
   "metadata": {},
   "outputs": [],
   "source": [
    "plt.title(\"A Title\")       # Add plot title \n",
    "plt.ylabel(\"Survived\")     # Adjust the label of the y-axis \n",
    "plt.xlabel(\"Sex\")          # Adjust the label of the x-axis \n",
    "plt.ylim(0,100)            # Adjust the limits of the y-axis \n",
    "plt.xlim(0,10)             # Adjust the limits of the x-axis \n",
    "plt.setp(ax,yticks=[0,5])  # Adjust a plot property \n",
    "plt.tight_layout()         # Adjust subplot params"
   ]
  },
  {
   "cell_type": "markdown",
   "metadata": {},
   "source": [
    "# 5 Show or Save Plot\n"
   ]
  },
  {
   "cell_type": "code",
   "execution_count": null,
   "metadata": {},
   "outputs": [],
   "source": [
    "plt.show()                      # Show the plot \n",
    "plt.savefig(\"foo.png\")          # Save the plot as a figure \n",
    "plt.savefig(\"foo.png\",transparent=True)  # Save transparent figure               \n",
    "                                                                                                                                  "
   ]
  },
  {
   "cell_type": "markdown",
   "metadata": {},
   "source": [
    "## Close & Clear"
   ]
  },
  {
   "cell_type": "code",
   "execution_count": null,
   "metadata": {},
   "outputs": [],
   "source": [
    "plt.cla()                      # Clear an axis \n",
    "plt.clf()                      # Clear an entire figure \n",
    "plt.close()                    # Close a window"
   ]
  },
  {
   "cell_type": "code",
   "execution_count": null,
   "metadata": {},
   "outputs": [],
   "source": []
  }
 ],
 "metadata": {
  "kernelspec": {
   "display_name": "Python 3",
   "language": "python",
   "name": "python3"
  },
  "language_info": {
   "codemirror_mode": {
    "name": "ipython",
    "version": 3
   },
   "file_extension": ".py",
   "mimetype": "text/x-python",
   "name": "python",
   "nbconvert_exporter": "python",
   "pygments_lexer": "ipython3",
   "version": "3.6.5"
  }
 },
 "nbformat": 4,
 "nbformat_minor": 2
}
