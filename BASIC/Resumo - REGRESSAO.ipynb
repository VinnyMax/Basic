{
 "cells": [
  {
   "cell_type": "raw",
   "id": "b7fa186c",
   "metadata": {},
   "source": [
    "http://localhost:8888/notebooks/_PY/Trade_NB/_DS/_Regressao_EURUSD_003.ipynb"
   ]
  },
  {
   "cell_type": "code",
   "execution_count": 29,
   "id": "d093ca1d",
   "metadata": {},
   "outputs": [],
   "source": [
    "import pandas as pd\n",
    "import numpy as np\n",
    "import matplotlib.pyplot as plt\n",
    "import seaborn as sns\n",
    "\n",
    "import warnings\n",
    "warnings.filterwarnings(\"ignore\")"
   ]
  },
  {
   "cell_type": "code",
   "execution_count": 13,
   "id": "9a584e73",
   "metadata": {},
   "outputs": [
    {
     "data": {
      "text/plain": [
       "(3000, 11)"
      ]
     },
     "execution_count": 13,
     "metadata": {},
     "output_type": "execute_result"
    }
   ],
   "source": [
    "df = pd.read_csv('regressao_Q1.csv')\n",
    "df.shape"
   ]
  },
  {
   "cell_type": "code",
   "execution_count": 7,
   "id": "7292816a",
   "metadata": {},
   "outputs": [],
   "source": [
    "# IMPORTANTE: NESTE CASO ESPECIFICAMENTE NÃO VOU FAZER UM SPLIT DE TESTE\n",
    "# o objetivo aqui é apenas carregar as funções de exemplo e implementar MODELOS e METRICAS!\n",
    "# os dados já estão pre-processados!"
   ]
  },
  {
   "cell_type": "code",
   "execution_count": 8,
   "id": "ffeb8799",
   "metadata": {},
   "outputs": [],
   "source": [
    "from sklearn.model_selection import train_test_split"
   ]
  },
  {
   "cell_type": "code",
   "execution_count": 10,
   "id": "c9a0d91a",
   "metadata": {},
   "outputs": [],
   "source": [
    "# Separando as features (X) e o target (y)\n",
    "X = df.drop(columns=['target'])\n",
    "y = df['target']"
   ]
  },
  {
   "cell_type": "code",
   "execution_count": 11,
   "id": "5b6ff27c",
   "metadata": {},
   "outputs": [],
   "source": [
    "X_train, X_test, y_train, y_test = train_test_split(X,y, test_size=0.2)"
   ]
  },
  {
   "cell_type": "markdown",
   "id": "c81f21b4",
   "metadata": {},
   "source": [
    "# MODELOS"
   ]
  },
  {
   "cell_type": "markdown",
   "id": "e13de334",
   "metadata": {},
   "source": [
    "#### REGRESSÃO LINEAR"
   ]
  },
  {
   "cell_type": "code",
   "execution_count": 38,
   "id": "e00c1206",
   "metadata": {},
   "outputs": [],
   "source": [
    "from sklearn.linear_model import LinearRegression\n",
    "\n",
    "model = LinearRegression()\n",
    "model.fit(X_train, y_train)\n",
    "predict = model.predict(X_test)"
   ]
  },
  {
   "cell_type": "code",
   "execution_count": 41,
   "id": "b4ef9f41",
   "metadata": {},
   "outputs": [
    {
     "data": {
      "text/plain": [
       "0.004657870426561923"
      ]
     },
     "execution_count": 41,
     "metadata": {},
     "output_type": "execute_result"
    }
   ],
   "source": [
    "# b0\n",
    "model.intercept_"
   ]
  },
  {
   "cell_type": "code",
   "execution_count": 42,
   "id": "e8171262",
   "metadata": {},
   "outputs": [
    {
     "data": {
      "text/plain": [
       "array([ 1.85455535e-05, -8.76341521e-06, -1.61999906e-06,  1.84989481e-06,\n",
       "        4.79023372e-01,  9.10605317e-01, -4.28268228e-08, -3.90852875e-06,\n",
       "       -7.23852058e-06, -1.04943066e-06])"
      ]
     },
     "execution_count": 42,
     "metadata": {},
     "output_type": "execute_result"
    }
   ],
   "source": [
    "# b1\n",
    "model.coef_"
   ]
  },
  {
   "cell_type": "code",
   "execution_count": 46,
   "id": "3a5c446e",
   "metadata": {},
   "outputs": [
    {
     "data": {
      "text/plain": [
       "0.9999997365449735"
      ]
     },
     "execution_count": 46,
     "metadata": {},
     "output_type": "execute_result"
    }
   ],
   "source": [
    "## Return the coefficient of determination of the prediction (R2)\n",
    "model.score(X_train, y_train)"
   ]
  },
  {
   "cell_type": "markdown",
   "id": "45897d11",
   "metadata": {},
   "source": [
    "#### GLM"
   ]
  },
  {
   "cell_type": "raw",
   "id": "af8b2643",
   "metadata": {},
   "source": [
    "Modelos Lineares Generalizados(GLM) são extensões do modelo típico de Regressão Linear ou Mínimos Quadrados Ordinários (OLS). Quando usamos a regressão linear presumimos que os dados seguem uma distribuição normal, também conhecida como distribuição gaussiana. Entretanto, os dados podem se comportar de acordo com outros tipos de distribuições. Por isso, temos Modelos Lineares Generalizados.\n",
    "Se por exemplo Y for uma variável discreta. Contudo, a regressão linear assume variáveis contínuas. Portanto, a regressão linear não é apropriado para este tipo de dados de contagem.\n",
    "\n",
    "É aí que entra o Generalized Linear Models (GLM)\n",
    "\n",
    "Um passo importante é invertigar qual distribuição funciona melhor para seus dados e ajustar o hiper parametro:\n",
    "families.Poisson [Binomial, Uniform, Etc]\n",
    "\n",
    "\n",
    "https://medium.com/@renata-biaggi/modelos-lineares-generalizados-d59245550585\n",
    "https://github.com/rebiaggi/GLM/blob/main/GLM.ipynb"
   ]
  },
  {
   "cell_type": "code",
   "execution_count": 50,
   "id": "f23c0cf3",
   "metadata": {},
   "outputs": [
    {
     "data": {
      "text/html": [
       "<table class=\"simpletable\">\n",
       "<caption>Generalized Linear Model Regression Results</caption>\n",
       "<tr>\n",
       "  <th>Dep. Variable:</th>        <td>target</td>      <th>  No. Observations:  </th>  <td>  2400</td> \n",
       "</tr>\n",
       "<tr>\n",
       "  <th>Model:</th>                  <td>GLM</td>       <th>  Df Residuals:      </th>  <td>  2390</td> \n",
       "</tr>\n",
       "<tr>\n",
       "  <th>Model Family:</th>         <td>Poisson</td>     <th>  Df Model:          </th>  <td>     9</td> \n",
       "</tr>\n",
       "<tr>\n",
       "  <th>Link Function:</th>          <td>log</td>       <th>  Scale:             </th> <td>  1.0000</td>\n",
       "</tr>\n",
       "<tr>\n",
       "  <th>Method:</th>                <td>IRLS</td>       <th>  Log-Likelihood:    </th> <td> -2812.0</td>\n",
       "</tr>\n",
       "<tr>\n",
       "  <th>Date:</th>            <td>Sun, 12 May 2024</td> <th>  Deviance:          </th> <td>  71893.</td>\n",
       "</tr>\n",
       "<tr>\n",
       "  <th>Time:</th>                <td>08:22:28</td>     <th>  Pearson chi2:      </th> <td>7.75e+03</td>\n",
       "</tr>\n",
       "<tr>\n",
       "  <th>No. Iterations:</th>          <td>7</td>        <th>  Pseudo R-squ. (CS):</th>  <td>-1.835</td> \n",
       "</tr>\n",
       "<tr>\n",
       "  <th>Covariance Type:</th>     <td>nonrobust</td>    <th>                     </th>     <td> </td>   \n",
       "</tr>\n",
       "</table>\n",
       "<table class=\"simpletable\">\n",
       "<tr>\n",
       "    <td></td>      <th>coef</th>     <th>std err</th>      <th>z</th>      <th>P>|z|</th>  <th>[0.025</th>    <th>0.975]</th>  \n",
       "</tr>\n",
       "<tr>\n",
       "  <th>v_1</th>  <td>    0.0175</td> <td>    0.017</td> <td>    1.013</td> <td> 0.311</td> <td>   -0.016</td> <td>    0.051</td>\n",
       "</tr>\n",
       "<tr>\n",
       "  <th>v_2</th>  <td>   -0.0096</td> <td>    0.018</td> <td>   -0.531</td> <td> 0.595</td> <td>   -0.045</td> <td>    0.026</td>\n",
       "</tr>\n",
       "<tr>\n",
       "  <th>v_3</th>  <td>    0.0401</td> <td>    0.018</td> <td>    2.187</td> <td> 0.029</td> <td>    0.004</td> <td>    0.076</td>\n",
       "</tr>\n",
       "<tr>\n",
       "  <th>v_4</th>  <td>   -0.0185</td> <td>    0.018</td> <td>   -1.015</td> <td> 0.310</td> <td>   -0.054</td> <td>    0.017</td>\n",
       "</tr>\n",
       "<tr>\n",
       "  <th>v_5</th>  <td>    0.3615</td> <td>    0.018</td> <td>   20.449</td> <td> 0.000</td> <td>    0.327</td> <td>    0.396</td>\n",
       "</tr>\n",
       "<tr>\n",
       "  <th>v_6</th>  <td>    0.6559</td> <td>    0.015</td> <td>   44.051</td> <td> 0.000</td> <td>    0.627</td> <td>    0.685</td>\n",
       "</tr>\n",
       "<tr>\n",
       "  <th>v_7</th>  <td>    0.0020</td> <td>    0.018</td> <td>    0.114</td> <td> 0.909</td> <td>   -0.032</td> <td>    0.037</td>\n",
       "</tr>\n",
       "<tr>\n",
       "  <th>v_8</th>  <td>   -0.0145</td> <td>    0.018</td> <td>   -0.801</td> <td> 0.423</td> <td>   -0.050</td> <td>    0.021</td>\n",
       "</tr>\n",
       "<tr>\n",
       "  <th>v_9</th>  <td>    0.0325</td> <td>    0.017</td> <td>    1.880</td> <td> 0.060</td> <td>   -0.001</td> <td>    0.066</td>\n",
       "</tr>\n",
       "<tr>\n",
       "  <th>v_10</th> <td>   -0.0073</td> <td>    0.018</td> <td>   -0.403</td> <td> 0.687</td> <td>   -0.043</td> <td>    0.028</td>\n",
       "</tr>\n",
       "</table>"
      ],
      "text/plain": [
       "<class 'statsmodels.iolib.summary.Summary'>\n",
       "\"\"\"\n",
       "                 Generalized Linear Model Regression Results                  \n",
       "==============================================================================\n",
       "Dep. Variable:                 target   No. Observations:                 2400\n",
       "Model:                            GLM   Df Residuals:                     2390\n",
       "Model Family:                 Poisson   Df Model:                            9\n",
       "Link Function:                    log   Scale:                          1.0000\n",
       "Method:                          IRLS   Log-Likelihood:                -2812.0\n",
       "Date:                Sun, 12 May 2024   Deviance:                       71893.\n",
       "Time:                        08:22:28   Pearson chi2:                 7.75e+03\n",
       "No. Iterations:                     7   Pseudo R-squ. (CS):             -1.835\n",
       "Covariance Type:            nonrobust                                         \n",
       "==============================================================================\n",
       "                 coef    std err          z      P>|z|      [0.025      0.975]\n",
       "------------------------------------------------------------------------------\n",
       "v_1            0.0175      0.017      1.013      0.311      -0.016       0.051\n",
       "v_2           -0.0096      0.018     -0.531      0.595      -0.045       0.026\n",
       "v_3            0.0401      0.018      2.187      0.029       0.004       0.076\n",
       "v_4           -0.0185      0.018     -1.015      0.310      -0.054       0.017\n",
       "v_5            0.3615      0.018     20.449      0.000       0.327       0.396\n",
       "v_6            0.6559      0.015     44.051      0.000       0.627       0.685\n",
       "v_7            0.0020      0.018      0.114      0.909      -0.032       0.037\n",
       "v_8           -0.0145      0.018     -0.801      0.423      -0.050       0.021\n",
       "v_9            0.0325      0.017      1.880      0.060      -0.001       0.066\n",
       "v_10          -0.0073      0.018     -0.403      0.687      -0.043       0.028\n",
       "==============================================================================\n",
       "\"\"\""
      ]
     },
     "metadata": {},
     "output_type": "display_data"
    }
   ],
   "source": [
    "import statsmodels.api as sm\n",
    "\n",
    "mod = sm.GLM(y_train, X_train, family=sm.families.Poisson(link=sm.families.links.log()))\n",
    "res = mod.fit()\n",
    "display(res.summary())"
   ]
  },
  {
   "cell_type": "code",
   "execution_count": 51,
   "id": "451f965c",
   "metadata": {},
   "outputs": [
    {
     "name": "stdout",
     "output_type": "stream",
     "text": [
      "1506    1.130056\n",
      "862     1.647212\n",
      "1234    0.389336\n",
      "1132    0.736568\n",
      "506     2.636844\n",
      "          ...   \n",
      "1424    0.629412\n",
      "1060    1.064090\n",
      "813     1.041910\n",
      "2745    0.898846\n",
      "1347    0.345835\n",
      "Length: 600, dtype: float64\n"
     ]
    }
   ],
   "source": [
    "y_test_pred_glm = res.predict(X_test)\n",
    "print(y_test_pred_glm)"
   ]
  },
  {
   "cell_type": "code",
   "execution_count": 54,
   "id": "5b1fb7bc",
   "metadata": {},
   "outputs": [
    {
     "data": {
      "text/plain": [
       "-0.9597060751916444"
      ]
     },
     "execution_count": 54,
     "metadata": {},
     "output_type": "execute_result"
    }
   ],
   "source": [
    "r2(y_test, y_test_pred_glm)"
   ]
  },
  {
   "cell_type": "markdown",
   "id": "8fe7461c",
   "metadata": {},
   "source": [
    "#### ARVORE DE REGRESSÃO"
   ]
  },
  {
   "cell_type": "code",
   "execution_count": 55,
   "id": "6a8291ca",
   "metadata": {},
   "outputs": [],
   "source": [
    "from sklearn.tree import DecisionTreeRegressor\n",
    "\n",
    "model = DecisionTreeRegressor()\n",
    "model.fit(X_train, y_train)\n",
    "predict = model.predict(X_test)"
   ]
  },
  {
   "cell_type": "markdown",
   "id": "3db32a82",
   "metadata": {},
   "source": [
    "#### KNN (aplicado na regressão)"
   ]
  },
  {
   "cell_type": "code",
   "execution_count": 57,
   "id": "7a34d81e",
   "metadata": {},
   "outputs": [],
   "source": [
    "from sklearn.neighbors import KNeighborsRegressor\n",
    "\n",
    "model = KNeighborsRegressor(n_neighbors=2)\n",
    "model.fit(X_train, y_train)\n",
    "predict = model.predict(X_test)"
   ]
  },
  {
   "cell_type": "markdown",
   "id": "d96238c0",
   "metadata": {},
   "source": [
    "#### SVM (SVR)"
   ]
  },
  {
   "cell_type": "code",
   "execution_count": 56,
   "id": "daae74de",
   "metadata": {},
   "outputs": [],
   "source": [
    "from sklearn.svm import SVR\n",
    "\n",
    "model = SVR(kernel='linear', C=0.01)\n",
    "model.fit(X_train, y_train)\n",
    "predict = model.predict(X_test)"
   ]
  },
  {
   "cell_type": "markdown",
   "id": "055a41fb",
   "metadata": {},
   "source": [
    "# BAGGING"
   ]
  },
  {
   "cell_type": "code",
   "execution_count": null,
   "id": "d90b4aa2",
   "metadata": {},
   "outputs": [],
   "source": [
    "Abordagem: paralela (modelos independentes)\n",
    "Foco: Reduzir variancia\n",
    "Tipo de Agregação: Média (regressão) e Votação (classificação)\n",
    "Complexidade: menos sensível a overfitting"
   ]
  },
  {
   "cell_type": "markdown",
   "id": "893d496c",
   "metadata": {},
   "source": [
    "#### RANDOM FOREST REGRESSOR"
   ]
  },
  {
   "cell_type": "code",
   "execution_count": null,
   "id": "07c98086",
   "metadata": {},
   "outputs": [],
   "source": [
    "from sklearn.ensemble import RandomForestRegressor\n",
    "\n",
    "model = RandomForestRegressor(n_estimators = 10)\n",
    "model.fit(X_train, y_train)\n",
    "predict = model.predict(X_test)"
   ]
  },
  {
   "cell_type": "markdown",
   "id": "6f25b843",
   "metadata": {},
   "source": [
    "# BOOSTING"
   ]
  },
  {
   "cell_type": "code",
   "execution_count": null,
   "id": "052a3d22",
   "metadata": {},
   "outputs": [],
   "source": [
    "Abordagem: sequencial (modelos corrigem erros)\n",
    "Foco: Reduzir viés\n",
    "Tipo de Agregação: Média ponderada\n",
    "Complexidade: possível sensibilidade a overfitting"
   ]
  },
  {
   "cell_type": "markdown",
   "id": "7a56754a",
   "metadata": {},
   "source": [
    "#### GRADIENT BOOSTING REGRESSOR"
   ]
  },
  {
   "cell_type": "code",
   "execution_count": 58,
   "id": "37c6165e",
   "metadata": {},
   "outputs": [],
   "source": [
    "from sklearn.ensemble import GradientBoostingRegressor\n",
    "\n",
    "model = GradientBoostingRegressor(n_estimators = 10)\n",
    "model.fit(X_train, y_train)\n",
    "predict = model.predict(X_test)"
   ]
  },
  {
   "cell_type": "markdown",
   "id": "96c72af6",
   "metadata": {},
   "source": [
    "#### XGBOOST REGRESSOR"
   ]
  },
  {
   "cell_type": "code",
   "execution_count": 67,
   "id": "6d30d804",
   "metadata": {},
   "outputs": [],
   "source": [
    "from xgboost import XGBRegressor\n",
    "\n",
    "model = XGBRegressor()\n",
    "model.fit(X_train, y_train)\n",
    "predict = model.predict(X_test)"
   ]
  },
  {
   "cell_type": "markdown",
   "id": "a422525a",
   "metadata": {},
   "source": [
    "# REDES NEURAIS"
   ]
  },
  {
   "cell_type": "code",
   "execution_count": 63,
   "id": "aae1a69d",
   "metadata": {},
   "outputs": [],
   "source": [
    "from sklearn.neural_network import MLPRegressor\n",
    "\n",
    "model = MLPRegressor(max_iter=1000)\n",
    "model.fit(X_train, y_train)\n",
    "predict = model.predict(X_test)"
   ]
  },
  {
   "cell_type": "code",
   "execution_count": 64,
   "id": "16a7c110",
   "metadata": {},
   "outputs": [
    {
     "data": {
      "text/plain": [
       "0.9946500685105553"
      ]
     },
     "execution_count": 64,
     "metadata": {},
     "output_type": "execute_result"
    }
   ],
   "source": [
    "r2_score(y_test, predict)"
   ]
  },
  {
   "cell_type": "code",
   "execution_count": null,
   "id": "f14cd06c",
   "metadata": {},
   "outputs": [],
   "source": [
    "# Verificando o numero de variaveis independentes para explorar o numero de camadas ocultas"
   ]
  },
  {
   "cell_type": "code",
   "execution_count": 60,
   "id": "ac930613",
   "metadata": {},
   "outputs": [
    {
     "data": {
      "text/plain": [
       "(600, 10)"
      ]
     },
     "execution_count": 60,
     "metadata": {},
     "output_type": "execute_result"
    }
   ],
   "source": [
    "X_test.shape"
   ]
  },
  {
   "cell_type": "code",
   "execution_count": null,
   "id": "11ef1fb9",
   "metadata": {},
   "outputs": [],
   "source": [
    "(10 + 1) / 2"
   ]
  },
  {
   "cell_type": "code",
   "execution_count": null,
   "id": "a115f539",
   "metadata": {},
   "outputs": [],
   "source": [
    "# 10 -> 6 -> 6 -> 1"
   ]
  },
  {
   "cell_type": "code",
   "execution_count": 65,
   "id": "d6b8194b",
   "metadata": {},
   "outputs": [],
   "source": [
    "model = MLPRegressor(max_iter=1000, hidden_layer_sizes=(6,6))\n",
    "model.fit(X_train, y_train)\n",
    "predict = model.predict(X_test)"
   ]
  },
  {
   "cell_type": "code",
   "execution_count": 66,
   "id": "be55e993",
   "metadata": {},
   "outputs": [
    {
     "data": {
      "text/plain": [
       "0.9969641634547534"
      ]
     },
     "execution_count": 66,
     "metadata": {},
     "output_type": "execute_result"
    }
   ],
   "source": [
    "r2_score(y_test, predict)"
   ]
  },
  {
   "cell_type": "markdown",
   "id": "60df1ee8",
   "metadata": {},
   "source": [
    "# REGULARIZAÇÃO L1 E L2"
   ]
  },
  {
   "cell_type": "markdown",
   "id": "91025bd0",
   "metadata": {},
   "source": [
    "#### Regressão Ridge (L2):"
   ]
  },
  {
   "cell_type": "code",
   "execution_count": 75,
   "id": "a93c7fe0",
   "metadata": {},
   "outputs": [
    {
     "name": "stdout",
     "output_type": "stream",
     "text": [
      "0.25 : 99.99997231416387\n",
      "0.5 : 99.99996938849827\n",
      "0.75 : 99.99996451838912\n",
      "1.0 : 99.99995770499478\n",
      "1.25 : 99.99994894947291\n",
      "1.5 : 99.99993825298048\n",
      "1.75 : 99.9999256166738\n",
      "2.0 : 99.99991104170844\n"
     ]
    }
   ],
   "source": [
    "from sklearn.linear_model import Lasso, Ridge # l1, l2\n",
    "from sklearn.model_selection import cross_val_score\n",
    "from statistics import mean\n",
    "\n",
    "# List to maintain the different cross-validation scores\n",
    "cross_val_scores_ridge = []\n",
    " \n",
    "# List to maintain the different values of alpha\n",
    "alpha = []\n",
    " \n",
    "# Loop to compute the different values of cross-validation scores\n",
    "for i in range(1, 9):\n",
    "    ridgeModel = Ridge(alpha = i * 0.25)\n",
    "    ridgeModel.fit(X_train, y_train)\n",
    "    scores = cross_val_score(ridgeModel, X, y, cv = 10)\n",
    "    avg_cross_val_score = mean(scores)*100\n",
    "    cross_val_scores_ridge.append(avg_cross_val_score)\n",
    "    alpha.append(i * 0.25)\n",
    " \n",
    "# Loop to print the different values of cross-validation scores\n",
    "for i in range(0, len(alpha)):\n",
    "    print(str(alpha[i])+' : '+str(cross_val_scores_ridge[i]))"
   ]
  },
  {
   "cell_type": "raw",
   "id": "e090d743",
   "metadata": {},
   "source": [
    "A partir da saída acima, podemos concluir que o melhor valor de alfa para os dados é 0.25"
   ]
  },
  {
   "cell_type": "code",
   "execution_count": 76,
   "id": "c152cc73",
   "metadata": {},
   "outputs": [
    {
     "name": "stdout",
     "output_type": "stream",
     "text": [
      "0.9999997082383828\n"
     ]
    }
   ],
   "source": [
    "# Building and fitting the Ridge Regression model\n",
    "ridgeModelChosen = Ridge(alpha = 0.25)\n",
    "ridgeModelChosen.fit(X_train, y_train)\n",
    " \n",
    "# Evaluating the Ridge Regression model\n",
    "print(ridgeModelChosen.score(X_test, y_test))"
   ]
  },
  {
   "cell_type": "markdown",
   "id": "97eb9bec",
   "metadata": {},
   "source": [
    "#### Regressão Lasso (L1):"
   ]
  },
  {
   "cell_type": "code",
   "execution_count": 77,
   "id": "8d7930f1",
   "metadata": {},
   "outputs": [
    {
     "name": "stdout",
     "output_type": "stream",
     "text": [
      "0.25 : 86.68689035920995\n",
      "0.5 : 51.689152220227676\n",
      "0.75 : 19.220903869479827\n",
      "1.0 : -0.10283843588469344\n",
      "1.25 : -0.10283843588469344\n",
      "1.5 : -0.10283843588469344\n",
      "1.75 : -0.10283843588469344\n",
      "2.0 : -0.10283843588469344\n"
     ]
    }
   ],
   "source": [
    "# List to maintain the cross-validation scores\n",
    "cross_val_scores_lasso = []\n",
    " \n",
    "# List to maintain the different values of Lambda\n",
    "Lambda = []\n",
    " \n",
    "# Loop to compute the cross-validation scores\n",
    "for i in range(1, 9):\n",
    "    lassoModel = Lasso(alpha = i * 0.25, tol = 0.0925)\n",
    "    lassoModel.fit(X_train, y_train)\n",
    "    scores = cross_val_score(lassoModel, X, y, cv = 10)\n",
    "    avg_cross_val_score = mean(scores)*100\n",
    "    cross_val_scores_lasso.append(avg_cross_val_score)\n",
    "    Lambda.append(i * 0.25)\n",
    " \n",
    "# Loop to print the different values of cross-validation scores\n",
    "for i in range(0, len(alpha)):\n",
    "    print(str(alpha[i])+' : '+str(cross_val_scores_lasso[i]))"
   ]
  },
  {
   "cell_type": "raw",
   "id": "740cc2f4",
   "metadata": {},
   "source": [
    "A partir da saída acima, podemos concluir que o melhor valor de lambda é 0.25."
   ]
  },
  {
   "cell_type": "code",
   "execution_count": 79,
   "id": "8e5e80ad",
   "metadata": {},
   "outputs": [
    {
     "name": "stdout",
     "output_type": "stream",
     "text": [
      "0.86472718372588\n"
     ]
    }
   ],
   "source": [
    "# Building and fitting the Lasso Regression Model\n",
    "lassoModelChosen = Lasso(alpha = 0.25, tol = 0.0925)\n",
    "lassoModelChosen.fit(X_train, y_train)\n",
    " \n",
    "# Evaluating the Lasso Regression model\n",
    "print(lassoModelChosen.score(X_test, y_test))"
   ]
  },
  {
   "cell_type": "markdown",
   "id": "6ca27de2",
   "metadata": {},
   "source": [
    "##### Comparando e visualizando os resultados"
   ]
  },
  {
   "cell_type": "code",
   "execution_count": 81,
   "id": "5814a3b7",
   "metadata": {},
   "outputs": [
    {
     "data": {
      "text/html": [
       "<style>#sk-container-id-2 {color: black;background-color: white;}#sk-container-id-2 pre{padding: 0;}#sk-container-id-2 div.sk-toggleable {background-color: white;}#sk-container-id-2 label.sk-toggleable__label {cursor: pointer;display: block;width: 100%;margin-bottom: 0;padding: 0.3em;box-sizing: border-box;text-align: center;}#sk-container-id-2 label.sk-toggleable__label-arrow:before {content: \"▸\";float: left;margin-right: 0.25em;color: #696969;}#sk-container-id-2 label.sk-toggleable__label-arrow:hover:before {color: black;}#sk-container-id-2 div.sk-estimator:hover label.sk-toggleable__label-arrow:before {color: black;}#sk-container-id-2 div.sk-toggleable__content {max-height: 0;max-width: 0;overflow: hidden;text-align: left;background-color: #f0f8ff;}#sk-container-id-2 div.sk-toggleable__content pre {margin: 0.2em;color: black;border-radius: 0.25em;background-color: #f0f8ff;}#sk-container-id-2 input.sk-toggleable__control:checked~div.sk-toggleable__content {max-height: 200px;max-width: 100%;overflow: auto;}#sk-container-id-2 input.sk-toggleable__control:checked~label.sk-toggleable__label-arrow:before {content: \"▾\";}#sk-container-id-2 div.sk-estimator input.sk-toggleable__control:checked~label.sk-toggleable__label {background-color: #d4ebff;}#sk-container-id-2 div.sk-label input.sk-toggleable__control:checked~label.sk-toggleable__label {background-color: #d4ebff;}#sk-container-id-2 input.sk-hidden--visually {border: 0;clip: rect(1px 1px 1px 1px);clip: rect(1px, 1px, 1px, 1px);height: 1px;margin: -1px;overflow: hidden;padding: 0;position: absolute;width: 1px;}#sk-container-id-2 div.sk-estimator {font-family: monospace;background-color: #f0f8ff;border: 1px dotted black;border-radius: 0.25em;box-sizing: border-box;margin-bottom: 0.5em;}#sk-container-id-2 div.sk-estimator:hover {background-color: #d4ebff;}#sk-container-id-2 div.sk-parallel-item::after {content: \"\";width: 100%;border-bottom: 1px solid gray;flex-grow: 1;}#sk-container-id-2 div.sk-label:hover label.sk-toggleable__label {background-color: #d4ebff;}#sk-container-id-2 div.sk-serial::before {content: \"\";position: absolute;border-left: 1px solid gray;box-sizing: border-box;top: 0;bottom: 0;left: 50%;z-index: 0;}#sk-container-id-2 div.sk-serial {display: flex;flex-direction: column;align-items: center;background-color: white;padding-right: 0.2em;padding-left: 0.2em;position: relative;}#sk-container-id-2 div.sk-item {position: relative;z-index: 1;}#sk-container-id-2 div.sk-parallel {display: flex;align-items: stretch;justify-content: center;background-color: white;position: relative;}#sk-container-id-2 div.sk-item::before, #sk-container-id-2 div.sk-parallel-item::before {content: \"\";position: absolute;border-left: 1px solid gray;box-sizing: border-box;top: 0;bottom: 0;left: 50%;z-index: -1;}#sk-container-id-2 div.sk-parallel-item {display: flex;flex-direction: column;z-index: 1;position: relative;background-color: white;}#sk-container-id-2 div.sk-parallel-item:first-child::after {align-self: flex-end;width: 50%;}#sk-container-id-2 div.sk-parallel-item:last-child::after {align-self: flex-start;width: 50%;}#sk-container-id-2 div.sk-parallel-item:only-child::after {width: 0;}#sk-container-id-2 div.sk-dashed-wrapped {border: 1px dashed gray;margin: 0 0.4em 0.5em 0.4em;box-sizing: border-box;padding-bottom: 0.4em;background-color: white;}#sk-container-id-2 div.sk-label label {font-family: monospace;font-weight: bold;display: inline-block;line-height: 1.2em;}#sk-container-id-2 div.sk-label-container {text-align: center;}#sk-container-id-2 div.sk-container {/* jupyter's `normalize.less` sets `[hidden] { display: none; }` but bootstrap.min.css set `[hidden] { display: none !important; }` so we also need the `!important` here to be able to override the default hidden behavior on the sphinx rendered scikit-learn.org. See: https://github.com/scikit-learn/scikit-learn/issues/21755 */display: inline-block !important;position: relative;}#sk-container-id-2 div.sk-text-repr-fallback {display: none;}</style><div id=\"sk-container-id-2\" class=\"sk-top-container\"><div class=\"sk-text-repr-fallback\"><pre>LinearRegression()</pre><b>In a Jupyter environment, please rerun this cell to show the HTML representation or trust the notebook. <br />On GitHub, the HTML representation is unable to render, please try loading this page with nbviewer.org.</b></div><div class=\"sk-container\" hidden><div class=\"sk-item\"><div class=\"sk-estimator sk-toggleable\"><input class=\"sk-toggleable__control sk-hidden--visually\" id=\"sk-estimator-id-2\" type=\"checkbox\" checked><label for=\"sk-estimator-id-2\" class=\"sk-toggleable__label sk-toggleable__label-arrow\">LinearRegression</label><div class=\"sk-toggleable__content\"><pre>LinearRegression()</pre></div></div></div></div></div>"
      ],
      "text/plain": [
       "LinearRegression()"
      ]
     },
     "execution_count": 81,
     "metadata": {},
     "output_type": "execute_result"
    }
   ],
   "source": [
    "# Building and fitting the Linear Regression model\n",
    "linearModel = LinearRegression()\n",
    "linearModel.fit(X_train, y_train)"
   ]
  },
  {
   "cell_type": "code",
   "execution_count": 84,
   "id": "34780cc6",
   "metadata": {},
   "outputs": [
    {
     "name": "stdout",
     "output_type": "stream",
     "text": [
      "Linear Regression : 0.9999997301437422\n",
      "Ridge Regression : 0.9999997082383828\n",
      "Lasso Regression : 0.86472718372588\n"
     ]
    },
    {
     "data": {
      "image/png": "[encoded data removed]",
      "text/plain": [
       "<Figure size 800x550 with 1 Axes>"
      ]
     },
     "metadata": {},
     "output_type": "display_data"
    }
   ],
   "source": [
    "# Building the two lists for visualization\n",
    "models = ['Linear Regression', 'Ridge Regression', 'Lasso Regression']\n",
    "scores = [linearModel.score(X_test, y_test),\n",
    "         ridgeModelChosen.score(X_test, y_test),\n",
    "         lassoModelChosen.score(X_test, y_test)]\n",
    " \n",
    "# Building the dictionary to compare the scores\n",
    "mapping = {}\n",
    "mapping['Linear Regression'] = linearModel.score(X_test, y_test)\n",
    "mapping['Ridge Regression'] = ridgeModelChosen.score(X_test, y_test)\n",
    "mapping['Lasso Regression'] = lassoModelChosen.score(X_test, y_test)\n",
    " \n",
    "# Printing the scores for different models\n",
    "for key, val in mapping.items():\n",
    "    print(str(key)+' : '+str(val))\n",
    "\n",
    "\n",
    "# Plotting the scores\n",
    "plt.bar(models, scores)\n",
    "plt.xlabel('Regression Models')\n",
    "plt.ylabel('Score')\n",
    "plt.show()"
   ]
  },
  {
   "cell_type": "code",
   "execution_count": null,
   "id": "84ef3813",
   "metadata": {},
   "outputs": [],
   "source": []
  },
  {
   "cell_type": "code",
   "execution_count": null,
   "id": "05e82c02",
   "metadata": {},
   "outputs": [],
   "source": []
  },
  {
   "cell_type": "code",
   "execution_count": null,
   "id": "5c6285a1",
   "metadata": {},
   "outputs": [],
   "source": []
  },
  {
   "cell_type": "raw",
   "id": "54f7b53f",
   "metadata": {},
   "source": [
    "MODELOS\n",
    "import statsmodels.api as sm #GLM\n",
    "from sklearn.linear_model import LinearRegression\n",
    "from sklearn.ensemble import RandomForestRegressor\n",
    "from sklearn.tree import DecisionTreeRegressor\n",
    "\n",
    "from sklearn.svm import SVR\n",
    "from sklearn.neighbors import KNeighborsRegressor\n",
    "\n",
    "\n",
    "\n",
    "\n",
    "    *GLM\n",
    "    *ARVORE DE REGRESSÃO\n",
    "    *RANDOM FOREST REGRESSOR\n",
    "    *KNN (REGRESSÃO)\n",
    "    *SVM (SVR)\n",
    "    \n",
    "    BAGGING\n",
    "    from sklearn.ensemble import RandomForestRegressor\n",
    "    BOOSTING\n",
    "    from sklearn.ensemble import GradientBoostingRegressor\n",
    "    \n",
    "    \n",
    "    \n",
    "    REDES NEURAIS\n",
    "    \n",
    "REGULARIZAÇÃO L1 e L2\n",
    "ANALISE DE RESIDUOS\n",
    "METRICAS\n",
    "    *R2 - from sklearn.metrics import r2_score\n",
    "    *MSE\n",
    "    *RMSE\n",
    "    *MAE"
   ]
  },
  {
   "cell_type": "markdown",
   "id": "32f63cf5",
   "metadata": {},
   "source": [
    "# METRICAS"
   ]
  },
  {
   "cell_type": "code",
   "execution_count": 69,
   "id": "aa77bc5b",
   "metadata": {},
   "outputs": [],
   "source": [
    "from sklearn.metrics import r2_score\n",
    "from sklearn.metrics import mean_absolute_error\n",
    "from sklearn.metrics import mean_squared_error"
   ]
  },
  {
   "attachments": {
    "image.png": {
     "image/png": "[encoded data removed]"
    }
   },
   "cell_type": "markdown",
   "id": "887a70ae",
   "metadata": {},
   "source": [
    "#### R2\n",
    "\n",
    "R2 : R2| R quadrado, também conhecido como COEFICIENTE DE DETERMINAÇÃO diz respeito ao quanto\n",
    "da variância dos dados esta sendo explicada pelo modelo. Varia entre 0 e 1, sendo que 1\n",
    "significa que esta totalmente explicado e 0 que não esta explicando nada e é a mesma coisa que usar\n",
    "a média. Em situações que o valor assume valores negativos sem interpretação numérica, porém a media é um estimador melhor.\n",
    "\n",
    "Em resumo quanto maior melhor. Um limitação dessa métrica é que que com a inserção de regressores ao modelo o R2 tende a aumentar.\n",
    "\n",
    "R2 = 1 é perfeita (no entanto pode ser que exista um overfiting)\n",
    "R2 = 0,01 possivelmente há um underfiting![image.png](attachment:image.png)"
   ]
  },
  {
   "cell_type": "code",
   "execution_count": null,
   "id": "67ea2d94",
   "metadata": {},
   "outputs": [],
   "source": [
    "from sklearn.metrics import r2_score"
   ]
  },
  {
   "cell_type": "code",
   "execution_count": 85,
   "id": "2e4222de",
   "metadata": {},
   "outputs": [
    {
     "data": {
      "text/plain": [
       "0.9947387865583491"
      ]
     },
     "execution_count": 85,
     "metadata": {},
     "output_type": "execute_result"
    }
   ],
   "source": [
    "r2_score(y_test, predict)"
   ]
  },
  {
   "cell_type": "code",
   "execution_count": 86,
   "id": "be12db88",
   "metadata": {},
   "outputs": [],
   "source": [
    "# FUNÇÃO PERSONALIZADA PARA CALCULAR O R2 e o R2 Ajustado\n",
    "def r2(actual: np.ndarray, predicted: np.ndarray):\n",
    "    \"\"\" R2 Score \"\"\"\n",
    "    return r2_score(actual, predicted)\n",
    "\n",
    "def adjr2(actual: np.ndarray, predicted: np.ndarray, rowcount: np.int, featurecount: np.int):\n",
    "    \"\"\" R2 Adjusted Score \"\"\"\n",
    "    return 1-(1-r2(actual,predicted))*(rowcount-1)/(rowcount-featurecount)"
   ]
  },
  {
   "cell_type": "code",
   "execution_count": 87,
   "id": "54a62767",
   "metadata": {},
   "outputs": [
    {
     "data": {
      "text/plain": [
       "0.9947387865583491"
      ]
     },
     "execution_count": 87,
     "metadata": {},
     "output_type": "execute_result"
    }
   ],
   "source": [
    "# R2 (simples)\n",
    "r2(y_test, predict)"
   ]
  },
  {
   "cell_type": "markdown",
   "id": "670c22f3",
   "metadata": {},
   "source": [
    "#### R2 AJUSTADO\n",
    "\n",
    "Diferente do 𝑅², o 𝑅² ajustado não sofre a limitação de nunca decair. Caso seja inserido um modelo de regressão uma variável que não seja importante o 𝑅² ajustado irá diminuir.\n",
    "\n",
    "Uma característica do 𝑅² ajustado é que ele pode ser negativo e por isso ele não pode ser interpretado como uma proporção. Além disso essa medida serve para fazer a comparação entre modelos diferentes."
   ]
  },
  {
   "cell_type": "code",
   "execution_count": 88,
   "id": "09b6f0b7",
   "metadata": {},
   "outputs": [
    {
     "data": {
      "text/plain": [
       "0.9946585307600867"
      ]
     },
     "execution_count": 88,
     "metadata": {},
     "output_type": "execute_result"
    }
   ],
   "source": [
    "# R2 Ajustado\n",
    "adjr2(y_test, predict, X_test.shape[0], X_test.shape[1])"
   ]
  },
  {
   "cell_type": "markdown",
   "id": "d888c72b",
   "metadata": {},
   "source": [
    "#### MSE\n",
    "\n",
    "É calculado o erro quadrado para todas as amostras e tiro a média."
   ]
  },
  {
   "cell_type": "code",
   "execution_count": 89,
   "id": "ee6e56e8",
   "metadata": {},
   "outputs": [
    {
     "data": {
      "text/plain": [
       "0.005203122919533855"
      ]
     },
     "execution_count": 89,
     "metadata": {},
     "output_type": "execute_result"
    }
   ],
   "source": [
    "from sklearn.metrics import mean_squared_error\n",
    "\n",
    "mean_squared_error(y_test, predict)"
   ]
  },
  {
   "cell_type": "markdown",
   "id": "7dd42702",
   "metadata": {},
   "source": [
    "#### RMSE\n",
    "\n",
    "É a raiz quadrada da MSE, sendo esta uma métrica mais interpretável"
   ]
  },
  {
   "cell_type": "code",
   "execution_count": 90,
   "id": "4633fa50",
   "metadata": {},
   "outputs": [
    {
     "data": {
      "text/plain": [
       "0.07213267581016147"
      ]
     },
     "execution_count": 90,
     "metadata": {},
     "output_type": "execute_result"
    }
   ],
   "source": [
    "np.sqrt(mean_squared_error(y_test, predict))"
   ]
  },
  {
   "cell_type": "markdown",
   "id": "347c5f4a",
   "metadata": {},
   "source": [
    "#### MAE\n",
    "\n",
    "É calculado o erro absoluto para todas as amostras e tiro a média. Mais robusta a outliers que a RMSE"
   ]
  },
  {
   "cell_type": "code",
   "execution_count": 91,
   "id": "28970847",
   "metadata": {},
   "outputs": [
    {
     "data": {
      "text/plain": [
       "0.04639755922554897"
      ]
     },
     "execution_count": 91,
     "metadata": {},
     "output_type": "execute_result"
    }
   ],
   "source": [
    "from sklearn.metrics import mean_absolute_error\n",
    "\n",
    "mean_absolute_error(y_test, predict)"
   ]
  },
  {
   "cell_type": "code",
   "execution_count": null,
   "id": "622e936b",
   "metadata": {},
   "outputs": [],
   "source": []
  },
  {
   "cell_type": "code",
   "execution_count": null,
   "id": "76f7e95f",
   "metadata": {},
   "outputs": [],
   "source": []
  },
  {
   "cell_type": "markdown",
   "id": "f9df1d90",
   "metadata": {},
   "source": [
    "## RESIDUOS"
   ]
  },
  {
   "cell_type": "code",
   "execution_count": 37,
   "id": "6379593d",
   "metadata": {},
   "outputs": [
    {
     "data": {
      "image/png": "[encoded data removed]",
      "text/plain": [
       "<Figure size 800x550 with 2 Axes>"
      ]
     },
     "metadata": {},
     "output_type": "display_data"
    },
    {
     "data": {
      "text/plain": [
       "<Axes: title={'center': 'Residuals for LinearRegression Model'}, xlabel='Predicted Value', ylabel='Residuals'>"
      ]
     },
     "execution_count": 37,
     "metadata": {},
     "output_type": "execute_result"
    }
   ],
   "source": [
    "from yellowbrick.regressor import ResidualsPlot\n",
    "visualizador = ResidualsPlot(model)\n",
    "visualizador.fit(X_train, y_train)\n",
    "visualizador.poof()"
   ]
  },
  {
   "cell_type": "code",
   "execution_count": 94,
   "id": "8af28bf1",
   "metadata": {},
   "outputs": [
    {
     "data": {
      "image/png": "[encoded data removed]",
      "text/plain": [
       "<Figure size 800x550 with 2 Axes>"
      ]
     },
     "metadata": {},
     "output_type": "display_data"
    },
    {
     "data": {
      "text/plain": [
       "<Axes: title={'center': 'Residuals for XGBRegressor Model'}, xlabel='Predicted Value', ylabel='Residuals'>"
      ]
     },
     "execution_count": 94,
     "metadata": {},
     "output_type": "execute_result"
    }
   ],
   "source": [
    "visualizador = ResidualsPlot(model)\n",
    "visualizador.fit(X_test, predict)\n",
    "visualizador.poof()"
   ]
  },
  {
   "cell_type": "markdown",
   "id": "cf8fd8e9",
   "metadata": {},
   "source": [
    "### Varias dicas sobre a interpretação do statsmodels\n",
    "https://ivanildo-batista13.medium.com/regress%C3%A3o-linear-m%C3%BAltipla-em-python-eb4b6603a3"
   ]
  },
  {
   "cell_type": "raw",
   "id": "001579b4",
   "metadata": {},
   "source": [
    "Análise de Resíduos\n",
    "Os pressupostos do modelo ajustado precisam ser validadas para que os resultados sejam confiáveis. A Análise dos Resíduos investiga a adequabilidade de um modelo de regressão com base nos resíduos que é dado pela diferença entre a variável resposta observada (Yi)\n",
    " e a variável resposta estimada (Yˆi)\n",
    ".\n",
    "\n",
    "A ideia básica da análise dos resíduos é que, se o modelo for apropriado, os resíduos devem refletir os pressupostos impostos pelo termo de erro do modelo que são:\n",
    "\n",
    "4.1 Pressupostos sobre a regressão\n",
    "Linearidade - a relação entre x e y é linear;\n",
    "Homoscedasticidade - assume que os resíduos tem variância constante;\n",
    "Indepêndencia - assume que os termos de erro são independentes;\n",
    "Normalidade - assume que os resíduos são normalmente distribuídos;\n",
    "No processo de análise de resíduos, é possível que se potenciais problemas surjam, como: não linearidade, variação não constante dos termos de erro, presença de valores influentes nos dados como: outliers e valores extremos.\n",
    "\n",
    "Para o presente caso, usar-se-á testes informais (técnicas gráficas para análise dos resíduos).\n",
    "\n",
    "São gráficos de diagnóstico de erros residuais, os seguintes:\n",
    "\n",
    "Residuals vs Fitted - indica a existência de padrões não lineares nos resíduos. Uma das suposições matemáticas na construção de um modelo usando Mínimos Quadrados é que os dados podem ser ajustados por uma linha. Se essa suposição for válida e os dados puderem ser ajustados por um modelo linear, uma linha aproximadamente horizontal sem padrões aparecerá no gráfico.\n",
    "\n",
    "Normal Q-Q - examina se os resíduos são normalmente distribuídos. É bom que os pontos residuais sigam a linha recta.\n",
    "\n",
    "Homoscedasticidade - verifica a homogeneidade de variância dos resíduos. A linha horizontal com pontos igualmente dispersos é uma boa indicação de homoscedasticidade.\n",
    "\n",
    "Residuals vs Leverage - identifica casos influentes, ou seja, valores extremos que podem influenciar os resultados da regressão quando incluídos ou excluídos da análise."
   ]
  },
  {
   "cell_type": "code",
   "execution_count": null,
   "id": "0662f41c",
   "metadata": {},
   "outputs": [],
   "source": []
  }
 ],
 "metadata": {
  "kernelspec": {
   "display_name": "Python 3 (ipykernel)",
   "language": "python",
   "name": "python3"
  },
  "language_info": {
   "codemirror_mode": {
    "name": "ipython",
    "version": 3
   },
   "file_extension": ".py",
   "mimetype": "text/x-python",
   "name": "python",
   "nbconvert_exporter": "python",
   "pygments_lexer": "ipython3",
   "version": "3.9.6"
  }
 },
 "nbformat": 4,
 "nbformat_minor": 5
}
