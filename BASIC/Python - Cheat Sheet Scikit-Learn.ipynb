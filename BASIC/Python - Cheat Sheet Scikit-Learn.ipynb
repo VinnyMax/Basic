{
 "cells": [
  {
   "cell_type": "markdown",
   "metadata": {},
   "source": [
    "# Python For Data Science Cheat Sheet Scikit-Learn"
   ]
  },
  {
   "cell_type": "markdown",
   "metadata": {},
   "source": [
    "<b>Scikit-learn</b> is an open source Python library that implements a range of machine learning, preprocessing, cross-validation and visualization algorithms using a unified interface.\n"
   ]
  },
  {
   "cell_type": "markdown",
   "metadata": {},
   "source": [
    "### A Basic Example:"
   ]
  },
  {
   "cell_type": "code",
   "execution_count": 1,
   "metadata": {},
   "outputs": [],
   "source": [
    "from sklearn import neighbors, datasets, preprocessing \n",
    "from sklearn.model_selection import train_test_split \n",
    "from sklearn.metrics import accuracy_score "
   ]
  },
  {
   "cell_type": "code",
   "execution_count": 2,
   "metadata": {},
   "outputs": [
    {
     "data": {
      "text/plain": [
       "0.631578947368421"
      ]
     },
     "execution_count": 2,
     "metadata": {},
     "output_type": "execute_result"
    }
   ],
   "source": [
    "iris = datasets.load_iris() \n",
    "X, y = iris.data[:, :2], iris.target \n",
    "X_train, X_test, y_train, y_test = train_test_split(X, y, random_state=33) \n",
    "scaler = preprocessing.StandardScaler().fit(X_train) \n",
    "X_train = scaler.transform(X_train) \n",
    "X_test = scaler.transform(X_test) \n",
    "knn = neighbors.KNeighborsClassifier(n_neighbors=5) \n",
    "knn.fit(X_train, y_train) \n",
    "y_pred = knn.predict(X_test) \n",
    "accuracy_score(y_test, y_pred)"
   ]
  },
  {
   "cell_type": "markdown",
   "metadata": {},
   "source": [
    "# LOADING THE DATA - Also see NumPy & Pandas\n",
    " <br>\n",
    " Your data needs to be numeric and stored as NumPy arrays or SciPy sparse matrices. Other types that are convertible to numeric arrays, such as Pandas DataFrame, are also acceptable."
   ]
  },
  {
   "cell_type": "code",
   "execution_count": 8,
   "metadata": {},
   "outputs": [],
   "source": [
    "import numpy as np \n",
    "X = np.random.random((10,5)) \n",
    "y = np.array(['M','M','F','F','M','F','M','M','F','F','F']) \n",
    "X[X < 0.7] = 0"
   ]
  },
  {
   "cell_type": "markdown",
   "metadata": {},
   "source": [
    "# TRAINING AND TEST DATA"
   ]
  },
  {
   "cell_type": "code",
   "execution_count": 3,
   "metadata": {},
   "outputs": [],
   "source": [
    "from sklearn.model_selection import train_test_split\n",
    "X_train, X_test, y_train, y_test = train_test_split(X,y,random_state=0)"
   ]
  },
  {
   "cell_type": "markdown",
   "metadata": {},
   "source": [
    "# PREPROCESSING THE DATA"
   ]
  },
  {
   "cell_type": "markdown",
   "metadata": {},
   "source": [
    "### Standardization"
   ]
  },
  {
   "cell_type": "code",
   "execution_count": 4,
   "metadata": {},
   "outputs": [],
   "source": [
    "from sklearn.preprocessing import StandardScaler \n",
    "scaler = StandardScaler().fit(X_train) \n",
    "standardized_X = scaler.transform(X_train) \n",
    "standardized_X_test = scaler.transform(X_test)"
   ]
  },
  {
   "cell_type": "markdown",
   "metadata": {},
   "source": [
    "### Normalization "
   ]
  },
  {
   "cell_type": "code",
   "execution_count": 5,
   "metadata": {},
   "outputs": [],
   "source": [
    "from sklearn.preprocessing import Normalizer \n",
    "scaler = Normalizer().fit(X_train) \n",
    "normalized_X = scaler.transform(X_train) \n",
    "normalized_X_test = scaler.transform(X_test)"
   ]
  },
  {
   "cell_type": "markdown",
   "metadata": {},
   "source": [
    "### Binarization "
   ]
  },
  {
   "cell_type": "code",
   "execution_count": 6,
   "metadata": {},
   "outputs": [],
   "source": [
    "from sklearn.preprocessing import Binarizer \n",
    "binarizer = Binarizer(threshold=0.0).fit(X) \n",
    "binary_X = binarizer.transform(X)"
   ]
  },
  {
   "cell_type": "markdown",
   "metadata": {},
   "source": [
    "### Encoding Categorical Features"
   ]
  },
  {
   "cell_type": "code",
   "execution_count": 7,
   "metadata": {},
   "outputs": [],
   "source": [
    "from sklearn.preprocessing import LabelEncoder \n",
    "enc = LabelEncoder() \n",
    "y = enc.fit_transform(y) "
   ]
  },
  {
   "cell_type": "markdown",
   "metadata": {},
   "source": [
    "### Imputing Missing Values"
   ]
  },
  {
   "cell_type": "code",
   "execution_count": 8,
   "metadata": {},
   "outputs": [
    {
     "name": "stderr",
     "output_type": "stream",
     "text": [
      "c:\\program files\\python36\\lib\\site-packages\\sklearn\\utils\\deprecation.py:58: DeprecationWarning: Class Imputer is deprecated; Imputer was deprecated in version 0.20 and will be removed in 0.22. Import impute.SimpleImputer from sklearn instead.\n",
      "  warnings.warn(msg, category=DeprecationWarning)\n"
     ]
    },
    {
     "data": {
      "text/plain": [
       "array([[-0.91090798, -1.59775374],\n",
       "       [-1.0271058 ,  0.08448757],\n",
       "       [ 0.59966379, -1.59775374],\n",
       "       [ 0.01867465, -0.96691325],\n",
       "       [ 0.48346596, -0.33607276],\n",
       "       [-1.25950146,  0.29476773],\n",
       "       [-1.37569929,  0.71532806],\n",
       "       [-0.79471015, -1.17719341],\n",
       "       [-1.14330363,  0.71532806],\n",
       "       [ 2.45882905,  1.55644871],\n",
       "       [-0.79471015,  0.71532806],\n",
       "       [-0.79471015,  1.34616854],\n",
       "       [-0.21372101, -0.33607276],\n",
       "       [ 0.83205945, -0.1257926 ],\n",
       "       [-0.44611666,  1.76672887],\n",
       "       [ 1.41304859,  0.29476773],\n",
       "       [ 0.01867465, -0.54635292],\n",
       "       [ 2.22643339, -0.96691325],\n",
       "       [-0.32991883, -1.17719341],\n",
       "       [ 0.13487248,  0.29476773],\n",
       "       [-1.0271058 ,  1.13588838],\n",
       "       [-1.49189712, -1.59775374],\n",
       "       [ 0.59966379, -0.54635292],\n",
       "       [-1.60809495, -0.33607276],\n",
       "       [-0.91090798,  1.13588838],\n",
       "       [ 1.64544425, -0.1257926 ],\n",
       "       [ 0.25107031,  0.71532806],\n",
       "       [ 0.48346596, -1.8080339 ],\n",
       "       [ 1.8778399 , -0.54635292],\n",
       "       [ 1.18065293, -0.1257926 ],\n",
       "       [ 0.71586162, -0.54635292],\n",
       "       [-0.09752318, -1.17719341],\n",
       "       [-0.91090798,  0.92560822],\n",
       "       [-0.79471015,  1.55644871],\n",
       "       [ 1.18065293, -0.54635292],\n",
       "       [-0.67851232, -0.75663309],\n",
       "       [-0.79471015,  1.55644871],\n",
       "       [-0.21372101, -1.17719341],\n",
       "       [ 0.36726814, -0.1257926 ],\n",
       "       [ 0.94825728, -0.33607276],\n",
       "       [ 0.71586162, -0.54635292],\n",
       "       [-1.72429277, -0.1257926 ],\n",
       "       [ 1.64544425,  1.13588838],\n",
       "       [-0.79471015,  0.92560822],\n",
       "       [ 0.59966379, -1.17719341],\n",
       "       [-1.60809495,  0.29476773],\n",
       "       [ 2.11023556, -0.1257926 ],\n",
       "       [ 0.71586162,  0.29476773],\n",
       "       [-0.79471015,  1.55644871],\n",
       "       [ 0.83205945,  0.29476773],\n",
       "       [ 0.59966379, -0.75663309],\n",
       "       [-0.91090798,  0.92560822],\n",
       "       [-0.67851232,  0.71532806],\n",
       "       [ 0.71586162, -0.75663309],\n",
       "       [ 0.01867465,  1.97700903],\n",
       "       [-0.09752318,  2.81812969],\n",
       "       [-1.37569929,  0.29476773],\n",
       "       [ 1.29685076,  0.08448757],\n",
       "       [ 0.59966379, -0.33607276],\n",
       "       [-0.32991883,  0.92560822],\n",
       "       [-0.09752318, -0.96691325],\n",
       "       [-0.91090798,  0.50504789],\n",
       "       [ 0.25107031, -1.8080339 ],\n",
       "       [-1.0271058 , -0.1257926 ],\n",
       "       [-0.91090798, -2.22859423],\n",
       "       [ 0.94825728, -0.1257926 ],\n",
       "       [-0.09752318, -0.54635292],\n",
       "       [-0.32991883, -0.96691325],\n",
       "       [-0.32991883, -1.59775374],\n",
       "       [-1.14330363,  0.08448757],\n",
       "       [ 0.25107031, -0.33607276],\n",
       "       [-0.91090798, -0.1257926 ],\n",
       "       [ 1.29685076,  0.08448757],\n",
       "       [ 1.06445511, -1.17719341],\n",
       "       [-0.56231449,  1.34616854],\n",
       "       [-0.67851232,  2.1872892 ],\n",
       "       [-0.91090798,  0.71532806],\n",
       "       [-1.37569929,  1.13588838],\n",
       "       [ 2.22643339,  1.55644871],\n",
       "       [ 1.76164208, -0.33607276],\n",
       "       [-1.37569929,  0.08448757],\n",
       "       [-0.32991883, -1.38747358],\n",
       "       [ 0.01867465, -0.75663309],\n",
       "       [ 1.06445511,  0.50504789],\n",
       "       [ 0.01867465, -0.75663309],\n",
       "       [-0.44611666,  1.34616854],\n",
       "       [-0.91090798,  0.71532806],\n",
       "       [ 0.25107031, -0.75663309],\n",
       "       [-0.09752318, -0.54635292],\n",
       "       [ 0.36726814, -0.54635292],\n",
       "       [-0.79471015,  0.50504789],\n",
       "       [-0.21372101, -0.1257926 ],\n",
       "       [-0.44611666, -0.1257926 ],\n",
       "       [-0.44611666,  1.76672887],\n",
       "       [ 1.06445511,  0.50504789],\n",
       "       [-1.0271058 , -1.17719341],\n",
       "       [ 0.48346596,  0.71532806],\n",
       "       [-0.32991883, -1.38747358],\n",
       "       [ 2.22643339, -0.54635292],\n",
       "       [-0.44611666,  0.71532806],\n",
       "       [ 1.06445511, -0.1257926 ],\n",
       "       [-0.32991883,  2.39756936],\n",
       "       [-0.91090798,  0.29476773],\n",
       "       [-1.14330363, -0.1257926 ],\n",
       "       [ 0.01867465, -0.75663309],\n",
       "       [ 0.13487248, -0.1257926 ],\n",
       "       [ 1.52924642, -0.1257926 ],\n",
       "       [-1.0271058 , -1.38747358],\n",
       "       [ 0.59966379, -1.17719341],\n",
       "       [-0.21372101, -0.1257926 ],\n",
       "       [ 2.22643339, -0.1257926 ],\n",
       "       [-0.44611666,  0.71532806]])"
      ]
     },
     "execution_count": 8,
     "metadata": {},
     "output_type": "execute_result"
    }
   ],
   "source": [
    "from sklearn.preprocessing import Imputer \n",
    "imp = Imputer(missing_values=0, strategy='mean', axis=0) \n",
    "imp.fit_transform(X_train) "
   ]
  },
  {
   "cell_type": "markdown",
   "metadata": {},
   "source": [
    "### Generating Polynomial Features "
   ]
  },
  {
   "cell_type": "code",
   "execution_count": 9,
   "metadata": {},
   "outputs": [
    {
     "data": {
      "text/plain": [
       "array([[1.        , 0.86667654, 0.90308062, ..., 0.        , 0.        ,\n",
       "        0.20254947],\n",
       "       [1.        , 0.73602211, 0.        , ..., 0.        , 0.        ,\n",
       "        0.        ],\n",
       "       [1.        , 0.        , 0.        , ..., 0.        , 0.        ,\n",
       "        0.        ],\n",
       "       ...,\n",
       "       [1.        , 0.        , 0.        , ..., 0.        , 0.        ,\n",
       "        0.        ],\n",
       "       [1.        , 0.91796763, 0.81555171, ..., 0.        , 0.        ,\n",
       "        0.64136385],\n",
       "       [1.        , 0.        , 0.        , ..., 0.        , 0.        ,\n",
       "        0.        ]])"
      ]
     },
     "execution_count": 9,
     "metadata": {},
     "output_type": "execute_result"
    }
   ],
   "source": [
    "from sklearn.preprocessing import PolynomialFeatures \n",
    "poly = PolynomialFeatures(5) \n",
    "poly.fit_transform(X)    "
   ]
  },
  {
   "cell_type": "markdown",
   "metadata": {},
   "source": [
    "# CREATE YOUR MODEL"
   ]
  },
  {
   "cell_type": "markdown",
   "metadata": {},
   "source": [
    "#### Supervised Learning Estimators\n"
   ]
  },
  {
   "cell_type": "code",
   "execution_count": 5,
   "metadata": {},
   "outputs": [],
   "source": [
    "# Linear Regression \n",
    "from sklearn.linear_model import LinearRegression\n",
    "lr = LinearRegression(normalize=True)   \n",
    "\n",
    "# Support Vector Machines (SVM) \n",
    "from sklearn.svm import SVC \n",
    "svc = SVC(kernel='linear')  \n",
    "\n",
    "# Naive Bayes \n",
    "from sklearn.naive_bayes import GaussianNB\n",
    "gnb = GaussianNB()   \n",
    "\n",
    "# KNN \n",
    "from sklearn import neighbors \n",
    "knn = neighbors.KNeighborsClassifier(n_neighbors=5)"
   ]
  },
  {
   "cell_type": "markdown",
   "metadata": {},
   "source": [
    "#### Unsupervised Learning Estimators"
   ]
  },
  {
   "cell_type": "code",
   "execution_count": 11,
   "metadata": {},
   "outputs": [],
   "source": [
    "# Principal Component Analysis (PCA) \n",
    "from sklearn.decomposition import PCA \n",
    "pca = PCA(n_components=0.95)   \n",
    "\n",
    "# K Means \n",
    "from sklearn.cluster import KMeans \n",
    "k_means = KMeans(n_clusters=3, random_state=0)\n"
   ]
  },
  {
   "cell_type": "markdown",
   "metadata": {},
   "source": [
    "# MODEL FITTING"
   ]
  },
  {
   "cell_type": "markdown",
   "metadata": {},
   "source": [
    "#### Supervised Learning Estimators\n"
   ]
  },
  {
   "cell_type": "code",
   "execution_count": 6,
   "metadata": {},
   "outputs": [
    {
     "data": {
      "text/plain": [
       "SVC(kernel='linear')"
      ]
     },
     "execution_count": 6,
     "metadata": {},
     "output_type": "execute_result"
    }
   ],
   "source": [
    "#Fit the model data\n",
    "lr.fit(X, y)\n",
    "knn.fit(X_train, y_train) \n",
    "svc.fit(X_train, y_train)"
   ]
  },
  {
   "cell_type": "markdown",
   "metadata": {},
   "source": [
    "#### Unsupervised Learning Estimators"
   ]
  },
  {
   "cell_type": "code",
   "execution_count": 13,
   "metadata": {},
   "outputs": [],
   "source": [
    "k_means.fit(X_train) #Fit the model to the data \n",
    "pca_model = pca.fit_transform(X_train)  #Fit to data, then transform it"
   ]
  },
  {
   "cell_type": "markdown",
   "metadata": {},
   "source": [
    "# PREDICTION"
   ]
  },
  {
   "cell_type": "markdown",
   "metadata": {},
   "source": [
    "#### Supervised Learning Estimators\n"
   ]
  },
  {
   "cell_type": "code",
   "execution_count": null,
   "metadata": {},
   "outputs": [],
   "source": [
    "y_pred = svc.predict(np.random.random((2,5))) ##Predict labels \n",
    "y_pred = lr.predict(X_test) ##Predict labels \n",
    "y_pred = knn.predict_proba(X_test) ##Estimate probability of a label"
   ]
  },
  {
   "cell_type": "markdown",
   "metadata": {},
   "source": [
    "#### Unsupervised Learning Estimators"
   ]
  },
  {
   "cell_type": "code",
   "execution_count": null,
   "metadata": {},
   "outputs": [],
   "source": [
    "y_pred = k_means.predict(X_test) ##Predict labels in clustering algos"
   ]
  },
  {
   "cell_type": "markdown",
   "metadata": {},
   "source": [
    "# EVALUATE YOUR MODEL´S PERFORMANCE"
   ]
  },
  {
   "cell_type": "markdown",
   "metadata": {},
   "source": [
    "## Classification Metrics"
   ]
  },
  {
   "cell_type": "markdown",
   "metadata": {},
   "source": [
    "### Accuracy Score "
   ]
  },
  {
   "cell_type": "code",
   "execution_count": null,
   "metadata": {},
   "outputs": [],
   "source": [
    "knn.score(X_test, y_test) \n",
    "from sklearn.metrics import accuracy_score \n",
    "accuracy_score(y_test, y_pred)  "
   ]
  },
  {
   "cell_type": "markdown",
   "metadata": {},
   "source": [
    "### Classification Report"
   ]
  },
  {
   "cell_type": "code",
   "execution_count": null,
   "metadata": {},
   "outputs": [],
   "source": [
    "from sklearn.metrics import classification_report \n",
    "print(classification_report(y_test, y_pred)) "
   ]
  },
  {
   "cell_type": "markdown",
   "metadata": {},
   "source": [
    "### Confusion Matrix "
   ]
  },
  {
   "cell_type": "code",
   "execution_count": null,
   "metadata": {},
   "outputs": [],
   "source": [
    "from sklearn.metrics import confusion_matrix \n",
    "print(confusion_matrix(y_test, y_pred))"
   ]
  },
  {
   "cell_type": "markdown",
   "metadata": {},
   "source": [
    "### Cross-Validation "
   ]
  },
  {
   "cell_type": "code",
   "execution_count": null,
   "metadata": {},
   "outputs": [],
   "source": [
    "from sklearn.cross_validation import cross_val_score \n",
    "print(cross_val_score(knn, X_train, y_train, cv=4)) \n",
    "print(cross_val_score(lr, X, y, cv=2))"
   ]
  },
  {
   "cell_type": "markdown",
   "metadata": {},
   "source": [
    "## Regression Metrics"
   ]
  },
  {
   "cell_type": "markdown",
   "metadata": {},
   "source": [
    "### Mean Absolute Error"
   ]
  },
  {
   "cell_type": "code",
   "execution_count": null,
   "metadata": {},
   "outputs": [],
   "source": [
    "from sklearn.metrics import mean_absolute_error \n",
    "y_true = [3, -0.5, 2] \n",
    "mean_absolute_error(y_true, y_pred) "
   ]
  },
  {
   "cell_type": "markdown",
   "metadata": {},
   "source": [
    "### Mean Squared Error "
   ]
  },
  {
   "cell_type": "code",
   "execution_count": null,
   "metadata": {},
   "outputs": [],
   "source": [
    "from sklearn.metrics import mean_squared_error \n",
    "mean_squared_error(y_test, y_pred)"
   ]
  },
  {
   "cell_type": "markdown",
   "metadata": {},
   "source": [
    "### R² Score"
   ]
  },
  {
   "cell_type": "code",
   "execution_count": null,
   "metadata": {},
   "outputs": [],
   "source": [
    "from sklearn.metrics import r2_score \n",
    "r2_score(y_true, y_pred)"
   ]
  },
  {
   "cell_type": "markdown",
   "metadata": {},
   "source": [
    "## Clustering Metrics"
   ]
  },
  {
   "cell_type": "markdown",
   "metadata": {},
   "source": [
    "### Adjusted Rand Index "
   ]
  },
  {
   "cell_type": "code",
   "execution_count": null,
   "metadata": {},
   "outputs": [],
   "source": [
    "from sklearn.metrics import adjusted_rand_score \n",
    "adjusted_rand_score(y_true, y_pred)   "
   ]
  },
  {
   "cell_type": "markdown",
   "metadata": {},
   "source": [
    "### Homogeneity "
   ]
  },
  {
   "cell_type": "code",
   "execution_count": null,
   "metadata": {},
   "outputs": [],
   "source": [
    "from sklearn.metrics import homogeneity_score \n",
    "homogeneity_score(y_true, y_pred)   "
   ]
  },
  {
   "cell_type": "markdown",
   "metadata": {},
   "source": [
    "### V-measure"
   ]
  },
  {
   "cell_type": "code",
   "execution_count": null,
   "metadata": {},
   "outputs": [],
   "source": [
    "from sklearn.metrics import v_measure__score \n",
    "metrics.v_measure_score(y_true, y_pred)"
   ]
  },
  {
   "cell_type": "markdown",
   "metadata": {},
   "source": [
    "### Cross-Validation"
   ]
  },
  {
   "cell_type": "code",
   "execution_count": null,
   "metadata": {},
   "outputs": [],
   "source": [
    "from sklearn.cross_validation import cross_val_score \n",
    "print(cross_val_score(knn, X_train, y_train, cv=4)) \n",
    "print(cross_val_score(lr, X, y, cv=2))"
   ]
  },
  {
   "cell_type": "markdown",
   "metadata": {},
   "source": [
    "# Tune Your Model (Tunning)"
   ]
  },
  {
   "cell_type": "markdown",
   "metadata": {},
   "source": [
    "### Grid Search"
   ]
  },
  {
   "cell_type": "code",
   "execution_count": null,
   "metadata": {},
   "outputs": [],
   "source": [
    "from sklearn.grid_search import GridSearchCV \n",
    "params = {\"n_neighbors\": np.arange(1,3),\"metric\": [\"euclidean\", \"cityblock\"]} \n",
    "grid = GridSearchCV(estimator=knn,param_grid=params) \n",
    "grid.fit(X_train, y_train) \n",
    "print(grid.best_score_) \n",
    "print(grid.best_estimator_.n_neighbors)"
   ]
  },
  {
   "cell_type": "markdown",
   "metadata": {},
   "source": [
    "### Randomized Parameter Optimization"
   ]
  },
  {
   "cell_type": "code",
   "execution_count": null,
   "metadata": {},
   "outputs": [],
   "source": [
    "from sklearn.grid_search import RandomizedSearchCV \n",
    "params = {\"n_neighbors\": range(1,5),\"weights\": [\"uniform\", \"distance\"]} \n",
    "rsearch = RandomizedSearchCV(estimator=knn,param_distributions=params,cv=4,n_iter=8,random_state=5) \n",
    "rsearch.fit(X_train, y_train) \n",
    "print(rsearch.best_score_)"
   ]
  },
  {
   "cell_type": "markdown",
   "metadata": {},
   "source": [
    "# A basic Example"
   ]
  },
  {
   "cell_type": "code",
   "execution_count": 15,
   "metadata": {},
   "outputs": [
    {
     "data": {
      "text/plain": [
       "0.631578947368421"
      ]
     },
     "execution_count": 15,
     "metadata": {},
     "output_type": "execute_result"
    }
   ],
   "source": [
    "from sklearn import neighbors, datasets, preprocessing \n",
    "from sklearn.model_selection import train_test_split \n",
    "from sklearn.metrics import accuracy_score \n",
    "iris = datasets.load_iris() \n",
    "X, y = iris.data[:, :2], iris.target \n",
    "X_train, X_test, y_train, y_test = train_test_split(X, y, random_state=33) \n",
    "scaler = preprocessing.StandardScaler().fit(X_train) \n",
    "X_train = scaler.transform(X_train) \n",
    "X_test = scaler.transform(X_test) \n",
    "knn = neighbors.KNeighborsClassifier(n_neighbors=5) \n",
    "knn.fit(X_train, y_train) \n",
    "y_pred = knn.predict(X_test) \n",
    "accuracy_score(y_test, y_pred)"
   ]
  },
  {
   "cell_type": "code",
   "execution_count": null,
   "metadata": {},
   "outputs": [],
   "source": []
  }
 ],
 "metadata": {
  "kernelspec": {
   "display_name": "Python 3 (ipykernel)",
   "language": "python",
   "name": "python3"
  },
  "language_info": {
   "codemirror_mode": {
    "name": "ipython",
    "version": 3
   },
   "file_extension": ".py",
   "mimetype": "text/x-python",
   "name": "python",
   "nbconvert_exporter": "python",
   "pygments_lexer": "ipython3",
   "version": "3.9.6"
  }
 },
 "nbformat": 4,
 "nbformat_minor": 2
}
