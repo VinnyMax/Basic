{
 "cells": [
  {
   "cell_type": "code",
   "execution_count": 2,
   "metadata": {},
   "outputs": [],
   "source": [
    "import itertools"
   ]
  },
  {
   "cell_type": "code",
   "execution_count": 27,
   "metadata": {},
   "outputs": [],
   "source": [
    "#Permutação com Repetições - No Excel temos as fórmulas: Combin(10,2), Combina"
   ]
  },
  {
   "cell_type": "code",
   "execution_count": 4,
   "metadata": {},
   "outputs": [
    {
     "name": "stdout",
     "output_type": "stream",
     "text": [
      "['1234', '1243', '1324', '1342', '1423', '1432', '2134', '2143', '2314', '2341', '2413', '2431', '3124', '3142', '3214', '3241', '3412', '3421', '4123', '4132', '4213', '4231', '4312', '4321']\n"
     ]
    }
   ],
   "source": [
    "gato= [''.join(anagrama) for anagrama in itertools.permutations('1234')]\n",
    "print(gato)"
   ]
  },
  {
   "cell_type": "code",
   "execution_count": 6,
   "metadata": {},
   "outputs": [
    {
     "name": "stdout",
     "output_type": "stream",
     "text": [
      "[('a', 'x'), ('a', 'y'), ('a', 'z'), ('b', 'x'), ('b', 'y'), ('b', 'z')]\n"
     ]
    }
   ],
   "source": [
    "gato2 = list(itertools.product('ab','xyz'))\n",
    "print(gato2)"
   ]
  },
  {
   "cell_type": "code",
   "execution_count": 25,
   "metadata": {},
   "outputs": [],
   "source": [
    "\n",
    "gato2 = list(itertools.product([1,2],[44,66,88]))"
   ]
  },
  {
   "cell_type": "code",
   "execution_count": 26,
   "metadata": {},
   "outputs": [
    {
     "name": "stdout",
     "output_type": "stream",
     "text": [
      "[(1, 44), (1, 66), (1, 88), (2, 44), (2, 66), (2, 88)]\n"
     ]
    }
   ],
   "source": [
    "print(gato2)"
   ]
  },
  {
   "cell_type": "code",
   "execution_count": 13,
   "metadata": {},
   "outputs": [
    {
     "data": {
      "text/plain": [
       "6"
      ]
     },
     "execution_count": 13,
     "metadata": {},
     "output_type": "execute_result"
    }
   ],
   "source": [
    "len(gato2)"
   ]
  },
  {
   "cell_type": "code",
   "execution_count": 8,
   "metadata": {},
   "outputs": [
    {
     "name": "stdout",
     "output_type": "stream",
     "text": [
      "[(1, 44, 17), (1, 44, 19), (1, 44, 20), (1, 66, 17), (1, 66, 19), (1, 66, 20), (1, 88, 17), (1, 88, 19), (1, 88, 20), (2, 44, 17), (2, 44, 19), (2, 44, 20), (2, 66, 17), (2, 66, 19), (2, 66, 20), (2, 88, 17), (2, 88, 19), (2, 88, 20)]\n"
     ]
    }
   ],
   "source": [
    "gato22 = list(itertools.product([1,2],[44,66,88],[17,19,20]))\n",
    "print(gato22)\n"
   ]
  },
  {
   "cell_type": "code",
   "execution_count": 9,
   "metadata": {},
   "outputs": [
    {
     "name": "stdout",
     "output_type": "stream",
     "text": [
      "[('a', 'b'), ('a', 'c'), ('a', 'd'), ('a', 'e'), ('a', 'f'), ('b', 'c'), ('b', 'd'), ('b', 'e'), ('b', 'f'), ('c', 'd'), ('c', 'e'), ('c', 'f'), ('d', 'e'), ('d', 'f'), ('e', 'f')]\n"
     ]
    }
   ],
   "source": [
    "#combinations não tem repetições\n",
    "gato3 = list(itertools.combinations('abcdef',2))\n",
    "print(gato3)\n"
   ]
  },
  {
   "cell_type": "code",
   "execution_count": 10,
   "metadata": {},
   "outputs": [
    {
     "name": "stdout",
     "output_type": "stream",
     "text": [
      "('John', 'Paul')\n",
      "('John', 'George')\n",
      "('John', 'Ringo')\n",
      "('Paul', 'George')\n",
      "('Paul', 'Ringo')\n",
      "('George', 'Ringo')\n"
     ]
    }
   ],
   "source": [
    "l = ['John','Paul', 'George', 'Ringo']\n",
    "for jogo in itertools.combinations(l,2):\n",
    "    print(jogo)"
   ]
  },
  {
   "cell_type": "code",
   "execution_count": 11,
   "metadata": {},
   "outputs": [
    {
     "name": "stdout",
     "output_type": "stream",
     "text": [
      "a\n",
      "b\n",
      "c\n",
      "John\n",
      "Paul\n",
      "George\n",
      "Ringo\n"
     ]
    }
   ],
   "source": [
    "#Chain\n",
    "l1 = ['a','b','c']\n",
    "l2 = ['John','Paul', 'George', 'Ringo']\n",
    "for i in itertools.chain(l1,l2):\n",
    "    print(i)"
   ]
  },
  {
   "cell_type": "code",
   "execution_count": 12,
   "metadata": {},
   "outputs": [
    {
     "name": "stdout",
     "output_type": "stream",
     "text": [
      "[('a', 'John'), ('b', 'Paul'), ('c', 'George')]\n"
     ]
    }
   ],
   "source": [
    "#zip\n",
    "gato4 = list(zip(l1,l2))\n",
    "print(gato4)\n"
   ]
  }
 ],
 "metadata": {
  "kernelspec": {
   "display_name": "Python 3 (ipykernel)",
   "language": "python",
   "name": "python3"
  },
  "language_info": {
   "codemirror_mode": {
    "name": "ipython",
    "version": 3
   },
   "file_extension": ".py",
   "mimetype": "text/x-python",
   "name": "python",
   "nbconvert_exporter": "python",
   "pygments_lexer": "ipython3",
   "version": "3.9.6"
  }
 },
 "nbformat": 4,
 "nbformat_minor": 2
}
