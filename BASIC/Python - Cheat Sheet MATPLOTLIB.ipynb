{
 "cells": [
  {
   "cell_type": "markdown",
   "metadata": {},
   "source": [
    "#### Matplotlib is a Python 2D plotting library which produces publication-quality figures in a variety of hardcopy formats and interactive environments across platforms. "
   ]
  },
  {
   "cell_type": "code",
   "execution_count": null,
   "metadata": {},
   "outputs": [],
   "source": [
    "## 1 Prepare The Data"
   ]
  },
  {
   "cell_type": "markdown",
   "metadata": {},
   "source": [
    "# 1D Data"
   ]
  },
  {
   "cell_type": "code",
   "execution_count": 1,
   "metadata": {},
   "outputs": [],
   "source": [
    "import numpy as np \n",
    "x = np.linspace(0, 10, 100) \n",
    "y = np.cos(x) \n",
    "z = np.sin(x)"
   ]
  },
  {
   "cell_type": "code",
   "execution_count": null,
   "metadata": {},
   "outputs": [],
   "source": [
    "###2D Data or Images"
   ]
  },
  {
   "cell_type": "code",
   "execution_count": 2,
   "metadata": {},
   "outputs": [],
   "source": [
    "data = 2 * np.random.random((10, 10)) \n",
    "data2 = 3 * np.random.random((10, 10)) \n",
    "Y, X = np.mgrid[-3:3:100j, -3:3:100j] \n",
    "U = -1 - X**2 + Y \n",
    "V = 1 + X - Y**2 \n",
    "from matplotlib.cbook import get_sample_data \n",
    "img = np.load(get_sample_data('axes_grid/bivariate_normal.npy'))"
   ]
  },
  {
   "cell_type": "markdown",
   "metadata": {},
   "source": [
    "# 2 Create Plot"
   ]
  },
  {
   "cell_type": "code",
   "execution_count": 4,
   "metadata": {},
   "outputs": [],
   "source": [
    "import matplotlib.pyplot as plt"
   ]
  },
  {
   "cell_type": "code",
   "execution_count": null,
   "metadata": {},
   "outputs": [],
   "source": [
    "# Figure\n",
    "fig = plt.figure() \n",
    "fig2 = plt.figure(figsize=plt.figaspect(2.0))"
   ]
  },
  {
   "cell_type": "code",
   "execution_count": null,
   "metadata": {},
   "outputs": [],
   "source": [
    "# Axes\n",
    "# All plotting is done with respect to an Axes. In most cases,\n",
    "# a subplot will fit your needs. A subplot is an axes on a grid system. \n",
    "\n",
    "fig.add_axes() \n",
    "ax1 = fig.add_subplot(221) # row-col-num \n",
    "ax3 = fig.add_subplot(212) \n",
    "fig3, axes = plt.subplots(nrows=2,ncols=2) \n",
    "fig4, axes2 = plt.subplots(ncols=3) "
   ]
  },
  {
   "cell_type": "markdown",
   "metadata": {},
   "source": [
    "# 3 Plotting Routines"
   ]
  },
  {
   "cell_type": "markdown",
   "metadata": {},
   "source": [
    "### 1D Data"
   ]
  },
  {
   "cell_type": "code",
   "execution_count": null,
   "metadata": {},
   "outputs": [],
   "source": [
    "fig, ax = plt.subplots() \n",
    "lines = ax.plot(x,y)             # Draw points with lines or markers connecting them \n",
    "ax.scatter(x,y)                  # Draw unconnected points, scaled or colored \n",
    "axes[0,0].bar([1,2,3],[3,4,5])   # Plot vertical rectangles (constant width)       \n",
    "axes[1,0].barh([0.5,1,2.5],[0,1,2]) # Plot horiontal rectangles (constant height) \n",
    "axes[1,1].axhline(0.45)          # Draw a horizontal line across axes   \n",
    "axes[0,1].axvline(0.65)          # Draw a vertical line across axes \n",
    "ax.fill(x,y,color='blue')         # Draw filled polygons \n",
    "ax.fill_between(x,y,color='yellow')  # Fill between y-values and 0 "
   ]
  },
  {
   "cell_type": "markdown",
   "metadata": {},
   "source": [
    "### 2D Data or Images"
   ]
  },
  {
   "cell_type": "code",
   "execution_count": null,
   "metadata": {},
   "outputs": [],
   "source": [
    "fig, ax = plt.subplots() \n",
    "im = ax.imshow(img,                      #Colormapped or RGB arrays                                                          \n",
    "               cmap='gist_earth',           \n",
    "               interpolation='nearest',\n",
    "               vmin=-2, \n",
    "               vmax=2)"
   ]
  },
  {
   "cell_type": "code",
   "execution_count": null,
   "metadata": {},
   "outputs": [],
   "source": [
    "axes2[0].pcolor(data2)       # Pseudocolor plot of 2D array \n",
    "axes2[0].pcolormesh(data)    # Pseudocolor plot of 2D array \n",
    "CS = plt.contour(Y,X,U)      # Plot contours \n",
    "axes2[2].contourf(data1)     # Plot filled contours \n",
    "axes2[2]= ax.clabel(CS)      # Label a contour plot"
   ]
  },
  {
   "cell_type": "markdown",
   "metadata": {},
   "source": [
    "### Vector Fields "
   ]
  },
  {
   "cell_type": "code",
   "execution_count": null,
   "metadata": {},
   "outputs": [],
   "source": [
    "axes[0,1].arrow(0,0,0.5,0.5)    # Add an arrow to the axes \n",
    "axes[1,1].quiver(y,z)           # Plot a 2D field of arrows \n",
    "axes[0,1].streamplot(X,Y,U,V)   # Plot a 2D field of arrows "
   ]
  },
  {
   "cell_type": "markdown",
   "metadata": {},
   "source": [
    "### Data Distributions "
   ]
  },
  {
   "cell_type": "code",
   "execution_count": null,
   "metadata": {},
   "outputs": [],
   "source": [
    "ax1.hist(y)           # Plot a histogram \n",
    "ax3.boxplot(y)        # Make a box and whisker plot \n",
    "ax3.violinplot(z)     # Make a violin plot"
   ]
  },
  {
   "cell_type": "markdown",
   "metadata": {},
   "source": [
    "# 4 Customize Plot"
   ]
  },
  {
   "cell_type": "markdown",
   "metadata": {},
   "source": [
    "### Colors, Color Bars & Color Maps"
   ]
  },
  {
   "cell_type": "code",
   "execution_count": null,
   "metadata": {},
   "outputs": [],
   "source": [
    "plt.plot(x, x, x, x**2, x, x**3) \n",
    "ax.plot(x, y, alpha = 0.4) \n",
    "ax.plot(x, y, c='k') \n",
    "fig.colorbar(im, orientation='horizontal') \n",
    "im = ax.imshow(img,cmap='seismic')"
   ]
  },
  {
   "cell_type": "markdown",
   "metadata": {},
   "source": [
    "### Markers"
   ]
  },
  {
   "cell_type": "code",
   "execution_count": null,
   "metadata": {},
   "outputs": [],
   "source": [
    "fig, ax = plt.subplots() \n",
    "ax.scatter(x,y,marker=\".\") \n",
    "ax.plot(x,y,marker=\"o\""
   ]
  },
  {
   "cell_type": "markdown",
   "metadata": {},
   "source": [
    "### Linestyles"
   ]
  },
  {
   "cell_type": "code",
   "execution_count": null,
   "metadata": {},
   "outputs": [],
   "source": [
    "plt.plot(x,y,linewidth=4.0) \n",
    "plt.plot(x,y,ls='solid') \n",
    "plt.plot(x,y,ls='--') \n",
    "plt.plot(x,y,'--',x**2,y**2,'-.') \n",
    "plt.setp(lines,color='r',linewidth=4.0)"
   ]
  },
  {
   "cell_type": "markdown",
   "metadata": {},
   "source": [
    "### Text & Annotations"
   ]
  },
  {
   "cell_type": "code",
   "execution_count": null,
   "metadata": {},
   "outputs": [],
   "source": [
    "ax.text(1,     \n",
    "            -2.1,            \n",
    "            'Example Graph',            \n",
    "            style='italic')\n",
    "ax.annotate(\"Sine\",                \n",
    "                xy=(8, 0),                 \n",
    "                xycoords='data',                \n",
    "                xytext=(10.5, 0),                 \n",
    "                textcoords='data',               \n",
    "                arrowprops=dict(arrowstyle=\"->\",                            \n",
    "                                connectionstyle=\"arc3\"),)"
   ]
  },
  {
   "cell_type": "markdown",
   "metadata": {},
   "source": [
    "### Mathtext"
   ]
  },
  {
   "cell_type": "code",
   "execution_count": null,
   "metadata": {},
   "outputs": [],
   "source": [
    " plt.title(r'$sigma_i=15$', fontsize=20)"
   ]
  },
  {
   "cell_type": "markdown",
   "metadata": {},
   "source": [
    "### Limits, Legends & Layouts\n",
    " "
   ]
  },
  {
   "cell_type": "code",
   "execution_count": null,
   "metadata": {},
   "outputs": [],
   "source": [
    "# Limits & Autoscaling \n",
    "ax.margins(x=0.0,y=0.1)                      # Add padding to a plot \n",
    "ax.axis('equal')                             # Set the aspect ratio of the plot to 1 \n",
    "ax.set(xlim=[0,10.5],ylim=[-1.5,1.5])        # Set limits for x-and y-axis \n",
    "ax.set_xlim(0,10.5)                          # Set limits for x-axis   \n",
    "\n",
    "# Legends \n",
    "ax.set(title='An Example Axes',ylabel='Y-Axis',xlabel='X-Axis')# Set a title and x-and y-axis labels\n",
    "ax.legend(loc='best')      # No overlapping plot elements                     \n",
    "                          \n",
    "# Ticks \n",
    "ax.xaxis.set(ticks=range(1,5),ticklabels=[3,100,-12,\"foo\"])  # Manually set x-ticks               \n",
    "ax.tick_params(axis='y', direction='inout',length=10)  # Make y-ticks longer and go in and out                     \n",
    "\n",
    "# Subplot Spacing \n",
    "fig3.subplots_adjust(wspace=0.5,              # Adjust the spacing between subplots                        hspace=0.3,left=0.125,right=0.9,op=0.9,bottom=0.1) \n",
    "fig.tight_layout()                            # Fit subplot(s) in to the figure area   \n",
    "\n",
    "# Axis Spines \n",
    "ax1.spines['top'].set_visible(False)          # Make the top axis line for a plot invisible \n",
    "ax1.spines['bottom'].set_position(('outward',10)) # Move the bottom axis line outward"
   ]
  },
  {
   "cell_type": "markdown",
   "metadata": {},
   "source": [
    "# 5 Save Plot"
   ]
  },
  {
   "cell_type": "code",
   "execution_count": null,
   "metadata": {},
   "outputs": [],
   "source": [
    "# Save figures \n",
    "plt.savefig('foo.png')   \n",
    "\n",
    "# Save transparent figures \n",
    "plt.savefig('foo.png', transparent=True)"
   ]
  },
  {
   "cell_type": "markdown",
   "metadata": {},
   "source": [
    "# 6 Show Plot"
   ]
  },
  {
   "cell_type": "code",
   "execution_count": null,
   "metadata": {},
   "outputs": [],
   "source": [
    "plt.show()"
   ]
  },
  {
   "cell_type": "markdown",
   "metadata": {},
   "source": [
    "## Close & Clear "
   ]
  },
  {
   "cell_type": "code",
   "execution_count": null,
   "metadata": {},
   "outputs": [],
   "source": [
    "plt.cla()               # Clear an axis \n",
    "plt.clf()               # Clear the entire figure \n",
    "plt.close()             # Close a window"
   ]
  }
 ],
 "metadata": {
  "kernelspec": {
   "display_name": "Python 3",
   "language": "python",
   "name": "python3"
  },
  "language_info": {
   "codemirror_mode": {
    "name": "ipython",
    "version": 3
   },
   "file_extension": ".py",
   "mimetype": "text/x-python",
   "name": "python",
   "nbconvert_exporter": "python",
   "pygments_lexer": "ipython3",
   "version": "3.6.5"
  }
 },
 "nbformat": 4,
 "nbformat_minor": 2
}
