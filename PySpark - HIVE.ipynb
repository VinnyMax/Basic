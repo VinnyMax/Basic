{
 "cells": [
  {
   "cell_type": "markdown",
   "id": "cd39784b",
   "metadata": {},
   "source": [
    "### MONTAGEM DE AMBIENTE LOCAL PARA TESTES"
   ]
  },
  {
   "cell_type": "code",
   "execution_count": null,
   "id": "32f5653a",
   "metadata": {},
   "outputs": [],
   "source": [
    "import findspark\n",
    "findspark.init()"
   ]
  },
  {
   "cell_type": "code",
   "execution_count": null,
   "id": "ce2a17fb",
   "metadata": {},
   "outputs": [],
   "source": [
    "from pyspark.sql.types import *\n",
    "from pyspark.sql import *\n",
    "from pyspark import SQLContext, HiveContext, SparkContext\n",
    "import os\n",
    "import sys\n",
    "from datetime import date, datetime\n",
    "import pandas as pd"
   ]
  },
  {
   "cell_type": "code",
   "execution_count": null,
   "id": "0375d423",
   "metadata": {},
   "outputs": [],
   "source": [
    "SparkSession.builder.enableHiveSupport()"
   ]
  },
  {
   "cell_type": "code",
   "execution_count": null,
   "id": "bd78be1d",
   "metadata": {},
   "outputs": [],
   "source": [
    "sc.stop()"
   ]
  },
  {
   "cell_type": "code",
   "execution_count": null,
   "id": "af3e8c62",
   "metadata": {},
   "outputs": [],
   "source": [
    "sc = SparkContext()"
   ]
  },
  {
   "cell_type": "code",
   "execution_count": null,
   "id": "bd0302ce",
   "metadata": {},
   "outputs": [],
   "source": [
    "sqlContext = SQLContext(sc)"
   ]
  },
  {
   "cell_type": "code",
   "execution_count": null,
   "id": "5f9e46d5",
   "metadata": {},
   "outputs": [],
   "source": [
    "hive_context = HiveContext(sc)"
   ]
  },
  {
   "cell_type": "code",
   "execution_count": null,
   "id": "29c7f9cc",
   "metadata": {},
   "outputs": [],
   "source": [
    "hive_database = \"vc\""
   ]
  },
  {
   "cell_type": "code",
   "execution_count": null,
   "id": "3b896d92",
   "metadata": {},
   "outputs": [],
   "source": [
    "# Dev_enviroment - Montagem do ambiente [referencia -> Dev_Env]\n",
    "# Dev_Env - Criando o database\n",
    "x1 = hive_context.sql(\"\"\"show databases\"\"\").show()"
   ]
  },
  {
   "cell_type": "code",
   "execution_count": null,
   "id": "3c1d87c9",
   "metadata": {},
   "outputs": [],
   "source": [
    "#hive_context.sql(\"\"\"create database vc\"\"\")"
   ]
  },
  {
   "cell_type": "code",
   "execution_count": null,
   "id": "7c442904",
   "metadata": {},
   "outputs": [],
   "source": [
    "hive_context.sql('drop table if exists vc.vcdt254')"
   ]
  },
  {
   "cell_type": "code",
   "execution_count": null,
   "id": "6012b191",
   "metadata": {},
   "outputs": [],
   "source": [
    "hive_context.sql(\"show tables in vc\").show()\n",
    "+--------+---------+-----------+\n",
    "|database|tableName|isTemporary|\n",
    "+--------+---------+-----------+\n",
    "+--------+---------+-----------+"
   ]
  },
  {
   "cell_type": "code",
   "execution_count": null,
   "id": "5046d44f",
   "metadata": {},
   "outputs": [],
   "source": [
    "# Dev_Env - Criando a tabela\n",
    "hive_context.sql('drop table if exists vc.vcdt254')\n",
    "\n",
    "hive_context.sql(\"\"\"CREATE TABLE if not exists vc.vcdt254 \n",
    "(   nr_prop STRING,\n",
    "  nr_parc_prop STRING,\n",
    "  nr_apol STRING,\n",
    "  nr_cerf_segr STRING,\n",
    "  cd_segd STRING,\n",
    "  nr_sequ_movi DECIMAL(6,0),\n",
    "  cd_prod_segd STRING,\n",
    "  cd_subp_segd STRING,\n",
    "  dt_oper_cntb STRING,\n",
    "  dt_gera_cntb STRING,\n",
    "  cd_even_cntb STRING,\n",
    "  cd_idef_oper STRING,\n",
    "  nr_cnta_cntb STRING,\n",
    "  tp_cntb STRING,\n",
    "  vl_lanc_cntb DECIMAL(17,2),\n",
    "  tx_info_extt_ha STRING,\n",
    "  cd_empr_ulti_atlz STRING,\n",
    "  cd_cral_ulti_atlz STRING,\n",
    "  cd_usua_ulti_atlz STRING,\n",
    "  cd_tern_ulti_atlz STRING,\n",
    "  dh_ulti_atlz TIMESTAMP,\n",
    "  tx_just_lanc_manl STRING ) \n",
    "  PARTITIONED BY (   dat_ref_carga STRING )\n",
    "  STORED AS PARQUET LOCATION 'C//Temp//vc.db/vcdt254'\"\"\")"
   ]
  },
  {
   "cell_type": "code",
   "execution_count": null,
   "id": "beb79ef2",
   "metadata": {},
   "outputs": [],
   "source": [
    "# Dev_Env - Verificando se a tabela foi criada\n",
    "sqlContext.sql(\"\"\"show tables in vc\"\"\").show()\n",
    "+--------+---------+-----------+\n",
    "|database|tableName|isTemporary|\n",
    "+--------+---------+-----------+\n",
    "|      vc|  vcdt254|      false|\n",
    "+--------+---------+-----------+"
   ]
  },
  {
   "cell_type": "code",
   "execution_count": null,
   "id": "cf11f2d0",
   "metadata": {},
   "outputs": [],
   "source": [
    "# Dev_Env - Carregando arquivo de exemplo para um Pandas dataframe\n",
    "test_raw = pd.read_csv(\"C:\\\\Temp\\\\vcdt254_sample.csv\")"
   ]
  },
  {
   "cell_type": "code",
   "execution_count": null,
   "id": "8fa194b4",
   "metadata": {},
   "outputs": [],
   "source": [
    "# Dev_Env - criando um Spark Dataframe lendo o Pandas Dataframe\n",
    "spark_df = hive_context.createDataFrame(test_raw)"
   ]
  },
  {
   "cell_type": "code",
   "execution_count": null,
   "id": "bf9e8cf2",
   "metadata": {},
   "outputs": [],
   "source": [
    "# Dev_Env - Salvando o Spark Dataframe na tabela criada\n",
    "spark_df.write.mode(\"overwrite\").saveAsTable(\"vc.vcdt254\")"
   ]
  },
  {
   "cell_type": "code",
   "execution_count": null,
   "id": "9a2b4c66",
   "metadata": {},
   "outputs": [],
   "source": [
    "# Dev_Env - Verificando registros na tabela\n",
    "hive_context.sql(\"\"\"select * from vc.vcdt254\"\"\").count()\n",
    "#25"
   ]
  },
  {
   "cell_type": "code",
   "execution_count": null,
   "id": "c16d600a",
   "metadata": {},
   "outputs": [],
   "source": [
    "spark_df.printSchema()\n",
    "root\n",
    " |-- nr_prop: long (nullable = true)\n",
    " |-- nr_parc_prop: long (nullable = true)\n",
    " |-- nr_apol: double (nullable = true)\n",
    " |-- nr_cerf_segr: double (nullable = true)\n",
    " |-- cd_segd: long (nullable = true)\n",
    " |-- nr_sequ_movi: long (nullable = true)\n",
    " |-- cd_prod_segd: long (nullable = true)\n",
    " |-- cd_subp_segd: long (nullable = true)\n",
    " |-- dt_oper_cntb: string (nullable = true)\n",
    " |-- dt_gera_cntb: string (nullable = true)\n",
    " |-- cd_even_cntb: long (nullable = true)\n",
    " |-- cd_idef_oper: long (nullable = true)\n",
    " |-- nr_cnta_cntb: long (nullable = true)\n",
    " |-- tp_cntb: long (nullable = true)\n",
    " |-- vl_lanc_cntb: double (nullable = true)\n",
    " |-- tx_info_extt_ha: string (nullable = true)\n",
    " |-- cd_empr_ulti_atlz: long (nullable = true)\n",
    " |-- cd_cral_ulti_atlz: long (nullable = true)\n",
    " |-- cd_usua_ulti_atlz: string (nullable = true)\n",
    " |-- cd_tern_ulti_atlz: string (nullable = true)\n",
    " |-- dh_ulti_atlz: string (nullable = true)\n",
    " |-- tx_just_lanc_manl: double (nullable = true)\n",
    " |-- dat_ref_carga: string (nullable = true)"
   ]
  }
 ],
 "metadata": {
  "kernelspec": {
   "display_name": "Python 3 (ipykernel)",
   "language": "python",
   "name": "python3"
  },
  "language_info": {
   "codemirror_mode": {
    "name": "ipython",
    "version": 3
   },
   "file_extension": ".py",
   "mimetype": "text/x-python",
   "name": "python",
   "nbconvert_exporter": "python",
   "pygments_lexer": "ipython3",
   "version": "3.9.6"
  }
 },
 "nbformat": 4,
 "nbformat_minor": 5
}
