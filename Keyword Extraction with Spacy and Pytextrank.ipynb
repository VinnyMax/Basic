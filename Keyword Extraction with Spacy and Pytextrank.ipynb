{
 "cells": [
  {
   "cell_type": "code",
   "execution_count": null,
   "id": "cd539ce8",
   "metadata": {},
   "outputs": [],
   "source": [
    "import spacy"
   ]
  },
  {
   "cell_type": "code",
   "execution_count": 5,
   "id": "ad4bd2d8",
   "metadata": {},
   "outputs": [],
   "source": [
    "import pytextrank"
   ]
  },
  {
   "cell_type": "code",
   "execution_count": null,
   "id": "e9094ab0",
   "metadata": {},
   "outputs": [],
   "source": [
    "!pip install pytextrank"
   ]
  },
  {
   "cell_type": "code",
   "execution_count": 6,
   "id": "be23e084",
   "metadata": {},
   "outputs": [
    {
     "name": "stdout",
     "output_type": "stream",
     "text": [
      "mixed types\n",
      "0.18224422086397363 1\n",
      "[mixed types]\n",
      "systems\n",
      "0.177894013810666 3\n",
      "[systems, systems, systems]\n",
      "minimal generating sets\n",
      "0.15012796482367466 1\n",
      "[minimal generating sets]\n",
      "nonstrict inequations\n",
      "0.14619431119413756 1\n",
      "[nonstrict inequations]\n",
      "strict inequations\n",
      "0.13846949336886627 1\n",
      "[strict inequations]\n",
      "linear Diophantine equations\n",
      "0.11980429601355375 1\n",
      "[linear Diophantine equations]\n",
      "natural numbers\n",
      "0.11382139867518232 1\n",
      "[natural numbers]\n",
      "solutions\n",
      "0.10728967890810522 2\n",
      "[solutions, solutions]\n",
      "linear constraints\n",
      "0.10596399779473555 1\n",
      "[linear constraints]\n",
      "all the considered types systems\n",
      "0.10307674738889895 1\n",
      "[all the considered types systems]\n",
      "a system\n",
      "0.0821657254086488 1\n",
      "[a system]\n",
      "a minimal set\n",
      "0.07936702627887375 1\n",
      "[a minimal set]\n",
      "algorithms\n",
      "0.07767154470857095 1\n",
      "[algorithms]\n",
      "all types\n",
      "0.07537595845740168 1\n",
      "[all types]\n",
      "Diophantine\n",
      "0.07289137414374329 1\n",
      "[Diophantine]\n",
      "construction\n",
      "0.0698386527264134 1\n",
      "[construction]\n",
      "a minimal\n",
      "supporting set\n",
      "0.06515343963918843 1\n",
      "[a minimal\n",
      "supporting set]\n",
      "the set\n",
      "0.05788665445044401 1\n",
      "[the set]\n",
      "components\n",
      "0.05325049325497536 1\n",
      "[components]\n",
      "\n",
      "solutions\n",
      "0.04955497999909045 1\n",
      "[\n",
      "solutions]\n",
      "Compatibility\n",
      "0.04700606024274989 1\n",
      "[Compatibility]\n",
      "compatibility\n",
      "0.04700606024274989 1\n",
      "[compatibility]\n",
      "the corresponding algorithms\n",
      "0.0453939383534866 1\n",
      "[the corresponding algorithms]\n",
      "\n",
      "Criteria\n",
      "0.019165199360909206 1\n",
      "[\n",
      "Criteria]\n",
      "These criteria\n",
      "0.019165199360909206 1\n",
      "[These criteria]\n"
     ]
    }
   ],
   "source": [
    "# example text\n",
    "text = \"\"\"Compatibility of systems of linear constraints over the set of natural numbers.\n",
    "Criteria of compatibility of a system of linear Diophantine equations, strict inequations,\n",
    "and nonstrict inequations are considered. Upper bounds for components of a minimal set of\n",
    "solutions and algorithms of construction of minimal generating sets of solutions for all types\n",
    "of systems are given. These criteria and the corresponding algorithms for constructing a minimal\n",
    "supporting set of solutions can be used in solving all the considered types systems and systems of mixed types.\"\"\"\n",
    "\n",
    "# load a spaCy model, depending on language, scale, etc.\n",
    "nlp = spacy.load(\"en_core_web_sm\")\n",
    "# add PyTextRank to the spaCy pipeline\n",
    "nlp.add_pipe(\"textrank\")\n",
    "\n",
    "doc = nlp(text)\n",
    "# examine the top-ranked phrases in the document\n",
    "for phrase in doc._.phrases:\n",
    "    print(phrase.text)\n",
    "    print(phrase.rank, phrase.count)\n",
    "    print(phrase.chunks)"
   ]
  },
  {
   "cell_type": "code",
   "execution_count": null,
   "id": "aa8662f6",
   "metadata": {},
   "outputs": [],
   "source": []
  }
 ],
 "metadata": {
  "kernelspec": {
   "display_name": "Python 3 (ipykernel)",
   "language": "python",
   "name": "python3"
  },
  "language_info": {
   "codemirror_mode": {
    "name": "ipython",
    "version": 3
   },
   "file_extension": ".py",
   "mimetype": "text/x-python",
   "name": "python",
   "nbconvert_exporter": "python",
   "pygments_lexer": "ipython3",
   "version": "3.9.6"
  }
 },
 "nbformat": 4,
 "nbformat_minor": 5
}
